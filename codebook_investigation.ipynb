{
 "cells": [
  {
   "cell_type": "code",
   "execution_count": 4,
   "metadata": {},
   "outputs": [],
   "source": [
    "import numpy as np\n",
    "import torch \n",
    "from torch import nn\n",
    "from torch.nn import functional as F\n",
    "\n",
    "from typing import List, Callable, Union, Any, TypeVar, Tuple\n",
    "Tensor = TypeVar('torch.tensor')\n",
    "\n",
    "import torch.optim as optim\n",
    "\n",
    "\n",
    "# Data preprocessing utils : \n",
    "from utils.acdc_dataset import ACDC_Dataset, One_hot_Transform, load_dataset\n",
    "from torchvision.transforms import Compose\n",
    "from torchvision import transforms\n",
    "\n",
    "from torch.utils.data import DataLoader\n",
    "\n",
    "import seaborn as sns\n",
    "\n",
    "\n",
    "# Visuals utils\n",
    "import os\n",
    "import matplotlib.pyplot as plt\n",
    "from tqdm import tqdm\n",
    "import umap\n",
    "\n",
    "\n",
    "# my defined model\n",
    "from utils.vqVAE import VQVAE\n",
    "\n",
    "from matplotlib.colors import ListedColormap\n"
   ]
  },
  {
   "cell_type": "code",
   "execution_count": 5,
   "metadata": {},
   "outputs": [],
   "source": [
    "def codebook_hist_testset(model, val_loader):\n",
    "    model.eval()\n",
    "    hist = torch.zeros(model.vq_layer.K).to(device)\n",
    "    with torch.no_grad():\n",
    "        for batch in val_loader:\n",
    "            hist += model.codebook_usage(batch.float().to(device))\n",
    "    \n",
    "    hist = hist.detach().cpu().numpy()\n",
    "    unused_codes = len(np.where(hist == 0.0)[0])\n",
    "\n",
    "    percentage = (model.vq_layer.K - unused_codes)*100/model.vq_layer.K\n",
    "\n",
    "    print(f\" ONLY {model.vq_layer.K - unused_codes} OF CODES WERE USED FROM {model.vq_layer.K}, WHICH MAKE {percentage} % OF CODES FROM THE CODE-BOOK\")\n",
    "    return hist\n"
   ]
  },
  {
   "cell_type": "code",
   "execution_count": 6,
   "metadata": {},
   "outputs": [],
   "source": [
    "\n",
    "L = 128 # image size L=W\n",
    "BATCH_SIZE = 16\n",
    "\n"
   ]
  },
  {
   "cell_type": "code",
   "execution_count": 7,
   "metadata": {},
   "outputs": [],
   "source": [
    "dataset_path = \"/home/ids/ihamdaoui-21/ACDC/database\"\n",
    "\n",
    "train_set_path = os.path.join(dataset_path, \"training\")\n",
    "test_set_path  = os.path.join(dataset_path, \"testing\")\n",
    "\n",
    "test_dataset  = load_dataset(test_set_path)\n"
   ]
  },
  {
   "cell_type": "code",
   "execution_count": 8,
   "metadata": {},
   "outputs": [],
   "source": [
    "input_transforms = Compose([\n",
    "    transforms.Resize(size=(L,L), interpolation=transforms.InterpolationMode.NEAREST),\n",
    "    One_hot_Transform(num_classes=4)\n",
    "    ])\n",
    "\n",
    "\n",
    "TestDataset  = ACDC_Dataset(data = test_dataset, transforms= input_transforms)\n",
    "\n",
    "TestLoader   = DataLoader(TestDataset , batch_size = BATCH_SIZE, shuffle = True)"
   ]
  },
  {
   "cell_type": "code",
   "execution_count": 9,
   "metadata": {},
   "outputs": [],
   "source": [
    "K =  512 # num_embeddings\n",
    "D =  64 # embedding_dim\n",
    "in_channels = 4 \n"
   ]
  },
  {
   "cell_type": "code",
   "execution_count": 10,
   "metadata": {},
   "outputs": [
    {
     "name": "stdout",
     "output_type": "stream",
     "text": [
      "True\n",
      "cuda:0\n"
     ]
    }
   ],
   "source": [
    "# detect gpu ?\n",
    "\n",
    "print(torch.cuda.is_available())\n",
    "\n",
    "device = torch.device(\"cuda:0\" if torch.cuda.is_available() else \"cpu\")\n",
    "print(device)"
   ]
  },
  {
   "cell_type": "code",
   "execution_count": 11,
   "metadata": {},
   "outputs": [],
   "source": [
    "vis_batch = next(iter(TestLoader)).to(device)"
   ]
  },
  {
   "cell_type": "markdown",
   "metadata": {},
   "source": [
    "## Model 100"
   ]
  },
  {
   "cell_type": "code",
   "execution_count": 51,
   "metadata": {},
   "outputs": [
    {
     "name": "stderr",
     "output_type": "stream",
     "text": [
      "/tmp/ipykernel_3705004/1315759818.py:4: FutureWarning: You are using `torch.load` with `weights_only=False` (the current default value), which uses the default pickle module implicitly. It is possible to construct malicious pickle data which will execute arbitrary code during unpickling (See https://github.com/pytorch/pytorch/blob/main/SECURITY.md#untrusted-models for more details). In a future release, the default value for `weights_only` will be flipped to `True`. This limits the functions that could be executed during unpickling. Arbitrary objects will no longer be allowed to be loaded via this mode unless they are explicitly allowlisted by the user via `torch.serialization.add_safe_globals`. We recommend you start setting `weights_only=True` for any use case where you don't have full control of the loaded file. Please open an issue on GitHub for any issues related to this experimental feature.\n",
      "  model.load_state_dict(torch.load(model_path)['model_state_dict'])\n"
     ]
    }
   ],
   "source": [
    "model_path = 'saved_models/vqvae_100_bestmodel.pth'\n",
    "\n",
    "model = VQVAE(in_channels, 64, 512)\n",
    "model.load_state_dict(torch.load(model_path)['model_state_dict'])\n",
    "model = model.to(device)"
   ]
  },
  {
   "cell_type": "code",
   "execution_count": 52,
   "metadata": {},
   "outputs": [
    {
     "name": "stdout",
     "output_type": "stream",
     "text": [
      " ONLY 89 OF CODES WERE USED FROM 512, WHICH MAKE 17.3828125 % OF CODES FROM THE CODE-BOOK\n"
     ]
    }
   ],
   "source": [
    "hist = codebook_hist_testset(model, TestLoader)\n",
    "# hist = hist/torch.sum(hist)"
   ]
  },
  {
   "cell_type": "code",
   "execution_count": 53,
   "metadata": {},
   "outputs": [
    {
     "data": {
      "image/png": "[encoded data removed]",
      "text/plain": [
       "<Figure size 2000x600 with 1 Axes>"
      ]
     },
     "metadata": {},
     "output_type": "display_data"
    }
   ],
   "source": [
    "plt.figure(figsize=(20, 6))\n",
    "plt.bar(range(len(hist)), hist)\n",
    "plt.yscale('log')"
   ]
  },
  {
   "cell_type": "code",
   "execution_count": 54,
   "metadata": {},
   "outputs": [],
   "source": [
    "# codebook = model.vq_layer.embedding.weight.data.cpu().detach().numpy()"
   ]
  },
  {
   "cell_type": "markdown",
   "metadata": {},
   "source": [
    "## Model 101"
   ]
  },
  {
   "cell_type": "code",
   "execution_count": 16,
   "metadata": {},
   "outputs": [],
   "source": [
    "model_path = 'saved_models/vqvae_101_bestmodel.pth'\n",
    "\n",
    "model = VQVAE(in_channels, 64, 512)\n",
    "model.load_state_dict(torch.load(model_path)['model_state_dict'])\n",
    "model = model.to(device)"
   ]
  },
  {
   "cell_type": "code",
   "execution_count": 17,
   "metadata": {},
   "outputs": [],
   "source": [
    "hist = codebook_hist_testset(model, TestLoader).detach().cpu().numpy()\n",
    "# hist = hist/torch.sum(hist)"
   ]
  },
  {
   "cell_type": "code",
   "execution_count": 19,
   "metadata": {},
   "outputs": [
    {
     "name": "stdout",
     "output_type": "stream",
     "text": [
      " ONLY 70 OF CODES WERE USED, WHICH MAKE 13.671875 % OF CODES FROM THE CODE-BOOK\n"
     ]
    }
   ],
   "source": [
    "#CodeBook percentage usage \n",
    "unused_codes = len(np.where(hist == 0.0)[0])\n",
    "\n",
    "percentage = (512 - unused_codes)*100/512\n",
    "\n",
    "print(f\" ONLY {512 - unused_codes} OF CODES WERE USED, WHICH MAKE {percentage} % OF CODES FROM THE CODE-BOOK\")\n"
   ]
  },
  {
   "cell_type": "markdown",
   "metadata": {},
   "source": [
    "# Model 102"
   ]
  },
  {
   "cell_type": "code",
   "execution_count": 46,
   "metadata": {},
   "outputs": [],
   "source": [
    "model_path = 'saved_models/vqvae_102_bestmodel.pth'\n",
    "\n",
    "model = VQVAE(in_channels, 32, 256)\n",
    "model.load_state_dict(torch.load(model_path)['model_state_dict'])\n",
    "model = model.to(device)"
   ]
  },
  {
   "cell_type": "code",
   "execution_count": 47,
   "metadata": {},
   "outputs": [],
   "source": [
    "hist = codebook_hist_testset(model, TestLoader).detach().cpu().numpy()\n",
    "# hist = hist/torch.sum(hist)"
   ]
  },
  {
   "cell_type": "code",
   "execution_count": 51,
   "metadata": {},
   "outputs": [
    {
     "name": "stdout",
     "output_type": "stream",
     "text": [
      " ONLY 53 OF CODES WERE USED, WHICH MAKE 20.703125 % OF CODES FROM THE CODE-BOOK\n"
     ]
    }
   ],
   "source": [
    "#CodeBook percentage usage \n",
    "unused_codes = len(np.where(hist == 0.0)[0])\n",
    "\n",
    "percentage = (model.vq_layer.K - unused_codes)*100/model.vq_layer.K\n",
    "\n",
    "print(f\" ONLY {model.vq_layer.K - unused_codes} OF CODES WERE USED, WHICH MAKE {percentage} % OF CODES FROM THE CODE-BOOK\")\n"
   ]
  },
  {
   "cell_type": "markdown",
   "metadata": {},
   "source": [
    "# Model 103"
   ]
  },
  {
   "cell_type": "markdown",
   "metadata": {},
   "source": []
  },
  {
   "cell_type": "code",
   "execution_count": 52,
   "metadata": {},
   "outputs": [],
   "source": [
    "model_path = 'saved_models/vqvae_103_bestmodel.pth'\n",
    "\n",
    "model = VQVAE(in_channels, 64, 512)\n",
    "model.load_state_dict(torch.load(model_path)['model_state_dict'])\n",
    "model = model.to(device)"
   ]
  },
  {
   "cell_type": "code",
   "execution_count": 53,
   "metadata": {},
   "outputs": [],
   "source": [
    "hist = codebook_hist_testset(model, TestLoader).detach().cpu().numpy()\n",
    "# hist = hist/torch.sum(hist)"
   ]
  },
  {
   "cell_type": "code",
   "execution_count": 55,
   "metadata": {},
   "outputs": [
    {
     "name": "stdout",
     "output_type": "stream",
     "text": [
      " ONLY 40 OF CODES WERE USED, WHICH MAKE 7.8125 % OF CODES FROM THE CODE-BOOK\n"
     ]
    }
   ],
   "source": [
    "#CodeBook percentage usage \n",
    "unused_codes = len(np.where(hist == 0.0)[0])\n",
    "<\n",
    "percentage = (512 - unused_codes)*100/512\n",
    "\n",
    "print(f\" ONLY {512 - unused_codes} OF CODES WERE USED, WHICH MAKE {percentage} % OF CODES FROM THE CODE-BOOK\")\n"
   ]
  },
  {
   "cell_type": "markdown",
   "metadata": {},
   "source": [
    "### model 104"
   ]
  },
  {
   "cell_type": "code",
   "execution_count": 12,
   "metadata": {},
   "outputs": [
    {
     "name": "stderr",
     "output_type": "stream",
     "text": [
      "/tmp/ipykernel_4101420/3320319199.py:4: FutureWarning: You are using `torch.load` with `weights_only=False` (the current default value), which uses the default pickle module implicitly. It is possible to construct malicious pickle data which will execute arbitrary code during unpickling (See https://github.com/pytorch/pytorch/blob/main/SECURITY.md#untrusted-models for more details). In a future release, the default value for `weights_only` will be flipped to `True`. This limits the functions that could be executed during unpickling. Arbitrary objects will no longer be allowed to be loaded via this mode unless they are explicitly allowlisted by the user via `torch.serialization.add_safe_globals`. We recommend you start setting `weights_only=True` for any use case where you don't have full control of the loaded file. Please open an issue on GitHub for any issues related to this experimental feature.\n",
      "  model.load_state_dict(torch.load(model_path)['model_state_dict'])\n"
     ]
    }
   ],
   "source": [
    "model_path = 'saved_models/vqvae_104_bestmodel.pth'\n",
    "\n",
    "model = VQVAE(in_channels, 64, 256)\n",
    "model.load_state_dict(torch.load(model_path)['model_state_dict'])\n",
    "model = model.to(device)"
   ]
  },
  {
   "cell_type": "code",
   "execution_count": 14,
   "metadata": {},
   "outputs": [
    {
     "name": "stdout",
     "output_type": "stream",
     "text": [
      " ONLY 22 OF CODES WERE USED FROM 256, WHICH MAKE 8.59375 % OF CODES FROM THE CODE-BOOK\n"
     ]
    }
   ],
   "source": [
    "hist = codebook_hist_testset(model, TestLoader)\n",
    "# hist = hist/torch.sum(hist)"
   ]
  },
  {
   "cell_type": "code",
   "execution_count": 15,
   "metadata": {},
   "outputs": [
    {
     "name": "stdout",
     "output_type": "stream",
     "text": [
      " ONLY 22 OF CODES WERE USED, WHICH MAKE 8.59375 % OF CODES FROM THE CODE-BOOK\n"
     ]
    }
   ],
   "source": [
    "#CodeBook percentage usage \n",
    "unused_codes = len(np.where(hist == 0.0)[0])\n",
    "\n",
    "percentage = (model.vq_layer.K - unused_codes)*100/model.vq_layer.K\n",
    "\n",
    "print(f\" ONLY {model.vq_layer.K - unused_codes} OF CODES WERE USED, WHICH MAKE {percentage} % OF CODES FROM THE CODE-BOOK\")\n"
   ]
  },
  {
   "cell_type": "markdown",
   "metadata": {},
   "source": [
    "# model 105"
   ]
  },
  {
   "cell_type": "code",
   "execution_count": 18,
   "metadata": {},
   "outputs": [
    {
     "name": "stderr",
     "output_type": "stream",
     "text": [
      "/tmp/ipykernel_4101420/2186501170.py:4: FutureWarning: You are using `torch.load` with `weights_only=False` (the current default value), which uses the default pickle module implicitly. It is possible to construct malicious pickle data which will execute arbitrary code during unpickling (See https://github.com/pytorch/pytorch/blob/main/SECURITY.md#untrusted-models for more details). In a future release, the default value for `weights_only` will be flipped to `True`. This limits the functions that could be executed during unpickling. Arbitrary objects will no longer be allowed to be loaded via this mode unless they are explicitly allowlisted by the user via `torch.serialization.add_safe_globals`. We recommend you start setting `weights_only=True` for any use case where you don't have full control of the loaded file. Please open an issue on GitHub for any issues related to this experimental feature.\n",
      "  model.load_state_dict(torch.load(model_path)['model_state_dict'])\n"
     ]
    }
   ],
   "source": [
    "model_path = 'saved_models/vqvae_105_bestmodel.pth'\n",
    "\n",
    "model = VQVAE(in_channels, 64, 512, downsampling_factor=8)\n",
    "model.load_state_dict(torch.load(model_path)['model_state_dict'])\n",
    "model = model.to(device)"
   ]
  },
  {
   "cell_type": "code",
   "execution_count": 20,
   "metadata": {},
   "outputs": [
    {
     "name": "stdout",
     "output_type": "stream",
     "text": [
      " ONLY 49 OF CODES WERE USED FROM 512, WHICH MAKE 9.5703125 % OF CODES FROM THE CODE-BOOK\n"
     ]
    }
   ],
   "source": [
    "hist = codebook_hist_testset(model, TestLoader)\n",
    "# hist = hist/torch.sum(hist)"
   ]
  },
  {
   "cell_type": "code",
   "execution_count": 21,
   "metadata": {},
   "outputs": [
    {
     "name": "stdout",
     "output_type": "stream",
     "text": [
      " ONLY 49 OF CODES WERE USED, WHICH MAKE 9.5703125 % OF CODES FROM THE CODE-BOOK\n"
     ]
    }
   ],
   "source": [
    "#CodeBook percentage usage \n",
    "unused_codes = len(np.where(hist == 0.0)[0])\n",
    "\n",
    "percentage = (model.vq_layer.K - unused_codes)*100/model.vq_layer.K\n",
    "\n",
    "print(f\" ONLY {model.vq_layer.K - unused_codes} OF CODES WERE USED, WHICH MAKE {percentage} % OF CODES FROM THE CODE-BOOK\")\n"
   ]
  },
  {
   "cell_type": "markdown",
   "metadata": {},
   "source": [
    "--------------------------"
   ]
  },
  {
   "cell_type": "markdown",
   "metadata": {},
   "source": [
    "# Re-Fit model"
   ]
  },
  {
   "cell_type": "markdown",
   "metadata": {},
   "source": [
    "### model 100"
   ]
  },
  {
   "cell_type": "code",
   "execution_count": 9,
   "metadata": {},
   "outputs": [
    {
     "name": "stderr",
     "output_type": "stream",
     "text": [
      "/tmp/ipykernel_2703853/1849857965.py:4: FutureWarning: You are using `torch.load` with `weights_only=False` (the current default value), which uses the default pickle module implicitly. It is possible to construct malicious pickle data which will execute arbitrary code during unpickling (See https://github.com/pytorch/pytorch/blob/main/SECURITY.md#untrusted-models for more details). In a future release, the default value for `weights_only` will be flipped to `True`. This limits the functions that could be executed during unpickling. Arbitrary objects will no longer be allowed to be loaded via this mode unless they are explicitly allowlisted by the user via `torch.serialization.add_safe_globals`. We recommend you start setting `weights_only=True` for any use case where you don't have full control of the loaded file. Please open an issue on GitHub for any issues related to this experimental feature.\n",
      "  model.load_state_dict(torch.load(model_path)['model_state_dict'])\n"
     ]
    }
   ],
   "source": [
    "model_path = 'Re_Fit_models/vqvae_100_bestmodel.pth'\n",
    "\n",
    "model = VQVAE(in_channels, 64, 256)\n",
    "model.load_state_dict(torch.load(model_path)['model_state_dict'])\n",
    "model = model.to(device)"
   ]
  },
  {
   "cell_type": "code",
   "execution_count": 10,
   "metadata": {},
   "outputs": [
    {
     "name": "stdout",
     "output_type": "stream",
     "text": [
      " ONLY 256 OF CODES WERE USED FROM 256, WHICH MAKE 100.0 % OF CODES FROM THE CODE-BOOK\n"
     ]
    }
   ],
   "source": [
    "hist = codebook_hist_testset(model, TestLoader)\n",
    "# hist = hist/torch.sum(hist)"
   ]
  },
  {
   "cell_type": "code",
   "execution_count": 11,
   "metadata": {},
   "outputs": [
    {
     "data": {
      "image/png": "[encoded data removed]",
      "text/plain": [
       "<Figure size 2000x600 with 1 Axes>"
      ]
     },
     "metadata": {},
     "output_type": "display_data"
    }
   ],
   "source": [
    "plt.figure(figsize=(20, 6))\n",
    "plt.bar(range(len(hist)), hist)\n",
    "plt.yscale('log')"
   ]
  },
  {
   "cell_type": "markdown",
   "metadata": {},
   "source": [
    "### model 101"
   ]
  },
  {
   "cell_type": "code",
   "execution_count": 17,
   "metadata": {},
   "outputs": [
    {
     "name": "stderr",
     "output_type": "stream",
     "text": [
      "/tmp/ipykernel_2703853/3014777923.py:4: FutureWarning: You are using `torch.load` with `weights_only=False` (the current default value), which uses the default pickle module implicitly. It is possible to construct malicious pickle data which will execute arbitrary code during unpickling (See https://github.com/pytorch/pytorch/blob/main/SECURITY.md#untrusted-models for more details). In a future release, the default value for `weights_only` will be flipped to `True`. This limits the functions that could be executed during unpickling. Arbitrary objects will no longer be allowed to be loaded via this mode unless they are explicitly allowlisted by the user via `torch.serialization.add_safe_globals`. We recommend you start setting `weights_only=True` for any use case where you don't have full control of the loaded file. Please open an issue on GitHub for any issues related to this experimental feature.\n",
      "  model.load_state_dict(torch.load(model_path)['model_state_dict'])\n"
     ]
    }
   ],
   "source": [
    "model_path = 'Re_Fit_models/vqvae_101_bestmodel.pth'\n",
    "\n",
    "model = VQVAE(in_channels, 64, 128)\n",
    "model.load_state_dict(torch.load(model_path)['model_state_dict'])\n",
    "model = model.to(device)"
   ]
  },
  {
   "cell_type": "code",
   "execution_count": 18,
   "metadata": {},
   "outputs": [
    {
     "name": "stdout",
     "output_type": "stream",
     "text": [
      " ONLY 128 OF CODES WERE USED FROM 128, WHICH MAKE 100.0 % OF CODES FROM THE CODE-BOOK\n"
     ]
    }
   ],
   "source": [
    "hist = codebook_hist_testset(model, TestLoader)\n",
    "# hist = hist/torch.sum(hist)"
   ]
  },
  {
   "cell_type": "code",
   "execution_count": 19,
   "metadata": {},
   "outputs": [
    {
     "data": {
      "image/png": "[encoded data removed]",
      "text/plain": [
       "<Figure size 2000x600 with 1 Axes>"
      ]
     },
     "metadata": {},
     "output_type": "display_data"
    }
   ],
   "source": [
    "plt.figure(figsize=(20, 6))\n",
    "plt.bar(range(len(hist)), hist)\n",
    "plt.yscale('log')"
   ]
  }
 ],
 "metadata": {
  "kernelspec": {
   "display_name": "Python torch",
   "language": "python",
   "name": "torch"
  },
  "language_info": {
   "codemirror_mode": {
    "name": "ipython",
    "version": 3
   },
   "file_extension": ".py",
   "mimetype": "text/x-python",
   "name": "python",
   "nbconvert_exporter": "python",
   "pygments_lexer": "ipython3",
   "version": "3.9.20"
  }
 },
 "nbformat": 4,
 "nbformat_minor": 2
}
