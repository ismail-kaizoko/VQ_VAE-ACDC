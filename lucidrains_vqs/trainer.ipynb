{
 "cells": [
  {
   "cell_type": "code",
   "execution_count": 3,
   "metadata": {},
   "outputs": [],
   "source": [
    "import numpy as np\n",
    "import torch \n",
    "from torch import nn\n",
    "from torch.nn import functional as F\n",
    "\n",
    "import torch.optim as optim\n",
    "\n",
    "\n",
    "# Data preprocessing utils : \n",
    "from torchvision.transforms import Compose\n",
    "from torchvision import transforms\n",
    "from torch.utils.data import DataLoader\n",
    "\n",
    "# Visuals utils\n",
    "import os\n",
    "import matplotlib.pyplot as plt\n",
    "from tqdm import tqdm\n",
    "\n",
    "# my defined model\n",
    "from utils.acdc_dataset import *\n",
    "from utils.funcs import *\n",
    "from utils.vqvae import *"
   ]
  },
  {
   "cell_type": "code",
   "execution_count": 5,
   "metadata": {},
   "outputs": [],
   "source": [
    "######################## Parameters ######################\n",
    "\n",
    "# dataset params :\n",
    "L = 128  # length of input images\n",
    "data_modality = 'SEG'  # either 'SEG' to use segmentation dataset or 'MRI' for gray-scale MRIs\n",
    "\n",
    "\n",
    "# training params\n",
    "BATCH_SIZE = 16\n",
    "lr = 5e-4\n",
    "epochs = 100\n",
    "model_name = 'saved_models/seg_model_300.pth'\n",
    "\n",
    "\n",
    "# model hyper-params :\n",
    "K =  512 # num_embeddings\n",
    "D =  64  # embedding_dim \n",
    "downsampling_factor = 8\n",
    "\n",
    "use_residual = False # swicth to True if wants to use RQ-VAE\n",
    "num_quantizers = 2\n",
    "shared_codebook = False\n",
    "\n",
    "beta = .25\n",
    "decay = .8"
   ]
  },
  {
   "cell_type": "code",
   "execution_count": 6,
   "metadata": {},
   "outputs": [],
   "source": [
    "#################### dataset init ######################\n",
    "dataset_path = \"/home/ids/ihamdaoui-21/ACDC/database\"\n",
    "\n",
    "train_set_path = os.path.join(dataset_path, \"training\")\n",
    "test_set_path  = os.path.join(dataset_path, \"testing\")\n",
    "\n",
    "\n",
    "train_dataset = load_dataset(train_set_path, modality= data_modality)\n",
    "test_dataset  = load_dataset(test_set_path, modality= data_modality)\n",
    "\n",
    "\n",
    "if data_modality == 'SEG':\n",
    "    input_transforms = Compose([\n",
    "        transforms.Resize(size=(L,L), interpolation=transforms.InterpolationMode.NEAREST),\n",
    "        One_hot_Transform(num_classes=4)\n",
    "        ])\n",
    "else : \n",
    "    input_transforms = Compose([\n",
    "        transforms.Resize(size=(L,L), interpolation=transforms.InterpolationMode.NEAREST),\n",
    "        PercentileClip(lower_percentile=1, upper_percentile=99),\n",
    "        MinMaxNormalize(min_value=0.0, max_value=1.0),\n",
    "        ])\n",
    "\n",
    "\n",
    "TrainDataset = ACDC_Dataset(data = train_dataset, transforms= input_transforms) \n",
    "TestDataset  = ACDC_Dataset(data = test_dataset, transforms= input_transforms)\n",
    "\n",
    "TrainLoader  = DataLoader(TrainDataset, batch_size = BATCH_SIZE, shuffle = True)\n",
    "TestLoader   = DataLoader(TestDataset , batch_size = BATCH_SIZE, shuffle = False)\n",
    "\n"
   ]
  },
  {
   "cell_type": "code",
   "execution_count": 9,
   "metadata": {},
   "outputs": [],
   "source": [
    "\n",
    "# instanciate model :\n",
    "VQ_VAE =  VQVAE(embedding_dim= D,\n",
    "                num_embeddings= K,\n",
    "                downsampling_factor= downsampling_factor,\n",
    "                residual = use_residual,\n",
    "                num_quantizers = num_quantizers,\n",
    "                shared_codebook = shared_codebook,\n",
    "                beta = beta,\n",
    "                decay = decay,\n",
    "                data_mod = data_modality\n",
    "                    )\n",
    "\n",
    "device = torch.device(\"cuda:0\" if torch.cuda.is_available() else \"cpu\")\n",
    "model = VQ_VAE.to(device)\n",
    "\n",
    "optimizer = optim.AdamW(model.parameters(), lr=lr, weight_decay=1e-4)\n"
   ]
  },
  {
   "cell_type": "code",
   "execution_count": null,
   "metadata": {},
   "outputs": [],
   "source": []
  }
 ],
 "metadata": {
  "kernelspec": {
   "display_name": "Python torch",
   "language": "python",
   "name": "torch"
  },
  "language_info": {
   "codemirror_mode": {
    "name": "ipython",
    "version": 3
   },
   "file_extension": ".py",
   "mimetype": "text/x-python",
   "name": "python",
   "nbconvert_exporter": "python",
   "pygments_lexer": "ipython3",
   "version": "3.9.20"
  }
 },
 "nbformat": 4,
 "nbformat_minor": 2
}
