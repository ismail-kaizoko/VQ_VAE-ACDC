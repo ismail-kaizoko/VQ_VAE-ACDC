{
 "cells": [
  {
   "cell_type": "code",
   "execution_count": 1,
   "metadata": {},
   "outputs": [],
   "source": [
    "import numpy as np\n",
    "import torch \n",
    "from torch import nn\n",
    "from torch.nn import functional as F\n",
    "\n",
    "import torch.optim as optim\n",
    "\n",
    "\n",
    "# Data preprocessing utils : \n",
    "from torchvision.transforms import Compose\n",
    "from torchvision import transforms\n",
    "from torch.utils.data import DataLoader\n",
    "\n",
    "# Visuals utils\n",
    "import os\n",
    "import matplotlib.pyplot as plt\n",
    "from tqdm import tqdm\n",
    "\n",
    "# my defined model\n",
    "from utils.acdc_dataset import *\n",
    "from utils.funcs import *\n",
    "from utils.vqvae import *"
   ]
  },
  {
   "cell_type": "code",
   "execution_count": 2,
   "metadata": {},
   "outputs": [],
   "source": [
    "######################## Parameters ######################\n",
    "\n",
    "# dataset params :\n",
    "L = 128  # length of input images\n",
    "data_modality = 'SEG'  # either 'SEG' to use segmentation dataset or 'MRI' for gray-scale MRIs\n",
    "\n",
    "\n",
    "# training params\n",
    "BATCH_SIZE = 32\n",
    "lr = 5e-4\n",
    "epochs = 5\n",
    "model_name = 'saved_models/dummy_model.pth'\n",
    "\n",
    "\n",
    "# model hyper-params :\n",
    "K =  128 # num_embeddings\n",
    "D =  64  # embedding_dim \n",
    "downsampling_factor = 8\n",
    "\n",
    "use_residual = True # swicth to True if wants to use RQ-VAE\n",
    "num_quantizers = 2\n",
    "shared_codebook = False\n",
    "\n",
    "beta = .25\n",
    "decay = .8\n",
    "\n",
    "kmeans_init = True\n",
    "kmeans_iters = 10\n",
    "\n",
    "loss_func = 'L1'"
   ]
  },
  {
   "cell_type": "code",
   "execution_count": 3,
   "metadata": {},
   "outputs": [],
   "source": [
    "#################### dataset init ######################\n",
    "dataset_path = \"/home/ids/ihamdaoui-21/ACDC/database\"\n",
    "\n",
    "train_set_path = os.path.join(dataset_path, \"training\")\n",
    "test_set_path  = os.path.join(dataset_path, \"testing\")\n",
    "\n",
    "\n",
    "train_dataset = load_dataset(train_set_path, modality= data_modality)\n",
    "test_dataset  = load_dataset(test_set_path, modality= data_modality)\n",
    "\n",
    "\n",
    "if data_modality == 'SEG':\n",
    "    input_transforms = Compose([\n",
    "        transforms.Resize(size=(L,L), interpolation=transforms.InterpolationMode.NEAREST),\n",
    "        One_hot_Transform(num_classes=4)\n",
    "        ])\n",
    "else : \n",
    "    input_transforms = Compose([\n",
    "        transforms.Resize(size=(L,L), interpolation=transforms.InterpolationMode.NEAREST),\n",
    "        PercentileClip(lower_percentile=1, upper_percentile=99),\n",
    "        MinMaxNormalize(min_value=0.0, max_value=1.0),\n",
    "        ])\n",
    "\n",
    "\n",
    "TrainDataset = ACDC_Dataset(data = train_dataset, transforms= input_transforms) \n",
    "TestDataset  = ACDC_Dataset(data = test_dataset, transforms= input_transforms)\n",
    "\n",
    "TrainLoader  = DataLoader(TrainDataset, batch_size = BATCH_SIZE, shuffle = True)\n",
    "TestLoader   = DataLoader(TestDataset , batch_size = BATCH_SIZE, shuffle = False)\n",
    "\n"
   ]
  },
  {
   "cell_type": "code",
   "execution_count": 4,
   "metadata": {},
   "outputs": [],
   "source": [
    "\n",
    "# instanciate model :\n",
    "\n",
    "VQ_VAE =  VQVAE(embedding_dim= D,\n",
    "                num_embeddings= K,\n",
    "                downsampling_factor= downsampling_factor,\n",
    "                residual = use_residual,\n",
    "                num_quantizers = num_quantizers,\n",
    "                shared_codebook = shared_codebook,\n",
    "                beta = beta,\n",
    "                decay = decay,\n",
    "                data_mod = data_modality,\n",
    "                kmeans_init = kmeans_init,\n",
    "                kmeans_iters = kmeans_iters,\n",
    "                loss_func = loss_func\n",
    "                    )\n",
    "\n",
    "device = torch.device(\"cuda:0\" if torch.cuda.is_available() else \"cpu\")\n",
    "model = VQ_VAE.to(device)\n",
    "\n",
    "optimizer = optim.AdamW(model.parameters(), lr=lr, weight_decay=1e-4)\n"
   ]
  },
  {
   "cell_type": "code",
   "execution_count": null,
   "metadata": {},
   "outputs": [],
   "source": [
    "\n",
    "model.train()\n",
    "\n",
    "train_loss_values    = []\n",
    "commit_loss_values   = []\n",
    "val_loss_values      = []\n",
    "\n",
    "\n",
    "best_val_loss = float('inf')\n",
    "\n",
    "for epoch in range(epochs):\n",
    "\n",
    "    train_loss  = []\n",
    "    commit_loss = []\n",
    "\n",
    "    with tqdm(enumerate(TrainLoader), unit=\"batch\", total=len(TrainLoader)) as tepoch:\n",
    "        for batch_idx, (inputs) in tepoch:\n",
    "            inputs = inputs.float().to(device)  # Move data to the appropriate device (GPU/CPU)\n",
    "            \n",
    "            # Zero gradients\n",
    "            optimizer.zero_grad()\n",
    "            \n",
    "            # Forward pass // args is a list containing : [output, input, vq_loss]\n",
    "            output, inputs, indices, commitement_Loss = model(inputs)\n",
    "            \n",
    "            # Loss and backward\n",
    "            all_loss = model.loss_function(output, inputs, indices, commitement_Loss)\n",
    "            loss = all_loss['loss']  # Use the loss function defined in the model\n",
    "            recons_loss = all_loss['Reconstruction_Loss']\n",
    "            commitement_Loss = all_loss['commitement_Loss']\n",
    "\n",
    "            loss.backward()\n",
    "            optimizer.step()\n",
    "                        \n",
    "            # Track running loss\n",
    "            train_loss.append( recons_loss.item() )\n",
    "            commit_loss.append( commitement_Loss.item() )\n",
    "\n",
    "            # tqdm bar displays the loss\n",
    "            tepoch.set_postfix(loss=loss.item())\n",
    "\n",
    "    train_loss_values.append( np.mean(train_loss))\n",
    "    commit_loss_values.append( np.mean(commit_loss))\n",
    "\n",
    "    # Validation after each epoch\n",
    "    val_loss = evaluate_model(model, TestLoader, device)\n",
    "    val_loss_values.append(val_loss)\n",
    "\n",
    "    #saving model if Loss values decreases\n",
    "    if val_loss < best_val_loss :\n",
    "        save_model(model_name, model, epoch, train_loss_values, val_loss_values, commit_loss_values)\n",
    "        best_val_loss = val_loss\n",
    "\n",
    "    print('Epoch {}: '.format(epoch))\n",
    "\n",
    "\n",
    "print(\"Training complete.\")"
   ]
  },
  {
   "cell_type": "code",
   "execution_count": null,
   "metadata": {},
   "outputs": [],
   "source": [
    "plot_train_val_loss(train_loss_values, val_loss_values)"
   ]
  },
  {
   "cell_type": "markdown",
   "metadata": {},
   "source": [
    "## Test model"
   ]
  },
  {
   "cell_type": "code",
   "execution_count": null,
   "metadata": {},
   "outputs": [],
   "source": [
    "vis_batch = next(iter(TestLoader)).to(device)\n",
    "\n",
    "batch_hat = reconstruct_logits(vis_batch, model)\n",
    "\n",
    "visualize_batch_logits( batch_hat.detach().cpu(), title = \"model predicitons\")"
   ]
  },
  {
   "cell_type": "code",
   "execution_count": null,
   "metadata": {},
   "outputs": [],
   "source": [
    "\n",
    "batch_hat = reconstruct_logits(vis_batch, model)\n",
    "probs = F.softmax(batch_hat, dim=1) \n",
    "\n",
    "pred_seg = torch.argmax(probs,     dim=1).detach().cpu()\n",
    "true_seg = torch.argmax(vis_batch, dim=1).detach().cpu()\n",
    "\n",
    "visualize_errors(true_seg, pred_seg, 'Prediction errors visualization')"
   ]
  },
  {
   "cell_type": "markdown",
   "metadata": {},
   "source": [
    "## Evaluate model score : "
   ]
  },
  {
   "cell_type": "code",
   "execution_count": 4,
   "metadata": {},
   "outputs": [
    {
     "name": "stderr",
     "output_type": "stream",
     "text": [
      "/tmp/ipykernel_2693572/2186757886.py:15: FutureWarning: You are using `torch.load` with `weights_only=False` (the current default value), which uses the default pickle module implicitly. It is possible to construct malicious pickle data which will execute arbitrary code during unpickling (See https://github.com/pytorch/pytorch/blob/main/SECURITY.md#untrusted-models for more details). In a future release, the default value for `weights_only` will be flipped to `True`. This limits the functions that could be executed during unpickling. Arbitrary objects will no longer be allowed to be loaded via this mode unless they are explicitly allowlisted by the user via `torch.serialization.add_safe_globals`. We recommend you start setting `weights_only=True` for any use case where you don't have full control of the loaded file. Please open an issue on GitHub for any issues related to this experimental feature.\n",
      "  model.load_state_dict(torch.load(model_path)['model_state_dict'])\n"
     ]
    }
   ],
   "source": [
    "model_path = 'saved_models/dummy_model.pth'\n",
    "\n",
    "model =  VQVAE(embedding_dim= D,\n",
    "                num_embeddings= K,\n",
    "                downsampling_factor= downsampling_factor,\n",
    "                residual = use_residual,\n",
    "                num_quantizers = num_quantizers,\n",
    "                shared_codebook = shared_codebook,\n",
    "                beta = beta,\n",
    "                decay = decay,\n",
    "                data_mod = data_modality\n",
    "                    )\n",
    "\n",
    "device = torch.device(\"cuda:0\" if torch.cuda.is_available() else \"cpu\")\n",
    "model.load_state_dict(torch.load(model_path)['model_state_dict'])\n",
    "model = model.to(device)"
   ]
  },
  {
   "cell_type": "code",
   "execution_count": 5,
   "metadata": {},
   "outputs": [
    {
     "name": "stdout",
     "output_type": "stream",
     "text": [
      "Checkpoint Parameters:\n",
      "------------------------------\n",
      "Epoch: 4\n",
      "K (Codebook Size): 128\n",
      "D (Codebook Dimension): 64\n",
      "Train Loss Values: [0.14006701086958248, 0.0687773771584034, 0.05146617523084084, 0.04804149201760689, 0.043707962272067864]\n",
      "Validation Loss Values: [0.5361904063645531, 0.43798475055133596, 0.39592140387086305, 0.38835453285890464, 0.3722327667124131]\n",
      "Codebook Loss Values: [0.0005727839184051694, 0.0, 0.0, 0.0, 0.0]\n"
     ]
    },
    {
     "name": "stderr",
     "output_type": "stream",
     "text": [
      "/tmp/ipykernel_2693572/3513098570.py:1: FutureWarning: You are using `torch.load` with `weights_only=False` (the current default value), which uses the default pickle module implicitly. It is possible to construct malicious pickle data which will execute arbitrary code during unpickling (See https://github.com/pytorch/pytorch/blob/main/SECURITY.md#untrusted-models for more details). In a future release, the default value for `weights_only` will be flipped to `True`. This limits the functions that could be executed during unpickling. Arbitrary objects will no longer be allowed to be loaded via this mode unless they are explicitly allowlisted by the user via `torch.serialization.add_safe_globals`. We recommend you start setting `weights_only=True` for any use case where you don't have full control of the loaded file. Please open an issue on GitHub for any issues related to this experimental feature.\n",
      "  checkpoint = torch.load(model_path)\n"
     ]
    }
   ],
   "source": [
    "checkpoint = torch.load(model_path)\n",
    "\n",
    "# Extract and print all parameters\n",
    "print(\"Checkpoint Parameters:\")\n",
    "print(\"-\" * 30)\n",
    "print(f\"Epoch: {checkpoint['epoch']}\")\n",
    "print(f\"K (Codebook Size): {checkpoint['K']}\")\n",
    "print(f\"D (Codebook Dimension): {checkpoint['D']}\")\n",
    "print(f\"Train Loss Values: {checkpoint['train_loss_values']}\")\n",
    "print(f\"Validation Loss Values: {checkpoint['val_loss_values']}\")\n",
    "print(f\"Codebook Loss Values: {checkpoint['codebook_loss_values']}\")\n",
    "# print(f\"Codebook: {checkpoint['codebook']}\")\n"
   ]
  },
  {
   "cell_type": "code",
   "execution_count": 6,
   "metadata": {},
   "outputs": [
    {
     "name": "stdout",
     "output_type": "stream",
     "text": [
      "0.6277672332875869\n"
     ]
    }
   ],
   "source": [
    "print(score_model(model, TestLoader, device))"
   ]
  },
  {
   "cell_type": "markdown",
   "metadata": {},
   "source": [
    "### CodeBook usage :"
   ]
  },
  {
   "cell_type": "code",
   "execution_count": 9,
   "metadata": {},
   "outputs": [
    {
     "name": "stdout",
     "output_type": "stream",
     "text": [
      "Codebook 1: ONLY 22 OF CODES WERE USED FROM 128, WHICH MAKES 17.19% OF CODES FROM THE CODEBOOK\n",
      "Codebook 2: ONLY 92 OF CODES WERE USED FROM 128, WHICH MAKES 71.88% OF CODES FROM THE CODEBOOK\n"
     ]
    }
   ],
   "source": [
    "hist = codebook_hist_testset(model, TestLoader, device)\n",
    "hist = hist/np.sum(hist)"
   ]
  },
  {
   "cell_type": "code",
   "execution_count": null,
   "metadata": {},
   "outputs": [],
   "source": [
    "def plot_codebook_usage(model, hist):\n",
    "    "
   ]
  },
  {
   "cell_type": "code",
   "execution_count": 18,
   "metadata": {},
   "outputs": [
    {
     "data": {
      "image/png": "[encoded data removed]",
      "text/plain": [
       "<Figure size 1500x700 with 2 Axes>"
      ]
     },
     "metadata": {},
     "output_type": "display_data"
    }
   ],
   "source": [
    "num_codebooks = len(model.vq_layer.codebook_sizes)\n",
    "size_codebook = model.vq_layer.codebook_sizes[0]\n",
    "\n",
    "fig, axs = plt.subplots(num_codebooks,1, figsize=(15, 7))\n",
    "\n",
    "unused_codes_list = []\n",
    "for i, hist_i in enumerate(hist):\n",
    "\n",
    "    axs[i].bar(np.arange(size_codebook), hist_i*100)\n",
    "    axs[i].set_title(f'Codebook {i+1}')\n",
    "    axs[i].set_xlabel('Code index')\n",
    "    axs[i].set_ylabel('Usage count (%)')\n",
    "\n",
    "plt.tight_layout()\n",
    "plt.show()"
   ]
  },
  {
   "cell_type": "code",
   "execution_count": null,
   "metadata": {},
   "outputs": [],
   "source": [
    "\n",
    "_"
   ]
  }
 ],
 "metadata": {
  "kernelspec": {
   "display_name": "Python torch",
   "language": "python",
   "name": "torch"
  },
  "language_info": {
   "codemirror_mode": {
    "name": "ipython",
    "version": 3
   },
   "file_extension": ".py",
   "mimetype": "text/x-python",
   "name": "python",
   "nbconvert_exporter": "python",
   "pygments_lexer": "ipython3",
   "version": "3.9.20"
  }
 },
 "nbformat": 4,
 "nbformat_minor": 2
}
