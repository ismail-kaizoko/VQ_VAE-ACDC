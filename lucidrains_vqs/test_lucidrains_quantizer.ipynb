{
 "cells": [
  {
   "cell_type": "code",
   "execution_count": 1,
   "metadata": {},
   "outputs": [],
   "source": [
    "import numpy as np\n",
    "import torch \n",
    "from torch import nn\n",
    "from torch.nn import functional as F\n",
    "\n",
    "from typing import List, Callable, Union, Any, TypeVar, Tuple\n",
    "Tensor = TypeVar('torch.tensor')\n",
    "\n",
    "import torch.optim as optim\n",
    "\n",
    "\n",
    "# Data preprocessing utils : \n",
    "from utils.acdc_dataset import ACDC_Dataset, One_hot_Transform, load_dataset\n",
    "from torchvision.transforms import Compose\n",
    "from torchvision import transforms\n",
    "\n",
    "from torch.utils.data import DataLoader\n",
    "\n",
    "\n",
    "# Visuals utils\n",
    "import os\n",
    "import matplotlib.pyplot as plt\n",
    "from tqdm import tqdm\n",
    "\n",
    "\n",
    "# my defined model\n",
    "\n"
   ]
  },
  {
   "cell_type": "code",
   "execution_count": 2,
   "metadata": {},
   "outputs": [],
   "source": [
    "from torch import nn\n",
    "import torch\n",
    "from torch.nn import functional as F\n",
    "from torch.nn import CrossEntropyLoss\n",
    "\n",
    "from typing import List, Callable, Union, Any, TypeVar, Tuple\n",
    "# from torch import tensor as Tensor\n",
    "Tensor = TypeVar('torch.tensor')\n",
    "\n",
    "from vector_quantize_pytorch import VectorQuantize\n",
    "\n",
    "\n",
    "###### Hyper Parameters of the Model ######\n",
    "in_channels = 4 \n"
   ]
  },
  {
   "cell_type": "code",
   "execution_count": 14,
   "metadata": {},
   "outputs": [],
   "source": [
    "\n",
    "\n",
    "class ResidualLayer(nn.Module):\n",
    "\n",
    "    def __init__(self,\n",
    "                 in_channels: int,\n",
    "                 out_channels: int):\n",
    "        super(ResidualLayer, self).__init__()\n",
    "        self.resblock = nn.Sequential(nn.Conv2d(in_channels, out_channels,\n",
    "                                                kernel_size=3, padding=1, bias=False),\n",
    "                                      nn.ReLU(True),\n",
    "                                      nn.Conv2d(out_channels, out_channels,\n",
    "                                                kernel_size=1, bias=False))\n",
    "\n",
    "    def forward(self, input: Tensor) -> Tensor:\n",
    "        return input + self.resblock(input)\n",
    "\n",
    "\n",
    "\n",
    "\n",
    "class VQVAE(nn.Module):\n",
    "\n",
    "    def __init__(self,\n",
    "                 in_channels: int,\n",
    "                 embedding_dim: int,\n",
    "                 num_embeddings: int,\n",
    "                #hidden_dims: List = None,\n",
    "                 downsampling_factor :int = 4,\n",
    "                 beta: float = 0.25,\n",
    "                #  embedding: Tensor = None,\n",
    "                 **kwargs) -> None:\n",
    "        super(VQVAE, self).__init__()\n",
    "\n",
    "        self.embedding_dim = embedding_dim\n",
    "        self.num_embeddings = num_embeddings\n",
    "        self.beta = beta\n",
    "\n",
    "        modules = []\n",
    "        \n",
    "        if downsampling_factor < 2 :\n",
    "            raise Warning(\"VQVAE can't have a donwsampling factor less than 2\")\n",
    "        elif downsampling_factor ==2 :\n",
    "            hidden_dims = [64]\n",
    "        elif downsampling_factor == 4 :\n",
    "            hidden_dims = [64, 128]\n",
    "        elif downsampling_factor == 8 :\n",
    "            hidden_dims = [64, 128, 256]\n",
    "        else:\n",
    "            assert(\"donwsamlping factor must be one of the following values : {2,4,8}\")\n",
    "\n",
    "\n",
    "\n",
    "        # Build Encoder\n",
    "        for h_dim in hidden_dims:\n",
    "            modules.append(\n",
    "                nn.Sequential(\n",
    "                    nn.Conv2d(in_channels, out_channels=h_dim,\n",
    "                              kernel_size=4, stride=2, padding=1),\n",
    "                    nn.LeakyReLU())\n",
    "            )\n",
    "            in_channels = h_dim\n",
    "\n",
    "        modules.append(\n",
    "            nn.Sequential(\n",
    "                nn.Conv2d(in_channels, in_channels,\n",
    "                          kernel_size=3, stride=1, padding=1),\n",
    "                nn.LeakyReLU())\n",
    "        )\n",
    "\n",
    "        for _ in range(2):\n",
    "            modules.append(ResidualLayer(in_channels, in_channels))\n",
    "        modules.append(nn.LeakyReLU())\n",
    "\n",
    "        modules.append(\n",
    "            nn.Sequential(\n",
    "                nn.Conv2d(in_channels, embedding_dim,\n",
    "                          kernel_size=1, stride=1),\n",
    "                nn.LeakyReLU())\n",
    "        )\n",
    "\n",
    "        self.encoder = nn.Sequential(*modules)\n",
    "\n",
    "        self.vq_layer = VectorQuantize(dim = embedding_dim,\n",
    "                                        codebook_size = num_embeddings,\n",
    "                                        commitment_weight = self.beta,\n",
    "                                        decay = 0.8)\n",
    "\n",
    "        # Build Decoder\n",
    "        modules = []\n",
    "        modules.append(\n",
    "            nn.Sequential(\n",
    "                nn.Conv2d(embedding_dim,\n",
    "                          hidden_dims[-1],\n",
    "                          kernel_size=3,\n",
    "                          stride=1,\n",
    "                          padding=1),\n",
    "                nn.LeakyReLU())\n",
    "        )\n",
    "\n",
    "        for _ in range(2):\n",
    "            modules.append(ResidualLayer(hidden_dims[-1], hidden_dims[-1]))\n",
    "\n",
    "        modules.append(nn.LeakyReLU())\n",
    "\n",
    "        hidden_dims.reverse()\n",
    "\n",
    "        for i in range(len(hidden_dims) - 1):\n",
    "            modules.append(\n",
    "                nn.Sequential(\n",
    "                    nn.ConvTranspose2d(hidden_dims[i],\n",
    "                                       hidden_dims[i + 1],\n",
    "                                       kernel_size=4,\n",
    "                                       stride=2,\n",
    "                                       padding=1),\n",
    "                    nn.LeakyReLU())\n",
    "            )\n",
    "\n",
    "        modules.append(\n",
    "            nn.Sequential(\n",
    "                nn.ConvTranspose2d(hidden_dims[-1],\n",
    "                                   out_channels=4,\n",
    "                                   kernel_size=4,\n",
    "                                   stride=2, padding=1),\n",
    "                nn.ReLU()\n",
    "                ))\n",
    "\n",
    "        self.decoder = nn.Sequential(*modules)\n",
    "\n",
    "    def encode(self, input: Tensor) -> List[Tensor]:\n",
    "        \"\"\"\n",
    "        Encodes the input by passing through the encoder network\n",
    "        and returns the latent codes.\n",
    "        :param input: (Tensor) Input tensor to encoder [N x C x H x W]\n",
    "        :return: (Tensor) List of latent codes\n",
    "        \"\"\"\n",
    "        result = self.encoder(input)\n",
    "        return [result]\n",
    "\n",
    "    def decode(self, z: Tensor) -> Tensor:\n",
    "        \"\"\"\n",
    "        Maps the given latent codes\n",
    "        onto the image space.\n",
    "        :param z: (Tensor) [B x D x H x W]\n",
    "        :return: (Tensor) [B x C x H x W]\n",
    "        \"\"\"\n",
    "\n",
    "        result = self.decoder(z)\n",
    "        return result\n",
    "\n",
    "    def forward(self, inputs: Tensor, **kwargs) -> List[Tensor]:\n",
    "        encoding = self.encode(inputs)[0]\n",
    "        encoding = encoding.permute(0, 2, 3, 1)\n",
    "        quantized_inputs, indices, commitment_loss_beta = self.vq_layer(encoding)\n",
    "        quantized_inputs = quantized_inputs.permute(0, 3, 1, 2)\n",
    "        return [self.decode(quantized_inputs), inputs, indices, commitment_loss_beta]\n",
    "\n",
    "    ## !! update codebook_usage\n",
    "\n",
    "    # def codebook_usage(self, inputs: Tensor, **kwargs) -> List[Tensor]:\n",
    "    #     encoding = self.encode(inputs)[0]\n",
    "    #     quantized_hist = self.vq_layer.quantized_latents_hist(encoding)\n",
    "    #     return quantized_hist\n",
    "\n",
    "\n",
    "\n",
    "    def loss_function(self,\n",
    "                      *args,\n",
    "                      **kwargs) -> dict:\n",
    "        \"\"\"\n",
    "        :param args:\n",
    "        :param kwargs:\n",
    "        :return:\n",
    "        \"\"\"\n",
    "        recons = args[0]\n",
    "        inputs = args[1]\n",
    "        indices = args[2]\n",
    "        commitment_loss_beta = args[3]\n",
    "\n",
    "        recons_loss = F.cross_entropy(recons,inputs)\n",
    "\n",
    "        loss = recons_loss + commitment_loss_beta\n",
    "        return {'loss': loss,\n",
    "                'Reconstruction_Loss': recons_loss,\n",
    "                'commitement Loss':commitment_loss_beta}\n",
    "\n",
    "    # def sample(self,\n",
    "    #            num_samples: int,\n",
    "    #            current_device: Union[int, str], **kwargs) -> Tensor:\n",
    "    #     raise Warning('VQVAE sampler is not implemented.')\n",
    "\n",
    "    def generate(self, x: Tensor, **kwargs) -> Tensor:\n",
    "        \"\"\"\n",
    "        Given an input image x, returns the reconstructed image\n",
    "        :param x: (Tensor) [B x C x H x W]\n",
    "        :return: (Tensor) [B x C x H x W]\n",
    "        \"\"\"\n",
    "\n",
    "        return (self.forward(x)[0] > 0.5 ) # Since we are dealing with binary image.\n"
   ]
  },
  {
   "cell_type": "code",
   "execution_count": null,
   "metadata": {},
   "outputs": [
    {
     "name": "stdout",
     "output_type": "stream",
     "text": [
      "torch.Size([32, 128, 128, 64])\n"
     ]
    }
   ],
   "source": [
    "x = torch.randn(32,128,128,64)\n",
    "\n",
    "\n",
    "\n",
    "vq = VectorQuantize(\n",
    "    dim = 64,\n",
    "    codebook_size = 512,     # codebook size\n",
    "    decay = 0.8,             # the exponential moving average decay, lower means the dictionary will change faster\n",
    "    commitment_weight = 1.   # the weight on the commitment loss\n",
    ")\n",
    "\n",
    "quantized, indices, commit_loss = vq(x)\n",
    "\n",
    "print(x.shape)"
   ]
  },
  {
   "cell_type": "markdown",
   "metadata": {},
   "source": [
    "----------"
   ]
  },
  {
   "cell_type": "code",
   "execution_count": 16,
   "metadata": {},
   "outputs": [],
   "source": [
    "K =  512 # num_embeddings\n",
    "D =  64 # embedding_dim\n",
    "in_channels = 4 \n",
    "downsampling_factor = 4"
   ]
  },
  {
   "cell_type": "code",
   "execution_count": 17,
   "metadata": {},
   "outputs": [],
   "source": [
    "# ACDC_VQVAE = VQVAE(in_channels, D, K, downsampling_factor)\n",
    "model = VQVAE(in_channels, D, K, downsampling_factor)\n"
   ]
  },
  {
   "cell_type": "code",
   "execution_count": 6,
   "metadata": {},
   "outputs": [],
   "source": [
    "input_tesor = torch.randn(16, 4, 128, 128)"
   ]
  },
  {
   "cell_type": "code",
   "execution_count": 7,
   "metadata": {},
   "outputs": [
    {
     "data": {
      "text/plain": [
       "torch.Size([16, 64, 32, 32])"
      ]
     },
     "execution_count": 7,
     "metadata": {},
     "output_type": "execute_result"
    }
   ],
   "source": [
    "encoding = model.encode(input_tesor)[0]\n",
    "encoding.shape"
   ]
  },
  {
   "cell_type": "code",
   "execution_count": 8,
   "metadata": {},
   "outputs": [],
   "source": [
    "vq = VectorQuantize(\n",
    "    dim = 64,\n",
    "    codebook_size = 512,     # codebook size\n",
    "    decay = 0.8,             # the exponential moving average decay, lower means the dictionary will change faster\n",
    "    commitment_weight = .25   # the weight on the commitment loss\n",
    ")"
   ]
  },
  {
   "cell_type": "code",
   "execution_count": 9,
   "metadata": {},
   "outputs": [
    {
     "name": "stdout",
     "output_type": "stream",
     "text": [
      "torch.Size([16, 32, 32, 64])\n"
     ]
    }
   ],
   "source": [
    "encoding = encoding.permute(0, 2, 3, 1)\n",
    "print(encoding.shape)\n",
    "quantized, indices, commit_loss = vq(encoding)"
   ]
  },
  {
   "cell_type": "code",
   "execution_count": 10,
   "metadata": {},
   "outputs": [],
   "source": [
    "quantized = quantized.permute(0, 3, 1, 2)\n",
    "quantized.shape"
   ]
  },
  {
   "cell_type": "code",
   "execution_count": 11,
   "metadata": {},
   "outputs": [
    {
     "name": "stdout",
     "output_type": "stream",
     "text": [
      "torch.Size([16, 4, 128, 128])\n"
     ]
    }
   ],
   "source": [
    "output = model.decode(quantized)\n",
    "print(output.shape)"
   ]
  },
  {
   "cell_type": "markdown",
   "metadata": {},
   "source": [
    "---------"
   ]
  },
  {
   "cell_type": "code",
   "execution_count": 18,
   "metadata": {},
   "outputs": [],
   "source": [
    "input_tesor = torch.randn(16,4,128,128)"
   ]
  },
  {
   "cell_type": "code",
   "execution_count": null,
   "metadata": {},
   "outputs": [],
   "source": [
    "output, inputs, indices, commit_loss = model(input_tesor)\n",
    "# loss = model.loss_function(output, inputs, codebook_loss, commit_loss)['loss']"
   ]
  },
  {
   "cell_type": "code",
   "execution_count": 23,
   "metadata": {},
   "outputs": [
    {
     "name": "stdout",
     "output_type": "stream",
     "text": [
      "tensor([0.0006], grad_fn=<AddBackward0>)\n"
     ]
    }
   ],
   "source": [
    "print(commit_loss)"
   ]
  }
 ],
 "metadata": {
  "kernelspec": {
   "display_name": "Python torch",
   "language": "python",
   "name": "torch"
  },
  "language_info": {
   "codemirror_mode": {
    "name": "ipython",
    "version": 3
   },
   "file_extension": ".py",
   "mimetype": "text/x-python",
   "name": "python",
   "nbconvert_exporter": "python",
   "pygments_lexer": "ipython3",
   "version": "3.9.20"
  }
 },
 "nbformat": 4,
 "nbformat_minor": 2
}
