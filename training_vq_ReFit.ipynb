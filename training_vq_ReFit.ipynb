{
 "cells": [
  {
   "cell_type": "markdown",
   "metadata": {},
   "source": [
    "## Re-fit ( Re-build and fine-Tune) method:\n",
    "\n",
    "This method tries to combat the CodeBook collapse, i.e(dead codes phenomenon where only a small subset of codes are used by the encoder from the whole codebook), it was first introduced in the paper : https://arxiv.org/pdf/2112.01799\n",
    "\n",
    "In the best scenario, We want our codeBook to be initialized in a manner where it has a prior on our dataset, so the codes and the encoders outputs are more alligned, hence the distances between them isn't that huge, The idea proposed in the article is simple : take a pre-trained Vq-Vae trained on a random intilialised codebook, then do a pass through all the dataset and encode allthe images using the encoder, we end by a huge matrix, then we apply a K-means on all the vectors to take the centroids, and train a new model whose codebbok is initialized with those centroids.\n",
    "\n",
    "We can note the following : \n",
    "*   The nw model is still inspired by the previous CodeBook, so note that any enhancement made on the previous can strongly increase the new model, inversely, if we start from a bad model, this mehtod could not help much\n",
    "*   we can highly decrease the number of codes used in this new model $K' << K$ without loosing much informations. after all, experiments show that only $20 \\% $ codes are used form a randomly initialized codebook. "
   ]
  },
  {
   "cell_type": "code",
   "execution_count": 1,
   "metadata": {},
   "outputs": [
    {
     "name": "stderr",
     "output_type": "stream",
     "text": [
      "/home/ids/ihamdaoui-21/anaconda3/envs/torch/lib/python3.9/site-packages/tqdm/auto.py:21: TqdmWarning: IProgress not found. Please update jupyter and ipywidgets. See https://ipywidgets.readthedocs.io/en/stable/user_install.html\n",
      "  from .autonotebook import tqdm as notebook_tqdm\n"
     ]
    }
   ],
   "source": [
    "import numpy as np\n",
    "import torch \n",
    "from torch import nn\n",
    "from torch.nn import functional as F\n",
    "\n",
    "from typing import List, Callable, Union, Any, TypeVar, Tuple\n",
    "Tensor = TypeVar('torch.tensor')\n",
    "\n",
    "import torch.optim as optim\n",
    "\n",
    "\n",
    "# Data preprocessing utils : \n",
    "from utils.acdc_dataset import ACDC_Dataset, One_hot_Transform, load_dataset\n",
    "from torchvision.transforms import Compose\n",
    "from torchvision import transforms\n",
    "\n",
    "from torch.utils.data import DataLoader\n",
    "\n",
    "\n",
    "# Visuals utils\n",
    "import os\n",
    "import matplotlib.pyplot as plt\n",
    "from tqdm import tqdm\n",
    "\n",
    "\n",
    "# my defined model\n",
    "from utils.vqVAE import VQVAE\n",
    "# from vqVAE_custom import VQVAE\n",
    "\n",
    "\n",
    "import warnings\n",
    "warnings.filterwarnings(\"ignore\")"
   ]
  },
  {
   "cell_type": "code",
   "execution_count": 3,
   "metadata": {},
   "outputs": [],
   "source": [
    "in_channels = 4 \n",
    "L = 128 # image size L=W\n",
    "BATCH_SIZE = 16\n",
    "\n",
    "new_K = 256 # We divided the number of codes by 4\n",
    "D = 64\n"
   ]
  },
  {
   "cell_type": "markdown",
   "metadata": {},
   "source": [
    "### Calling the DataSet"
   ]
  },
  {
   "cell_type": "code",
   "execution_count": 4,
   "metadata": {},
   "outputs": [],
   "source": [
    "dataset_path = \"/home/ids/ihamdaoui-21/ACDC/database\"\n",
    "\n",
    "train_set_path = os.path.join(dataset_path, \"training\")\n",
    "test_set_path  = os.path.join(dataset_path, \"testing\")\n"
   ]
  },
  {
   "cell_type": "code",
   "execution_count": 5,
   "metadata": {},
   "outputs": [],
   "source": [
    "train_dataset = load_dataset(train_set_path)\n",
    "test_dataset  = load_dataset(test_set_path)\n",
    "\n",
    "\n",
    "input_transforms = Compose([\n",
    "    transforms.Resize(size=(L,L), interpolation=transforms.InterpolationMode.NEAREST),\n",
    "    One_hot_Transform(num_classes=4)\n",
    "    ])\n",
    "\n",
    "\n",
    "TrainDataset = ACDC_Dataset(data = train_dataset, transforms= input_transforms) \n",
    "TestDataset  = ACDC_Dataset(data = test_dataset, transforms= input_transforms)\n",
    "\n",
    "TrainLoader  = DataLoader(TrainDataset, batch_size = BATCH_SIZE, shuffle = True)\n",
    "TestLoader   = DataLoader(TestDataset , batch_size = BATCH_SIZE, shuffle = True)"
   ]
  },
  {
   "cell_type": "code",
   "execution_count": 6,
   "metadata": {},
   "outputs": [
    {
     "name": "stdout",
     "output_type": "stream",
     "text": [
      "True\n",
      "cuda:0\n"
     ]
    }
   ],
   "source": [
    "# detect gpu ?\n",
    "\n",
    "print(torch.cuda.is_available())\n",
    "\n",
    "device = torch.device(\"cuda:0\" if torch.cuda.is_available() else \"cpu\")\n",
    "print(device)"
   ]
  },
  {
   "cell_type": "code",
   "execution_count": 7,
   "metadata": {},
   "outputs": [],
   "source": [
    "model_path = 'saved_models/vqvae_100_bestmodel.pth'\n",
    "\n",
    "model = VQVAE(in_channels, 64, 512)\n",
    "model.load_state_dict(torch.load(model_path)['model_state_dict'])\n",
    "model = model.to(device)\n"
   ]
  },
  {
   "cell_type": "code",
   "execution_count": 8,
   "metadata": {},
   "outputs": [],
   "source": [
    "# we are going to pass through the whole dataset, which results on \n",
    "\n",
    "latent_vectors = []\n",
    "\n",
    "# Process the dataset\n",
    "with torch.no_grad():  # No need to track gradients\n",
    "    for batch in TrainLoader:\n",
    "        # Pass the batch through the encoder\n",
    "        encoded = model.encode(batch.float().to(device))[0]  # Output shape: (batch_size, 32, 32, 32)\n",
    "        \n",
    "        # Flatten the encoded output to (batch_size, 32*32)\n",
    "        encoded_flat = encoded.view(encoded.size(0), 64, -1).permute(0, 2, 1)  # Shape: (batch_size, 1024, 64)\n",
    "        \n",
    "        # Now flatten across the batch and spatial dimensions to (batch_size * 1024, 64)\n",
    "        encoded_flat = encoded_flat.reshape(-1, 64)\n",
    "        \n",
    "        # Convert the tensor to NumPy and store it\n",
    "        latent_vectors.append(encoded_flat.cpu().numpy())\n",
    "\n",
    "# Concatenate all the latent vectors into a single NumPy array\n",
    "latent_vectors = np.concatenate(latent_vectors, axis=0)  # Shape: (size_of_dataset, 32*32)\n",
    "\n",
    "# # Optionally, save the latent vectors to disk\n",
    "# np.save('latent_vectors.npy', latent_vectors)"
   ]
  },
  {
   "cell_type": "code",
   "execution_count": 9,
   "metadata": {},
   "outputs": [],
   "source": [
    "\n",
    "from sklearn.cluster import kmeans_plusplus\n",
    "\n",
    "# Calculate seeds from k-means++\n",
    "centers_init, indices = kmeans_plusplus(latent_vectors, n_clusters= new_K)\n"
   ]
  },
  {
   "cell_type": "code",
   "execution_count": 10,
   "metadata": {},
   "outputs": [],
   "source": [
    "# let's take just P samples from the whole distribution : \n",
    "P = 100000\n",
    "\n",
    "total_vectors = latent_vectors.shape[0]\n",
    "\n",
    "# Randomly sample N unique indices from the range of total_vectors\n",
    "sample_indices = np.random.choice(total_vectors, size=P, replace=False)\n",
    "\n",
    "# Extract the corresponding vectors\n",
    "latent_vectors_red = latent_vectors[sample_indices, :]  # Shape: (N, 64)"
   ]
  },
  {
   "cell_type": "code",
   "execution_count": 12,
   "metadata": {},
   "outputs": [],
   "source": [
    "import umap\n",
    "import numpy as np\n",
    "\n",
    "reducer = umap.UMAP(n_components=2, random_state=42)\n",
    "\n",
    "# Fit and transform\n",
    "d2_latent_vectors_red = reducer.fit_transform(latent_vectors_red)\n",
    "d2_centers_init       = reducer.transform(centers_init)\n",
    "\n"
   ]
  },
  {
   "cell_type": "code",
   "execution_count": 13,
   "metadata": {},
   "outputs": [
    {
     "data": {
      "image/png": "[encoded data removed]",
      "text/plain": [
       "<Figure size 640x480 with 1 Axes>"
      ]
     },
     "metadata": {},
     "output_type": "display_data"
    }
   ],
   "source": [
    "plt.Figure(figsize=(40,40))\n",
    "# Plot the results\n",
    "plt.scatter(d2_latent_vectors_red[:, 0], d2_latent_vectors_red[:, 1], s = 1)\n",
    "plt.scatter(d2_centers_init[:, 0], d2_centers_init[:, 1], s = 10)\n",
    "plt.title('UMAP projection of 512 vectors')\n",
    "plt.xlabel('UMAP-1')\n",
    "plt.ylabel('UMAP-2')\n",
    "plt.show()\n",
    "\n"
   ]
  },
  {
   "cell_type": "code",
   "execution_count": 14,
   "metadata": {},
   "outputs": [],
   "source": [
    "# from utils.training import *"
   ]
  },
  {
   "cell_type": "code",
   "execution_count": 15,
   "metadata": {},
   "outputs": [],
   "source": [
    "### Learning parameters\n",
    "new_codebook = torch.from_numpy(centers_init)\n",
    "\n",
    "ACDC_VQVAE = VQVAE(in_channels, D, new_K, embedding = new_codebook)\n",
    "model = ACDC_VQVAE.to(device)\n",
    "\n",
    "lr = 5e-4\n",
    "epochs = 40\n",
    "optimizer = optim.AdamW(model.parameters(), lr=lr, weight_decay=1e-4)\n",
    "\n",
    "model_name = 'Re_Fit_models/vqvae_101_bestmodel.pth'\n"
   ]
  },
  {
   "cell_type": "code",
   "execution_count": 16,
   "metadata": {},
   "outputs": [],
   "source": [
    "\n",
    "def reconstruct_logits(batch, model):\n",
    "    output, _, _, _ = model(batch.float())\n",
    "    return output\n",
    "\n",
    "\n",
    "\n",
    "def visualize_batch(batch, title):\n",
    "    batch_size = batch.shape[0]\n",
    "    samples = 8\n",
    "\n",
    "\n",
    "    fig, axes = plt.subplots(samples, 4, figsize=(5, 10))  # Adjust figsize to accommodate more rows\n",
    "    fig.suptitle(title, fontsize=16)\n",
    "\n",
    "    for ax in axes.flat:\n",
    "        ax.set_axis_off()\n",
    "\n",
    "    for i in range(samples):\n",
    "\n",
    "        img = batch[i]\n",
    "        axes[i,0].imshow(img[0,:,:], cmap = 'gray', vmin=0, vmax=1)\n",
    "        axes[i,1].imshow(img[1,:,:], cmap = 'gray', vmin=0, vmax=1)\n",
    "        axes[i,2].imshow(img[2,:,:], cmap = 'gray', vmin=0, vmax=1)\n",
    "        axes[i,3].imshow(img[3,:,:], cmap = 'gray', vmin=0, vmax=1)\n",
    "        # axes[i].axis('off')\n",
    "\n",
    "    \n",
    "    # plt.tight_layout()\n",
    "    plt.tight_layout(rect=[0, 0, 1, 0.95])\n",
    "    plt.show()\n",
    "\n",
    "\n",
    "\n",
    "\n",
    "def visualize_batch_logits(batch, title):\n",
    "    batch_size = batch.shape[0]\n",
    "    samples = 8\n",
    "\n",
    "\n",
    "    fig, axes = plt.subplots(samples, 4, figsize=(10, 20))  # Adjust figsize to accommodate more rows\n",
    "    fig.suptitle(title, fontsize=16)\n",
    "\n",
    "    for ax in axes.flat:\n",
    "        ax.set_axis_off()\n",
    "\n",
    "    for i in range(samples):\n",
    "\n",
    "        img = batch[i]\n",
    "        axes[i,0].imshow(img[0,:,:], cmap = 'gray')\n",
    "        axes[i,1].imshow(img[1,:,:], cmap = 'gray')\n",
    "        axes[i,2].imshow(img[2,:,:], cmap = 'gray')\n",
    "        axes[i,3].imshow(img[3,:,:], cmap = 'gray')\n",
    "        # axes[i].axis('off')\n",
    "\n",
    "    \n",
    "    # plt.tight_layout()\n",
    "    plt.tight_layout(rect=[0, 0, 1, 0.95])\n",
    "    plt.show()\n",
    "\n",
    "\n",
    "\n",
    "def visualize_errors(true_segs, pred_segs, title):\n",
    "    # batch_size = batch.shape[0]\n",
    "    samples = 8\n",
    "\n",
    "    custom_colors = [\n",
    "    '#000000', '#ff0000', '#ffd700', '#00ffff']\n",
    "    cmap = ListedColormap(custom_colors)\n",
    "    # error_cmap = LinearSegmentedColormap.from_list('black_red', ['black', 'red'], N=256)\n",
    "\n",
    "    error_mask = torch.where(true_segs != pred_seg, 1, 0)\n",
    "\n",
    "    fig, axes = plt.subplots(samples, 3, figsize=(8, 20))  # Adjust figsize to accommodate more rows\n",
    "    fig.suptitle(title, fontsize=16)\n",
    "\n",
    "\n",
    "    for i in range(samples):\n",
    "        axes[i,0].imshow(true_seg[i], cmap = cmap)\n",
    "        axes[i,0].axis('off')\n",
    "\n",
    "        axes[i,1].imshow(pred_segs[i], cmap = cmap)\n",
    "        axes[i,1].axis('off')\n",
    "\n",
    "        axes[i,2].imshow(error_mask[i], cmap = 'magma')\n",
    "        axes[i,2].axis('off')\n",
    "\n",
    "    row_titles = ['Ground truth', 'Vq-Vae predictions', 'Pixel Errors']\n",
    "    for i in range(3):\n",
    "        axes[0, i].set_title(row_titles[i], fontsize=14, fontweight='bold')\n",
    "    \n",
    "    # plt.tight_layout()\n",
    "    plt.tight_layout(rect=[0, 0, 1, 0.95])\n",
    "    plt.show()\n",
    "\n",
    "\n",
    "\n",
    "def dice_loss_hard(preds, targets, smooth=1e-6):\n",
    "    \"\"\"\n",
    "    Calculate Dice Loss across the 4 segmentation channels using binary masks.\n",
    "    :param preds: Predicted output tensor of shape [batch_size, 4, height, width] (logits or soft predictions)\n",
    "    :param targets: Ground truth one-hot tensor of shape [batch_size, 4, height, width]\n",
    "    :param smooth: A small value to avoid division by zero\n",
    "    :return: Dice Loss (scalar)\n",
    "    \"\"\"\n",
    "    # Apply softmax over channel dimension (4 channels) to convert logits to probabilities\n",
    "    preds = F.softmax(preds, dim=1)\n",
    "\n",
    "    # Convert probabilities to binary one-hot predictions by using argmax and one-hot encoding\n",
    "    preds_bin = torch.argmax(preds, dim=1)  # Shape: [batch_size, height, width] (class index for each pixel)\n",
    "    preds_onehot = F.one_hot(preds_bin, num_classes=4).permute(0, 3, 1, 2).float()  # Shape: [batch_size, 4, height, width]\n",
    "\n",
    "    # Flatten predictions and targets for dice coefficient calculation\n",
    "    preds_flat = preds_onehot.contiguous().view(preds_onehot.shape[0], preds_onehot.shape[1], -1)  # [batch_size, 4, height*width]\n",
    "    targets_flat = targets.contiguous().view(targets.shape[0], targets.shape[1], -1)  # [batch_size, 4, height*width]\n",
    "\n",
    "    # Calculate intersection and union\n",
    "    intersection = (preds_flat * targets_flat).sum(dim=2)  # Summing over height and width dimensions\n",
    "    union = preds_flat.sum(dim=2) + targets_flat.sum(dim=2)  # Sum of both sets\n",
    "\n",
    "    # Calculate Dice coefficient and Dice loss\n",
    "    dice_coeff = (2.0 * intersection + smooth) / (union + smooth)  # Dice coefficient per channel\n",
    "    dice_loss = 1 - dice_coeff.mean()  # Average over the batch and channels\n",
    "\n",
    "    return dice_loss\n",
    "\n",
    "\n",
    "\n",
    "\n",
    "def evaluate_model(model, val_loader):\n",
    "    model.eval()\n",
    "    val_loss = 0.0\n",
    "    with torch.no_grad():\n",
    "        for batch in val_loader:\n",
    "            inputs = batch.float().to(device)\n",
    "           \n",
    "            outputs, _, _, _ = model(inputs)\n",
    "            outputs_binary = F.softmax(outputs, dim=1)\n",
    "            \n",
    "            # Loss and backward\n",
    "            loss = dice_loss_hard(inputs, outputs)\n",
    "            \n",
    "            val_loss += loss.item()\n",
    "    \n",
    "    avg_val_loss = val_loss / len(val_loader.dataset)\n",
    "    return avg_val_loss\n",
    "\n",
    "\n",
    "def save_model(model_name, model, epoch, train_loss_values, val_loss_values, codebook_loss_values):\n",
    "    checkpoint_path = os.path.join( os.getcwd() , model_name )\n",
    "    torch.save({'epoch' : epoch,\n",
    "                'K' : model.vq_layer.K,\n",
    "                'D' :  model.vq_layer.D,\n",
    "                'model_state_dict' : model.state_dict(),\n",
    "                'train_loss_values' : train_loss_values, \n",
    "                'val_loss_values' : val_loss_values, \n",
    "                'codebook_loss_values' : codebook_loss_values,\n",
    "                'codebook' : model.vq_layer.embedding.weight.data }, checkpoint_path)\n"
   ]
  },
  {
   "cell_type": "code",
   "execution_count": 17,
   "metadata": {},
   "outputs": [
    {
     "name": "stderr",
     "output_type": "stream",
     "text": [
      "  0%|          | 0/119 [00:00<?, ?batch/s]"
     ]
    },
    {
     "name": "stderr",
     "output_type": "stream",
     "text": [
      "100%|██████████| 119/119 [00:06<00:00, 17.52batch/s, loss=3.08]  \n"
     ]
    },
    {
     "name": "stdout",
     "output_type": "stream",
     "text": [
      "Epoch 0: Train Loss: 218.7380\n"
     ]
    },
    {
     "name": "stderr",
     "output_type": "stream",
     "text": [
      "100%|██████████| 119/119 [00:06<00:00, 17.46batch/s, loss=3.65]  \n"
     ]
    },
    {
     "name": "stdout",
     "output_type": "stream",
     "text": [
      "Epoch 1: Train Loss: 993.6528\n"
     ]
    },
    {
     "name": "stderr",
     "output_type": "stream",
     "text": [
      "100%|██████████| 119/119 [00:06<00:00, 18.66batch/s, loss=78]  \n"
     ]
    },
    {
     "name": "stdout",
     "output_type": "stream",
     "text": [
      "Epoch 2: Train Loss: 81.1304\n"
     ]
    },
    {
     "name": "stderr",
     "output_type": "stream",
     "text": [
      "100%|██████████| 119/119 [00:06<00:00, 19.26batch/s, loss=1.36]  \n"
     ]
    },
    {
     "name": "stdout",
     "output_type": "stream",
     "text": [
      "Epoch 3: Train Loss: 135.1575\n"
     ]
    },
    {
     "name": "stderr",
     "output_type": "stream",
     "text": [
      "100%|██████████| 119/119 [00:05<00:00, 19.94batch/s, loss=0.454]\n"
     ]
    },
    {
     "name": "stdout",
     "output_type": "stream",
     "text": [
      "Epoch 4: Train Loss: 1.9002\n"
     ]
    },
    {
     "name": "stderr",
     "output_type": "stream",
     "text": [
      "100%|██████████| 119/119 [00:05<00:00, 20.07batch/s, loss=1.35] \n"
     ]
    },
    {
     "name": "stdout",
     "output_type": "stream",
     "text": [
      "Epoch 5: Train Loss: 0.6422\n"
     ]
    },
    {
     "name": "stderr",
     "output_type": "stream",
     "text": [
      "100%|██████████| 119/119 [00:05<00:00, 20.51batch/s, loss=2.18]\n"
     ]
    },
    {
     "name": "stdout",
     "output_type": "stream",
     "text": [
      "Epoch 6: Train Loss: 5.6755\n"
     ]
    },
    {
     "name": "stderr",
     "output_type": "stream",
     "text": [
      "100%|██████████| 119/119 [00:05<00:00, 20.10batch/s, loss=2.08]\n"
     ]
    },
    {
     "name": "stdout",
     "output_type": "stream",
     "text": [
      "Epoch 7: Train Loss: 1.9856\n"
     ]
    },
    {
     "name": "stderr",
     "output_type": "stream",
     "text": [
      "100%|██████████| 119/119 [00:06<00:00, 19.52batch/s, loss=0.113] \n"
     ]
    },
    {
     "name": "stdout",
     "output_type": "stream",
     "text": [
      "Epoch 8: Train Loss: 0.2539\n"
     ]
    },
    {
     "name": "stderr",
     "output_type": "stream",
     "text": [
      "100%|██████████| 119/119 [00:05<00:00, 20.33batch/s, loss=0.0631]\n"
     ]
    },
    {
     "name": "stdout",
     "output_type": "stream",
     "text": [
      "Epoch 9: Train Loss: 0.0856\n"
     ]
    },
    {
     "name": "stderr",
     "output_type": "stream",
     "text": [
      "100%|██████████| 119/119 [00:06<00:00, 19.19batch/s, loss=0.047] \n"
     ]
    },
    {
     "name": "stdout",
     "output_type": "stream",
     "text": [
      "Epoch 10: Train Loss: 0.0578\n"
     ]
    },
    {
     "name": "stderr",
     "output_type": "stream",
     "text": [
      "100%|██████████| 119/119 [00:05<00:00, 19.98batch/s, loss=0.0527]\n"
     ]
    },
    {
     "name": "stdout",
     "output_type": "stream",
     "text": [
      "Epoch 11: Train Loss: 0.0499\n"
     ]
    },
    {
     "name": "stderr",
     "output_type": "stream",
     "text": [
      "100%|██████████| 119/119 [00:05<00:00, 20.01batch/s, loss=0.0446]\n"
     ]
    },
    {
     "name": "stdout",
     "output_type": "stream",
     "text": [
      "Epoch 12: Train Loss: 0.0459\n"
     ]
    },
    {
     "name": "stderr",
     "output_type": "stream",
     "text": [
      "100%|██████████| 119/119 [00:05<00:00, 20.30batch/s, loss=0.0446]\n"
     ]
    },
    {
     "name": "stdout",
     "output_type": "stream",
     "text": [
      "Epoch 13: Train Loss: 0.0435\n"
     ]
    },
    {
     "name": "stderr",
     "output_type": "stream",
     "text": [
      "100%|██████████| 119/119 [00:06<00:00, 19.72batch/s, loss=0.0458]\n"
     ]
    },
    {
     "name": "stdout",
     "output_type": "stream",
     "text": [
      "Epoch 14: Train Loss: 0.0421\n"
     ]
    },
    {
     "name": "stderr",
     "output_type": "stream",
     "text": [
      "100%|██████████| 119/119 [00:05<00:00, 20.38batch/s, loss=0.0393]\n"
     ]
    },
    {
     "name": "stdout",
     "output_type": "stream",
     "text": [
      "Epoch 15: Train Loss: 0.0416\n"
     ]
    },
    {
     "name": "stderr",
     "output_type": "stream",
     "text": [
      "100%|██████████| 119/119 [00:06<00:00, 19.53batch/s, loss=0.0366]\n"
     ]
    },
    {
     "name": "stdout",
     "output_type": "stream",
     "text": [
      "Epoch 16: Train Loss: 0.0393\n"
     ]
    },
    {
     "name": "stderr",
     "output_type": "stream",
     "text": [
      "100%|██████████| 119/119 [00:06<00:00, 19.16batch/s, loss=0.0398]\n"
     ]
    },
    {
     "name": "stdout",
     "output_type": "stream",
     "text": [
      "Epoch 17: Train Loss: 0.0377\n"
     ]
    },
    {
     "name": "stderr",
     "output_type": "stream",
     "text": [
      "100%|██████████| 119/119 [00:06<00:00, 19.78batch/s, loss=0.0333]\n"
     ]
    },
    {
     "name": "stdout",
     "output_type": "stream",
     "text": [
      "Epoch 18: Train Loss: 0.0363\n"
     ]
    },
    {
     "name": "stderr",
     "output_type": "stream",
     "text": [
      "100%|██████████| 119/119 [00:06<00:00, 19.65batch/s, loss=0.0321]\n"
     ]
    },
    {
     "name": "stdout",
     "output_type": "stream",
     "text": [
      "Epoch 19: Train Loss: 0.0348\n"
     ]
    },
    {
     "name": "stderr",
     "output_type": "stream",
     "text": [
      "100%|██████████| 119/119 [00:06<00:00, 19.55batch/s, loss=0.0375]\n"
     ]
    },
    {
     "name": "stdout",
     "output_type": "stream",
     "text": [
      "Epoch 20: Train Loss: 0.0331\n"
     ]
    },
    {
     "name": "stderr",
     "output_type": "stream",
     "text": [
      "100%|██████████| 119/119 [00:05<00:00, 20.17batch/s, loss=0.0329]\n"
     ]
    },
    {
     "name": "stdout",
     "output_type": "stream",
     "text": [
      "Epoch 21: Train Loss: 0.0320\n"
     ]
    },
    {
     "name": "stderr",
     "output_type": "stream",
     "text": [
      "100%|██████████| 119/119 [00:05<00:00, 20.29batch/s, loss=0.034] \n"
     ]
    },
    {
     "name": "stdout",
     "output_type": "stream",
     "text": [
      "Epoch 22: Train Loss: 0.0315\n"
     ]
    },
    {
     "name": "stderr",
     "output_type": "stream",
     "text": [
      "100%|██████████| 119/119 [00:06<00:00, 19.47batch/s, loss=0.0332]\n"
     ]
    },
    {
     "name": "stdout",
     "output_type": "stream",
     "text": [
      "Epoch 23: Train Loss: 0.0308\n"
     ]
    },
    {
     "name": "stderr",
     "output_type": "stream",
     "text": [
      "100%|██████████| 119/119 [00:05<00:00, 20.52batch/s, loss=0.0305]\n"
     ]
    },
    {
     "name": "stdout",
     "output_type": "stream",
     "text": [
      "Epoch 24: Train Loss: 0.0304\n"
     ]
    },
    {
     "name": "stderr",
     "output_type": "stream",
     "text": [
      "100%|██████████| 119/119 [00:06<00:00, 19.24batch/s, loss=0.0302]\n"
     ]
    },
    {
     "name": "stdout",
     "output_type": "stream",
     "text": [
      "Epoch 25: Train Loss: 0.0298\n"
     ]
    },
    {
     "name": "stderr",
     "output_type": "stream",
     "text": [
      "100%|██████████| 119/119 [00:06<00:00, 19.54batch/s, loss=0.032] \n"
     ]
    },
    {
     "name": "stdout",
     "output_type": "stream",
     "text": [
      "Epoch 26: Train Loss: 0.0294\n"
     ]
    },
    {
     "name": "stderr",
     "output_type": "stream",
     "text": [
      "100%|██████████| 119/119 [00:06<00:00, 19.63batch/s, loss=0.0193]\n"
     ]
    },
    {
     "name": "stdout",
     "output_type": "stream",
     "text": [
      "Epoch 27: Train Loss: 0.0291\n"
     ]
    },
    {
     "name": "stderr",
     "output_type": "stream",
     "text": [
      "100%|██████████| 119/119 [00:06<00:00, 19.20batch/s, loss=0.0232]\n"
     ]
    },
    {
     "name": "stdout",
     "output_type": "stream",
     "text": [
      "Epoch 28: Train Loss: 0.0289\n"
     ]
    },
    {
     "name": "stderr",
     "output_type": "stream",
     "text": [
      "100%|██████████| 119/119 [00:06<00:00, 19.62batch/s, loss=0.0323]\n"
     ]
    },
    {
     "name": "stdout",
     "output_type": "stream",
     "text": [
      "Epoch 29: Train Loss: 0.0285\n"
     ]
    },
    {
     "name": "stderr",
     "output_type": "stream",
     "text": [
      "100%|██████████| 119/119 [00:05<00:00, 19.95batch/s, loss=0.0281]\n"
     ]
    },
    {
     "name": "stdout",
     "output_type": "stream",
     "text": [
      "Epoch 30: Train Loss: 0.0280\n"
     ]
    },
    {
     "name": "stderr",
     "output_type": "stream",
     "text": [
      "100%|██████████| 119/119 [00:05<00:00, 19.88batch/s, loss=0.0289]\n"
     ]
    },
    {
     "name": "stdout",
     "output_type": "stream",
     "text": [
      "Epoch 31: Train Loss: 0.0275\n"
     ]
    },
    {
     "name": "stderr",
     "output_type": "stream",
     "text": [
      "100%|██████████| 119/119 [00:05<00:00, 19.85batch/s, loss=0.0253]\n"
     ]
    },
    {
     "name": "stdout",
     "output_type": "stream",
     "text": [
      "Epoch 32: Train Loss: 0.0271\n"
     ]
    },
    {
     "name": "stderr",
     "output_type": "stream",
     "text": [
      "100%|██████████| 119/119 [00:05<00:00, 19.95batch/s, loss=0.0264]\n"
     ]
    },
    {
     "name": "stdout",
     "output_type": "stream",
     "text": [
      "Epoch 33: Train Loss: 0.0267\n"
     ]
    },
    {
     "name": "stderr",
     "output_type": "stream",
     "text": [
      "100%|██████████| 119/119 [00:06<00:00, 18.36batch/s, loss=0.0221]\n"
     ]
    },
    {
     "name": "stdout",
     "output_type": "stream",
     "text": [
      "Epoch 34: Train Loss: 0.0264\n"
     ]
    },
    {
     "name": "stderr",
     "output_type": "stream",
     "text": [
      "100%|██████████| 119/119 [00:06<00:00, 19.32batch/s, loss=0.0293]\n"
     ]
    },
    {
     "name": "stdout",
     "output_type": "stream",
     "text": [
      "Epoch 35: Train Loss: 0.0262\n"
     ]
    },
    {
     "name": "stderr",
     "output_type": "stream",
     "text": [
      "100%|██████████| 119/119 [00:05<00:00, 19.88batch/s, loss=0.024] \n"
     ]
    },
    {
     "name": "stdout",
     "output_type": "stream",
     "text": [
      "Epoch 36: Train Loss: 0.0260\n"
     ]
    },
    {
     "name": "stderr",
     "output_type": "stream",
     "text": [
      "100%|██████████| 119/119 [00:06<00:00, 19.55batch/s, loss=0.0291]\n"
     ]
    },
    {
     "name": "stdout",
     "output_type": "stream",
     "text": [
      "Epoch 37: Train Loss: 0.0257\n"
     ]
    },
    {
     "name": "stderr",
     "output_type": "stream",
     "text": [
      "100%|██████████| 119/119 [00:06<00:00, 19.38batch/s, loss=0.0197]\n"
     ]
    },
    {
     "name": "stdout",
     "output_type": "stream",
     "text": [
      "Epoch 38: Train Loss: 0.0256\n"
     ]
    },
    {
     "name": "stderr",
     "output_type": "stream",
     "text": [
      "100%|██████████| 119/119 [00:05<00:00, 20.38batch/s, loss=0.0257]\n"
     ]
    },
    {
     "name": "stdout",
     "output_type": "stream",
     "text": [
      "Epoch 39: Train Loss: 0.0256\n",
      "Training complete.\n"
     ]
    }
   ],
   "source": [
    "# visualisation batch, to track th eperformance of the model\n",
    "vis_batch = next(iter(TestLoader)).to(device)\n",
    "\n",
    "model.train()\n",
    "train_loss_values = []\n",
    "codebook_loss_values = []\n",
    "\n",
    "#track the evolution of reconstruction\n",
    "recons_evolution = []\n",
    "\n",
    "val_loss_values = []\n",
    "best_val_loss = float('inf')\n",
    "\n",
    "for epoch in range(epochs):\n",
    "\n",
    "    train_loss = 0.0\n",
    "    codebook_loss_epoch = 0.0\n",
    "\n",
    "    with tqdm(enumerate(TrainLoader), unit=\"batch\", total=len(TrainLoader)) as tepoch:\n",
    "        for batch_idx, (inputs) in tepoch:\n",
    "            inputs = inputs.float().to(device)  # Move data to the appropriate device (GPU/CPU)\n",
    "            \n",
    "            # Zero gradients\n",
    "            optimizer.zero_grad()\n",
    "            \n",
    "            # Forward pass // args is a list containing : [output, input, vq_loss]\n",
    "            output, inputs, codebook_loss, commit_loss = model(inputs)\n",
    "            \n",
    "            # Loss and backward\n",
    "            loss = model.loss_function(output, inputs, codebook_loss, commit_loss)['loss']  # Use the loss function defined in the model\n",
    "            loss.backward()\n",
    "            optimizer.step()\n",
    "            \n",
    "            \n",
    "            # Track running loss\n",
    "            train_loss += loss.item()\n",
    "            codebook_loss_epoch += codebook_loss.item()\n",
    "\n",
    "\n",
    "            # tqdm bar displays the loss\n",
    "            tepoch.set_postfix(loss=loss.item())\n",
    "\n",
    "    epoch_loss = train_loss / len(TrainLoader.dataset)\n",
    "    codebook_loss_epoch/= len(TrainLoader.dataset)\n",
    "\n",
    "    train_loss_values.append(epoch_loss)\n",
    "    codebook_loss_values.append(codebook_loss_epoch)\n",
    "\n",
    "    # Validation after each epoch\n",
    "    val_loss = evaluate_model(model, TestLoader)\n",
    "    val_loss_values.append(val_loss)\n",
    "\n",
    "    #track output precision progression every 10 epoch:\n",
    "    if (epoch%5 == 0 and epoch<50):\n",
    "        output, _, _, _ = model( vis_batch.float() )\n",
    "        recons_evolution.append(output)\n",
    "\n",
    "\n",
    "    #saving model if Loss values decreases\n",
    "    if val_loss < best_val_loss :\n",
    "        save_model(model_name, model,  epoch, train_loss_values, val_loss_values, codebook_loss_values)\n",
    "\n",
    "    print('Epoch {}: Train Loss: {:.4f}'.format(epoch, train_loss/len(TrainLoader)))\n",
    "\n",
    "print(\"Training complete.\")"
   ]
  },
  {
   "cell_type": "code",
   "execution_count": null,
   "metadata": {},
   "outputs": [],
   "source": []
  },
  {
   "cell_type": "code",
   "execution_count": null,
   "metadata": {},
   "outputs": [],
   "source": []
  }
 ],
 "metadata": {
  "kernelspec": {
   "display_name": "Python torch",
   "language": "python",
   "name": "torch"
  },
  "language_info": {
   "codemirror_mode": {
    "name": "ipython",
    "version": 3
   },
   "file_extension": ".py",
   "mimetype": "text/x-python",
   "name": "python",
   "nbconvert_exporter": "python",
   "pygments_lexer": "ipython3",
   "version": "3.9.20"
  }
 },
 "nbformat": 4,
 "nbformat_minor": 2
}
