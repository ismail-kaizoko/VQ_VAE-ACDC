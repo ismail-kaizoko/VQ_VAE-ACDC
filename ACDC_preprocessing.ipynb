{
 "cells": [
  {
   "cell_type": "markdown",
   "metadata": {},
   "source": [
    "##### This here is the data pipeline of the ACDC dataset"
   ]
  },
  {
   "cell_type": "code",
   "execution_count": null,
   "metadata": {},
   "outputs": [
    {
     "name": "stderr",
     "output_type": "stream",
     "text": [
      "c:\\Users\\kajou\\AppData\\Local\\Programs\\Python\\Python37\\lib\\site-packages\\tqdm\\auto.py:21: TqdmWarning: IProgress not found. Please update jupyter and ipywidgets. See https://ipywidgets.readthedocs.io/en/stable/user_install.html\n",
      "  from .autonotebook import tqdm as notebook_tqdm\n"
     ]
    }
   ],
   "source": [
    "\n",
    "import torch \n",
    "import torchio as tio\n",
    "\n",
    "from torchvision import transforms\n",
    "import torchvision.transforms.functional as F\n",
    "import torch.nn.functional as f\n",
    "import torchvision.ops as ops\n",
    "from torchvision.transforms import Compose\n",
    "from torch.utils.data import Dataset, DataLoader\n",
    "\n",
    "import os\n",
    "import matplotlib.pyplot as plt\n",
    "import numpy as np"
   ]
  },
  {
   "cell_type": "code",
   "execution_count": 2,
   "metadata": {},
   "outputs": [],
   "source": [
    "dataset_path = \"/Users/kajou/OneDrive/Desktop/VQ-VAE/ACDC/database/training\""
   ]
  },
  {
   "cell_type": "markdown",
   "metadata": {},
   "source": [
    "#### Defining the dataset : \n",
    "\n",
    "Now, for our specefic case , knowing that we will work on only the segmentations of the cardiac shapes, and knoowing that the ACDC dataset provides 100 patients in training and50 in testing which isn't big in the context of dataBases, we prefer to call all the segmetations on a list for the easy usage, in other contexts where the dataSet is so large this solution may rapidly cause Resources exhaustion. that's why it is prefered to go through the Dataset class where you provide the path of your data, and let it handle the fecths from disk at each batch."
   ]
  },
  {
   "cell_type": "code",
   "execution_count": null,
   "metadata": {},
   "outputs": [],
   "source": [
    "# The following paramerters are set according to the VQ-VAE paper.\n",
    "\n",
    "L = 64 # image size L=W\n",
    "BATCH_SIZE = 128\n"
   ]
  },
  {
   "cell_type": "code",
   "execution_count": 4,
   "metadata": {},
   "outputs": [],
   "source": [
    "def get_max_BB(D3_slice):\n",
    "    masks = (D3_slice > 0).float()\n",
    "\n",
    "    # boxes = ops.masks_to_boxes(binary_masks)\n",
    "    boxes = []\n",
    "    for mask in masks:\n",
    "        # Get coordinates of non-zero pixels\n",
    "        y, x = torch.where(mask)\n",
    "        \n",
    "        if len(y) == 0:  # Empty mask\n",
    "            continue\n",
    "            \n",
    "        # Compute box coordinates\n",
    "        box = [\n",
    "            x.min(), y.min(),\n",
    "            x.max(), y.max()\n",
    "        ]\n",
    "        \n",
    "        boxes.append(box)\n",
    "        \n",
    "    boxes = torch.tensor(boxes)\n",
    "    largest_box = torch.tensor([\n",
    "        boxes[:, 0].min(),  # smallest x1\n",
    "        boxes[:, 1].min(),  # smallest y1\n",
    "        boxes[:, 2].max(),  # largest x2\n",
    "        boxes[:, 3].max()   # largest y2\n",
    "    ])\n",
    "    return largest_box\n",
    "\n",
    "def to_square_BB(BB):\n",
    "    min_col, min_row,max_col, max_row = BB\n",
    "    L = max_col - min_col\n",
    "    W = max_row - min_row\n",
    "    d = np.abs(L-W)\n",
    "    eps_left = d//2 \n",
    "    eps_right = d-eps_left\n",
    "    if L>W : \n",
    "        min_row -= eps_left\n",
    "        max_row += eps_right\n",
    "    else : \n",
    "        min_col -= eps_left\n",
    "        max_col += eps_right\n",
    "    return [min_col, min_row, max_col, max_row]\n",
    "\n",
    "\n",
    "def add_background_BB(suqare_BB,n_p = 10):\n",
    "    min_col, min_row, max_col, max_row = suqare_BB\n",
    "\n",
    "    min_col -= n_p\n",
    "    min_row -= n_p\n",
    "    max_row += n_p\n",
    "    max_col += n_p\n",
    "    BB_bg = [min_col, min_row, max_col, max_row]\n",
    "    return BB_bg\n",
    "\n",
    "def crop_img(D3_slice):\n",
    "    # BB = ops.masks_to_boxes(img.unsqueeze(0))[0].int().numpy()\n",
    "    BB = get_max_BB(D3_slice)\n",
    "    BB = to_square_BB(BB)\n",
    "    BB = add_background_BB(BB)\n",
    "    min_col, min_row,max_col, max_row = BB\n",
    "\n",
    "    img = D3_slice\n",
    "    croped = F.crop(img, min_row, min_col, max_row-min_row, max_col-min_col)\n",
    "    return croped"
   ]
  },
  {
   "cell_type": "code",
   "execution_count": 5,
   "metadata": {},
   "outputs": [
    {
     "name": "stdout",
     "output_type": "stream",
     "text": [
      "['patient001', 'patient002', 'patient003', 'patient004', 'patient005', 'patient006', 'patient007', 'patient008', 'patient009', 'patient010', 'patient011', 'patient012', 'patient013', 'patient014', 'patient015', 'patient016', 'patient017', 'patient018', 'patient019', 'patient020', 'patient021', 'patient022', 'patient023', 'patient024', 'patient025', 'patient026', 'patient027', 'patient028', 'patient029', 'patient030', 'patient031', 'patient032', 'patient033', 'patient034', 'patient035', 'patient036', 'patient037', 'patient038', 'patient039', 'patient040', 'patient041', 'patient042', 'patient043', 'patient044', 'patient045', 'patient046', 'patient047', 'patient048', 'patient049', 'patient050', 'patient051', 'patient052', 'patient053', 'patient054', 'patient055', 'patient056', 'patient057', 'patient058', 'patient059', 'patient060', 'patient061', 'patient062', 'patient063', 'patient064', 'patient065', 'patient066', 'patient067', 'patient068', 'patient069', 'patient070', 'patient071', 'patient072', 'patient073', 'patient074', 'patient075', 'patient076', 'patient077', 'patient078', 'patient079', 'patient080', 'patient081', 'patient082', 'patient083', 'patient084', 'patient085', 'patient086', 'patient087', 'patient088', 'patient089', 'patient090', 'patient091', 'patient092', 'patient093', 'patient094', 'patient095', 'patient096', 'patient097', 'patient098', 'patient099', 'patient100']\n",
      "frame12\n"
     ]
    }
   ],
   "source": [
    "dataset_path = \"/Users/kajou/OneDrive/Desktop/VQ-VAE/ACDC/database\"\n",
    "\n",
    "patients = os.listdir(os.path.join(dataset_path, \"training\"))[1:]\n",
    "print(patients)\n",
    "patient_PATH  = os.path.join(dataset_path, \"training\", \"patient002\")\n",
    "files = os.listdir(patient_PATH)\n",
    "image_files = [f for f in files if f.endswith('.nii.gz') and not f.endswith('_gt.nii.gz') and not f.endswith('4d.nii.gz')]\n",
    "frames = [f.split('_')[1].split('.')[0] for f in image_files ]\n",
    "\n",
    "print(max(frames))"
   ]
  },
  {
   "cell_type": "code",
   "execution_count": 6,
   "metadata": {},
   "outputs": [],
   "source": [
    "dataset_path = \"/Users/kajou/OneDrive/Desktop/VQ-VAE/ACDC/database\"\n",
    "\n",
    "def load_patient_gt(patient_PATH) :\n",
    "    files = os.listdir(patient_PATH)\n",
    "    image_files = [f for f in files if f.endswith('.nii.gz') and not f.endswith('_gt.nii.gz') and not f.endswith('4d.nii.gz')]\n",
    "    gt_files = [f for f in files if f.endswith('_gt.nii.gz')]\n",
    "\n",
    "\n",
    "    # Identify ED and ES frames\n",
    "    frames = [f.split('_')[1].split('.')[0] for f in image_files ]\n",
    "    ed_frame = min(frames)\n",
    "    es_frame = max(frames)\n",
    "\n",
    "    # Load ground truth segmentations\n",
    "    ed_gt = tio.LabelMap(os.path.join(patient_PATH, f\"patient{patient_PATH[-3:]}_{ed_frame}_gt.nii.gz\"))\n",
    "    es_gt = tio.LabelMap(os.path.join(patient_PATH, f\"patient{patient_PATH[-3:]}_{es_frame}_gt.nii.gz\"))\n",
    "    ed_gt_slices = crop_img(ed_gt.data.squeeze(0).permute(2,0,1)).flatten(start_dim = 0, end_dim=0) \n",
    "    es_gt_slices = crop_img(es_gt.data.squeeze(0).permute(2,0,1)).flatten(start_dim = 0, end_dim=0)\n",
    "\n",
    "\n",
    "    return [tensor for tensor in ed_gt_slices] + [tensor for tensor in es_gt_slices]\n",
    "\n",
    "def load_dataset(Path):\n",
    "    dataset = []\n",
    "    patients = os.listdir(Path)[1:]\n",
    "    for patient in patients : \n",
    "        patient_gt = load_patient_gt(os.path.join(Path, patient)) \n",
    "        dataset  += patient_gt\n",
    "    return dataset\n",
    "\n",
    "\n",
    "train_dataset = load_dataset(os.path.join(dataset_path, \"training\"))\n",
    "test_dataset = load_dataset(os.path.join(dataset_path, \"testing\"))"
   ]
  },
  {
   "cell_type": "code",
   "execution_count": 7,
   "metadata": {},
   "outputs": [
    {
     "name": "stdout",
     "output_type": "stream",
     "text": [
      "1902\n"
     ]
    }
   ],
   "source": [
    "print(len(train_dataset))"
   ]
  },
  {
   "cell_type": "code",
   "execution_count": 8,
   "metadata": {},
   "outputs": [
    {
     "name": "stdout",
     "output_type": "stream",
     "text": [
      "torch.Size([103, 103])\n"
     ]
    },
    {
     "data": {
      "image/png": "[encoded data removed]",
      "text/plain": [
       "<Figure size 640x480 with 1 Axes>"
      ]
     },
     "metadata": {},
     "output_type": "display_data"
    }
   ],
   "source": [
    "from matplotlib.colors import ListedColormap\n",
    "custom_colors = [\n",
    "    '#000000', '#ff0000', '#ffd700', '#00ffff']\n",
    "\n",
    "cmap = ListedColormap(custom_colors)\n",
    "\n",
    "slice = train_dataset[20]\n",
    "plt.imshow(slice , cmap)\n",
    "plt.axis('off')\n",
    "\n",
    "print(slice.shape)"
   ]
  },
  {
   "cell_type": "code",
   "execution_count": 9,
   "metadata": {},
   "outputs": [
    {
     "data": {
      "text/plain": [
       "torch.Size([1, 84, 84])"
      ]
     },
     "execution_count": 9,
     "metadata": {},
     "output_type": "execute_result"
    }
   ],
   "source": [
    "train_dataset[1001].unsqueeze(0).shape"
   ]
  },
  {
   "cell_type": "code",
   "execution_count": 10,
   "metadata": {},
   "outputs": [],
   "source": [
    "class One_hot_Transform:\n",
    "    def __init__(self, num_classes):\n",
    "        self.num_classes = num_classes\n",
    "    \n",
    "    def __call__(self, x):\n",
    "        x = x.squeeze(0).long()\n",
    "        one_hot_encoded = f.one_hot(x, num_classes=4)\n",
    "        return one_hot_encoded.permute(2, 0, 1)\n",
    "        \n",
    "input_transforms = Compose([\n",
    "    transforms.Resize(size=(L,L), interpolation=transforms.InterpolationMode.NEAREST),\n",
    "    One_hot_Transform(num_classes=4)\n",
    "    ])\n",
    "\n",
    "#define the dataset\n",
    "\n",
    "class ACDC_slices(Dataset):\n",
    "    def __init__(self, data, transforms =None):\n",
    "        self.data = data\n",
    "        self.transforms = transforms\n",
    "\n",
    "    def __len__(self):\n",
    "        return len(self.data)\n",
    "    \n",
    "    def __getitem__(self, idx):\n",
    "        item = self.data[idx]\n",
    "        item = item.unsqueeze(0)  # Shape: (1, H, W)\n",
    "\n",
    "        if self.transforms:\n",
    "            item = self.transforms(item)\n",
    "\n",
    "        return item\n",
    "    \n",
    "TrainDataset = ACDC_slices(data = train_dataset, transforms= input_transforms) \n",
    "TestDataset  = ACDC_slices(data = test_dataset, transforms= input_transforms)\n",
    "\n",
    "TrainLoader  = DataLoader(TrainDataset, batch_size = BATCH_SIZE, shuffle = True)\n",
    "TestLoader   = DataLoader(TestDataset , batch_size = BATCH_SIZE, shuffle = True)\n",
    "\n",
    "batch = next(iter(TrainLoader))"
   ]
  },
  {
   "cell_type": "code",
   "execution_count": 11,
   "metadata": {},
   "outputs": [
    {
     "data": {
      "text/plain": [
       "128"
      ]
     },
     "execution_count": 11,
     "metadata": {},
     "output_type": "execute_result"
    }
   ],
   "source": [
    "batch.shape[0]"
   ]
  },
  {
   "cell_type": "code",
   "execution_count": 12,
   "metadata": {},
   "outputs": [
    {
     "name": "stdout",
     "output_type": "stream",
     "text": [
      "Batch of images shape: torch.Size([128, 4, 64, 64])\n",
      "Batch of segmentations shape: torch.Size([128, 4, 64, 64])\n"
     ]
    },
    {
     "data": {
      "image/png": "[encoded data removed]",
      "text/plain": [
       "<Figure size 1000x2000 with 32 Axes>"
      ]
     },
     "metadata": {},
     "output_type": "display_data"
    }
   ],
   "source": [
    "batch = next(iter(TrainLoader))\n",
    "def visualize_batch(batch):\n",
    "    batch_size = batch.shape[0]\n",
    "    samples = 8\n",
    "\n",
    "\n",
    "    fig, axes = plt.subplots(samples, 4, figsize=(10, 20))  # Adjust figsize to accommodate more rows\n",
    "    fig.suptitle('Batch elements', fontsize=20)\n",
    "\n",
    "\n",
    "    for ax in axes.flat:\n",
    "        ax.set_axis_off()\n",
    "\n",
    "    for i in range(samples):\n",
    "\n",
    "        img = batch[i]\n",
    "        axes[i,0].imshow(img[0,:,:], cmap = 'gray')\n",
    "        axes[i,1].imshow(img[1,:,:], cmap = 'gray')\n",
    "        axes[i,2].imshow(img[2,:,:], cmap = 'gray')\n",
    "        axes[i,3].imshow(img[3,:,:], cmap = 'gray')\n",
    "        # axes[i].axis('off')\n",
    "\n",
    "    \n",
    "    plt.tight_layout()\n",
    "    plt.show()\n",
    "\n",
    "# Example usage:\n",
    "# Visualize the first batch\n",
    "print(f\"Batch of images shape: {batch.shape}\")\n",
    "print(f\"Batch of segmentations shape: {batch.shape}\")\n",
    "visualize_batch(batch)"
   ]
  },
  {
   "cell_type": "code",
   "execution_count": null,
   "metadata": {},
   "outputs": [],
   "source": [
    "from torch.nn import functional as F\n",
    "\n"
   ]
  },
  {
   "cell_type": "code",
   "execution_count": 87,
   "metadata": {},
   "outputs": [
    {
     "data": {
      "text/plain": [
       "tensor(2298972.7500)"
      ]
     },
     "execution_count": 87,
     "metadata": {},
     "output_type": "execute_result"
    }
   ],
   "source": [
    "batch.shape\n",
    "target = 2*torch.rand(128,4,64,64)\n",
    "F.binary_cross_entropy_with_logits(target, batch.float(), reduction='sum')"
   ]
  },
  {
   "cell_type": "code",
   "execution_count": null,
   "metadata": {},
   "outputs": [],
   "source": []
  }
 ],
 "metadata": {
  "kernelspec": {
   "display_name": "Python 3",
   "language": "python",
   "name": "python3"
  },
  "language_info": {
   "codemirror_mode": {
    "name": "ipython",
    "version": 3
   },
   "file_extension": ".py",
   "mimetype": "text/x-python",
   "name": "python",
   "nbconvert_exporter": "python",
   "pygments_lexer": "ipython3",
   "version": "3.7.9"
  }
 },
 "nbformat": 4,
 "nbformat_minor": 2
}
