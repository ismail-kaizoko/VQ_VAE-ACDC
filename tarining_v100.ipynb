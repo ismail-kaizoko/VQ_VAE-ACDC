{
 "cells": [
  {
   "cell_type": "code",
   "execution_count": 1,
   "metadata": {},
   "outputs": [
    {
     "name": "stderr",
     "output_type": "stream",
     "text": [
      "/home/ids/ihamdaoui-21/anaconda3/envs/torch/lib/python3.9/site-packages/tqdm/auto.py:21: TqdmWarning: IProgress not found. Please update jupyter and ipywidgets. See https://ipywidgets.readthedocs.io/en/stable/user_install.html\n",
      "  from .autonotebook import tqdm as notebook_tqdm\n"
     ]
    }
   ],
   "source": [
    "import numpy as np\n",
    "import torch \n",
    "from torch import nn\n",
    "from torch.nn import functional as F\n",
    "\n",
    "from typing import List, Callable, Union, Any, TypeVar, Tuple\n",
    "Tensor = TypeVar('torch.tensor')\n",
    "\n",
    "import torch.optim as optim\n",
    "\n",
    "\n",
    "# Data preprocessing utils : \n",
    "from acdc_dataset import ACDC_Dataset, One_hot_Transform, load_dataset\n",
    "from torchvision.transforms import Compose\n",
    "from torchvision import transforms\n",
    "\n",
    "from torch.utils.data import DataLoader\n",
    "\n",
    "\n",
    "# Visuals utils\n",
    "import os\n",
    "import matplotlib.pyplot as plt\n",
    "from tqdm import tqdm\n",
    "\n",
    "\n",
    "# my defined model\n",
    "from vqVAE import VQVAE"
   ]
  },
  {
   "cell_type": "code",
   "execution_count": 2,
   "metadata": {},
   "outputs": [],
   "source": [
    "def reconstruct2(batch, model):\n",
    "    z_e = model.encode(batch.float().to(device))[0]\n",
    "    z_q, _ , _= model.vq_layer(z_e)\n",
    "    img_hat = model.decode(z_q)\n",
    "    return img_hat\n",
    "\n",
    "def reconstruct(batch, model):\n",
    "    output, _, _, _ = model(batch.float())\n",
    "    return output\n",
    "\n",
    "def save_model(model, epoch, ):\n",
    "    checkpoint_path = os.path.join( os.getcwd() , model_name )\n",
    "    torch.save({'epoch' : epoch,\n",
    "                'model_state_dict': model.state_dict()}, checkpoint_path)\n",
    "\n",
    "def visualize_batch(batch, title):\n",
    "    batch_size = batch.shape[0]\n",
    "    samples = 8\n",
    "\n",
    "\n",
    "    fig, axes = plt.subplots(samples, 4, figsize=(10, 20))  # Adjust figsize to accommodate more rows\n",
    "    fig.suptitle(title, fontsize=16)\n",
    "\n",
    "    for ax in axes.flat:\n",
    "        ax.set_axis_off()\n",
    "\n",
    "    for i in range(samples):\n",
    "\n",
    "        img = batch[i]\n",
    "        axes[i,0].imshow(img[0,:,:], cmap = 'gray')\n",
    "        axes[i,1].imshow(img[1,:,:], cmap = 'gray')\n",
    "        axes[i,2].imshow(img[2,:,:], cmap = 'gray')\n",
    "        axes[i,3].imshow(img[3,:,:], cmap = 'gray')\n",
    "        # axes[i].axis('off')\n",
    "\n",
    "    \n",
    "    # plt.tight_layout()\n",
    "    plt.tight_layout(rect=[0, 0, 1, 0.95])\n",
    "    plt.show()"
   ]
  },
  {
   "cell_type": "markdown",
   "metadata": {},
   "source": [
    "## Preparing Dataset "
   ]
  },
  {
   "cell_type": "code",
   "execution_count": 3,
   "metadata": {},
   "outputs": [],
   "source": [
    "L = 128 # image size L=W\n",
    "BATCH_SIZE = 16"
   ]
  },
  {
   "cell_type": "code",
   "execution_count": 4,
   "metadata": {},
   "outputs": [],
   "source": [
    "dataset_path = \"/home/ids/ihamdaoui-21/ACDC/database\"\n",
    "\n",
    "train_set_path = os.path.join(dataset_path, \"training\")\n",
    "test_set_path  = os.path.join(dataset_path, \"testing\")\n"
   ]
  },
  {
   "cell_type": "code",
   "execution_count": 5,
   "metadata": {},
   "outputs": [
    {
     "name": "stderr",
     "output_type": "stream",
     "text": [
      "WARNING: In /tmp/SimpleITK-build/ITK/Modules/IO/NIFTI/src/itkNiftiImageIO.cxx, line 1997\n",
      "NiftiImageIO (0x8c1aec0): /home/ids/ihamdaoui-21/ACDC/database/training/patient042/patient042_frame01_gt.nii.gz has unexpected scales in sform\n",
      "\n",
      "WARNING: In /tmp/SimpleITK-build/ITK/Modules/IO/NIFTI/src/itkNiftiImageIO.cxx, line 1997\n",
      "NiftiImageIO (0x8c1aec0): /home/ids/ihamdaoui-21/ACDC/database/training/patient042/patient042_frame01_gt.nii.gz has unexpected scales in sform\n",
      "\n",
      "WARNING: In /tmp/SimpleITK-build/ITK/Modules/IO/NIFTI/src/itkNiftiImageIO.cxx, line 1997\n",
      "NiftiImageIO (0x8d8de20): /home/ids/ihamdaoui-21/ACDC/database/training/patient042/patient042_frame16_gt.nii.gz has unexpected scales in sform\n",
      "\n",
      "WARNING: In /tmp/SimpleITK-build/ITK/Modules/IO/NIFTI/src/itkNiftiImageIO.cxx, line 1997\n",
      "NiftiImageIO (0x8d8de20): /home/ids/ihamdaoui-21/ACDC/database/training/patient042/patient042_frame16_gt.nii.gz has unexpected scales in sform\n",
      "\n",
      "WARNING: In /tmp/SimpleITK-build/ITK/Modules/IO/NIFTI/src/itkNiftiImageIO.cxx, line 1997\n",
      "NiftiImageIO (0x8adf6b0): /home/ids/ihamdaoui-21/ACDC/database/training/patient035/patient035_frame01_gt.nii.gz has unexpected scales in sform\n",
      "\n",
      "WARNING: In /tmp/SimpleITK-build/ITK/Modules/IO/NIFTI/src/itkNiftiImageIO.cxx, line 1997\n",
      "NiftiImageIO (0x8adf6b0): /home/ids/ihamdaoui-21/ACDC/database/training/patient035/patient035_frame01_gt.nii.gz has unexpected scales in sform\n",
      "\n",
      "WARNING: In /tmp/SimpleITK-build/ITK/Modules/IO/NIFTI/src/itkNiftiImageIO.cxx, line 1997\n",
      "NiftiImageIO (0x8d70090): /home/ids/ihamdaoui-21/ACDC/database/training/patient035/patient035_frame11_gt.nii.gz has unexpected scales in sform\n",
      "\n",
      "WARNING: In /tmp/SimpleITK-build/ITK/Modules/IO/NIFTI/src/itkNiftiImageIO.cxx, line 1997\n",
      "NiftiImageIO (0x8d70090): /home/ids/ihamdaoui-21/ACDC/database/training/patient035/patient035_frame11_gt.nii.gz has unexpected scales in sform\n",
      "\n",
      "WARNING: In /tmp/SimpleITK-build/ITK/Modules/IO/NIFTI/src/itkNiftiImageIO.cxx, line 1997\n",
      "NiftiImageIO (0x8adf6b0): /home/ids/ihamdaoui-21/ACDC/database/training/patient048/patient048_frame01_gt.nii.gz has unexpected scales in sform\n",
      "\n",
      "WARNING: In /tmp/SimpleITK-build/ITK/Modules/IO/NIFTI/src/itkNiftiImageIO.cxx, line 1997\n",
      "NiftiImageIO (0x8adf6b0): /home/ids/ihamdaoui-21/ACDC/database/training/patient048/patient048_frame01_gt.nii.gz has unexpected scales in sform\n",
      "\n",
      "WARNING: In /tmp/SimpleITK-build/ITK/Modules/IO/NIFTI/src/itkNiftiImageIO.cxx, line 1997\n",
      "NiftiImageIO (0x8d70090): /home/ids/ihamdaoui-21/ACDC/database/training/patient048/patient048_frame08_gt.nii.gz has unexpected scales in sform\n",
      "\n",
      "WARNING: In /tmp/SimpleITK-build/ITK/Modules/IO/NIFTI/src/itkNiftiImageIO.cxx, line 1997\n",
      "NiftiImageIO (0x8d70090): /home/ids/ihamdaoui-21/ACDC/database/training/patient048/patient048_frame08_gt.nii.gz has unexpected scales in sform\n",
      "\n",
      "WARNING: In /tmp/SimpleITK-build/ITK/Modules/IO/NIFTI/src/itkNiftiImageIO.cxx, line 1997\n",
      "NiftiImageIO (0x8adf6b0): /home/ids/ihamdaoui-21/ACDC/database/training/patient007/patient007_frame01_gt.nii.gz has unexpected scales in sform\n",
      "\n",
      "WARNING: In /tmp/SimpleITK-build/ITK/Modules/IO/NIFTI/src/itkNiftiImageIO.cxx, line 1997\n",
      "NiftiImageIO (0x8adf6b0): /home/ids/ihamdaoui-21/ACDC/database/training/patient007/patient007_frame01_gt.nii.gz has unexpected scales in sform\n",
      "\n",
      "WARNING: In /tmp/SimpleITK-build/ITK/Modules/IO/NIFTI/src/itkNiftiImageIO.cxx, line 1997\n",
      "NiftiImageIO (0x8d70090): /home/ids/ihamdaoui-21/ACDC/database/training/patient007/patient007_frame07_gt.nii.gz has unexpected scales in sform\n",
      "\n",
      "WARNING: In /tmp/SimpleITK-build/ITK/Modules/IO/NIFTI/src/itkNiftiImageIO.cxx, line 1997\n",
      "NiftiImageIO (0x8d70090): /home/ids/ihamdaoui-21/ACDC/database/training/patient007/patient007_frame07_gt.nii.gz has unexpected scales in sform\n",
      "\n",
      "WARNING: In /tmp/SimpleITK-build/ITK/Modules/IO/NIFTI/src/itkNiftiImageIO.cxx, line 1997\n",
      "NiftiImageIO (0x8adf6b0): /home/ids/ihamdaoui-21/ACDC/database/training/patient070/patient070_frame01_gt.nii.gz has unexpected scales in sform\n",
      "\n",
      "WARNING: In /tmp/SimpleITK-build/ITK/Modules/IO/NIFTI/src/itkNiftiImageIO.cxx, line 1997\n",
      "NiftiImageIO (0x8adf6b0): /home/ids/ihamdaoui-21/ACDC/database/training/patient070/patient070_frame01_gt.nii.gz has unexpected scales in sform\n",
      "\n",
      "WARNING: In /tmp/SimpleITK-build/ITK/Modules/IO/NIFTI/src/itkNiftiImageIO.cxx, line 1997\n",
      "NiftiImageIO (0x8d70090): /home/ids/ihamdaoui-21/ACDC/database/training/patient070/patient070_frame10_gt.nii.gz has unexpected scales in sform\n",
      "\n",
      "WARNING: In /tmp/SimpleITK-build/ITK/Modules/IO/NIFTI/src/itkNiftiImageIO.cxx, line 1997\n",
      "NiftiImageIO (0x8d70090): /home/ids/ihamdaoui-21/ACDC/database/training/patient070/patient070_frame10_gt.nii.gz has unexpected scales in sform\n",
      "\n",
      "WARNING: In /tmp/SimpleITK-build/ITK/Modules/IO/NIFTI/src/itkNiftiImageIO.cxx, line 1997\n",
      "NiftiImageIO (0x8adf6b0): /home/ids/ihamdaoui-21/ACDC/database/training/patient100/patient100_frame01_gt.nii.gz has unexpected scales in sform\n",
      "\n",
      "WARNING: In /tmp/SimpleITK-build/ITK/Modules/IO/NIFTI/src/itkNiftiImageIO.cxx, line 1997\n",
      "NiftiImageIO (0x8adf6b0): /home/ids/ihamdaoui-21/ACDC/database/training/patient100/patient100_frame01_gt.nii.gz has unexpected scales in sform\n",
      "\n",
      "WARNING: In /tmp/SimpleITK-build/ITK/Modules/IO/NIFTI/src/itkNiftiImageIO.cxx, line 1997\n",
      "NiftiImageIO (0x8d70090): /home/ids/ihamdaoui-21/ACDC/database/training/patient100/patient100_frame13_gt.nii.gz has unexpected scales in sform\n",
      "\n",
      "WARNING: In /tmp/SimpleITK-build/ITK/Modules/IO/NIFTI/src/itkNiftiImageIO.cxx, line 1997\n",
      "NiftiImageIO (0x8d70090): /home/ids/ihamdaoui-21/ACDC/database/training/patient100/patient100_frame13_gt.nii.gz has unexpected scales in sform\n",
      "\n",
      "WARNING: In /tmp/SimpleITK-build/ITK/Modules/IO/NIFTI/src/itkNiftiImageIO.cxx, line 1997\n",
      "NiftiImageIO (0x8adf6b0): /home/ids/ihamdaoui-21/ACDC/database/training/patient094/patient094_frame01_gt.nii.gz has unexpected scales in sform\n",
      "\n",
      "WARNING: In /tmp/SimpleITK-build/ITK/Modules/IO/NIFTI/src/itkNiftiImageIO.cxx, line 1997\n",
      "NiftiImageIO (0x8adf6b0): /home/ids/ihamdaoui-21/ACDC/database/training/patient094/patient094_frame01_gt.nii.gz has unexpected scales in sform\n",
      "\n",
      "WARNING: In /tmp/SimpleITK-build/ITK/Modules/IO/NIFTI/src/itkNiftiImageIO.cxx, line 1997\n",
      "NiftiImageIO (0x8d70090): /home/ids/ihamdaoui-21/ACDC/database/training/patient094/patient094_frame07_gt.nii.gz has unexpected scales in sform\n",
      "\n",
      "WARNING: In /tmp/SimpleITK-build/ITK/Modules/IO/NIFTI/src/itkNiftiImageIO.cxx, line 1997\n",
      "NiftiImageIO (0x8d70090): /home/ids/ihamdaoui-21/ACDC/database/training/patient094/patient094_frame07_gt.nii.gz has unexpected scales in sform\n",
      "\n",
      "WARNING: In /tmp/SimpleITK-build/ITK/Modules/IO/NIFTI/src/itkNiftiImageIO.cxx, line 1997\n",
      "NiftiImageIO (0x8adf6b0): /home/ids/ihamdaoui-21/ACDC/database/training/patient051/patient051_frame01_gt.nii.gz has unexpected scales in sform\n",
      "\n",
      "WARNING: In /tmp/SimpleITK-build/ITK/Modules/IO/NIFTI/src/itkNiftiImageIO.cxx, line 1997\n",
      "NiftiImageIO (0x8adf6b0): /home/ids/ihamdaoui-21/ACDC/database/training/patient051/patient051_frame01_gt.nii.gz has unexpected scales in sform\n",
      "\n",
      "WARNING: In /tmp/SimpleITK-build/ITK/Modules/IO/NIFTI/src/itkNiftiImageIO.cxx, line 1997\n",
      "NiftiImageIO (0x8d70090): /home/ids/ihamdaoui-21/ACDC/database/training/patient051/patient051_frame11_gt.nii.gz has unexpected scales in sform\n",
      "\n",
      "WARNING: In /tmp/SimpleITK-build/ITK/Modules/IO/NIFTI/src/itkNiftiImageIO.cxx, line 1997\n",
      "NiftiImageIO (0x8d70090): /home/ids/ihamdaoui-21/ACDC/database/training/patient051/patient051_frame11_gt.nii.gz has unexpected scales in sform\n",
      "\n",
      "WARNING: In /tmp/SimpleITK-build/ITK/Modules/IO/NIFTI/src/itkNiftiImageIO.cxx, line 1997\n",
      "NiftiImageIO (0x8adf6b0): /home/ids/ihamdaoui-21/ACDC/database/training/patient026/patient026_frame01_gt.nii.gz has unexpected scales in sform\n",
      "\n",
      "WARNING: In /tmp/SimpleITK-build/ITK/Modules/IO/NIFTI/src/itkNiftiImageIO.cxx, line 1997\n",
      "NiftiImageIO (0x8adf6b0): /home/ids/ihamdaoui-21/ACDC/database/training/patient026/patient026_frame01_gt.nii.gz has unexpected scales in sform\n",
      "\n",
      "WARNING: In /tmp/SimpleITK-build/ITK/Modules/IO/NIFTI/src/itkNiftiImageIO.cxx, line 1997\n",
      "NiftiImageIO (0x8d70090): /home/ids/ihamdaoui-21/ACDC/database/training/patient026/patient026_frame12_gt.nii.gz has unexpected scales in sform\n",
      "\n",
      "WARNING: In /tmp/SimpleITK-build/ITK/Modules/IO/NIFTI/src/itkNiftiImageIO.cxx, line 1997\n",
      "NiftiImageIO (0x8d70090): /home/ids/ihamdaoui-21/ACDC/database/training/patient026/patient026_frame12_gt.nii.gz has unexpected scales in sform\n",
      "\n",
      "WARNING: In /tmp/SimpleITK-build/ITK/Modules/IO/NIFTI/src/itkNiftiImageIO.cxx, line 1997\n",
      "NiftiImageIO (0x8adf6b0): /home/ids/ihamdaoui-21/ACDC/database/training/patient087/patient087_frame01_gt.nii.gz has unexpected scales in sform\n",
      "\n",
      "WARNING: In /tmp/SimpleITK-build/ITK/Modules/IO/NIFTI/src/itkNiftiImageIO.cxx, line 1997\n",
      "NiftiImageIO (0x8adf6b0): /home/ids/ihamdaoui-21/ACDC/database/training/patient087/patient087_frame01_gt.nii.gz has unexpected scales in sform\n",
      "\n",
      "WARNING: In /tmp/SimpleITK-build/ITK/Modules/IO/NIFTI/src/itkNiftiImageIO.cxx, line 1997\n",
      "NiftiImageIO (0x8d70090): /home/ids/ihamdaoui-21/ACDC/database/training/patient087/patient087_frame10_gt.nii.gz has unexpected scales in sform\n",
      "\n",
      "WARNING: In /tmp/SimpleITK-build/ITK/Modules/IO/NIFTI/src/itkNiftiImageIO.cxx, line 1997\n",
      "NiftiImageIO (0x8d70090): /home/ids/ihamdaoui-21/ACDC/database/training/patient087/patient087_frame10_gt.nii.gz has unexpected scales in sform\n",
      "\n",
      "WARNING: In /tmp/SimpleITK-build/ITK/Modules/IO/NIFTI/src/itkNiftiImageIO.cxx, line 1997\n",
      "NiftiImageIO (0x8adf6b0): /home/ids/ihamdaoui-21/ACDC/database/training/patient069/patient069_frame01_gt.nii.gz has unexpected scales in sform\n",
      "\n",
      "WARNING: In /tmp/SimpleITK-build/ITK/Modules/IO/NIFTI/src/itkNiftiImageIO.cxx, line 1997\n",
      "NiftiImageIO (0x8adf6b0): /home/ids/ihamdaoui-21/ACDC/database/training/patient069/patient069_frame01_gt.nii.gz has unexpected scales in sform\n",
      "\n",
      "WARNING: In /tmp/SimpleITK-build/ITK/Modules/IO/NIFTI/src/itkNiftiImageIO.cxx, line 1997\n",
      "NiftiImageIO (0x8d70090): /home/ids/ihamdaoui-21/ACDC/database/training/patient069/patient069_frame12_gt.nii.gz has unexpected scales in sform\n",
      "\n",
      "WARNING: In /tmp/SimpleITK-build/ITK/Modules/IO/NIFTI/src/itkNiftiImageIO.cxx, line 1997\n",
      "NiftiImageIO (0x8d70090): /home/ids/ihamdaoui-21/ACDC/database/training/patient069/patient069_frame12_gt.nii.gz has unexpected scales in sform\n",
      "\n",
      "WARNING: In /tmp/SimpleITK-build/ITK/Modules/IO/NIFTI/src/itkNiftiImageIO.cxx, line 1997\n",
      "NiftiImageIO (0x8adf6b0): /home/ids/ihamdaoui-21/ACDC/database/training/patient014/patient014_frame01_gt.nii.gz has unexpected scales in sform\n",
      "\n",
      "WARNING: In /tmp/SimpleITK-build/ITK/Modules/IO/NIFTI/src/itkNiftiImageIO.cxx, line 1997\n",
      "NiftiImageIO (0x8adf6b0): /home/ids/ihamdaoui-21/ACDC/database/training/patient014/patient014_frame01_gt.nii.gz has unexpected scales in sform\n",
      "\n",
      "WARNING: In /tmp/SimpleITK-build/ITK/Modules/IO/NIFTI/src/itkNiftiImageIO.cxx, line 1997\n",
      "NiftiImageIO (0x8d70090): /home/ids/ihamdaoui-21/ACDC/database/training/patient014/patient014_frame13_gt.nii.gz has unexpected scales in sform\n",
      "\n",
      "WARNING: In /tmp/SimpleITK-build/ITK/Modules/IO/NIFTI/src/itkNiftiImageIO.cxx, line 1997\n",
      "NiftiImageIO (0x8d70090): /home/ids/ihamdaoui-21/ACDC/database/training/patient014/patient014_frame13_gt.nii.gz has unexpected scales in sform\n",
      "\n",
      "WARNING: In /tmp/SimpleITK-build/ITK/Modules/IO/NIFTI/src/itkNiftiImageIO.cxx, line 1997\n",
      "NiftiImageIO (0x8adf6b0): /home/ids/ihamdaoui-21/ACDC/database/training/patient063/patient063_frame01_gt.nii.gz has unexpected scales in sform\n",
      "\n",
      "WARNING: In /tmp/SimpleITK-build/ITK/Modules/IO/NIFTI/src/itkNiftiImageIO.cxx, line 1997\n",
      "NiftiImageIO (0x8adf6b0): /home/ids/ihamdaoui-21/ACDC/database/training/patient063/patient063_frame01_gt.nii.gz has unexpected scales in sform\n",
      "\n",
      "WARNING: In /tmp/SimpleITK-build/ITK/Modules/IO/NIFTI/src/itkNiftiImageIO.cxx, line 1997\n",
      "NiftiImageIO (0x8d70090): /home/ids/ihamdaoui-21/ACDC/database/training/patient063/patient063_frame16_gt.nii.gz has unexpected scales in sform\n",
      "\n",
      "WARNING: In /tmp/SimpleITK-build/ITK/Modules/IO/NIFTI/src/itkNiftiImageIO.cxx, line 1997\n",
      "NiftiImageIO (0x8d70090): /home/ids/ihamdaoui-21/ACDC/database/training/patient063/patient063_frame16_gt.nii.gz has unexpected scales in sform\n",
      "\n",
      "WARNING: In /tmp/SimpleITK-build/ITK/Modules/IO/NIFTI/src/itkNiftiImageIO.cxx, line 1997\n",
      "NiftiImageIO (0x8adf6b0): /home/ids/ihamdaoui-21/ACDC/database/training/patient019/patient019_frame01_gt.nii.gz has unexpected scales in sform\n",
      "\n",
      "WARNING: In /tmp/SimpleITK-build/ITK/Modules/IO/NIFTI/src/itkNiftiImageIO.cxx, line 1997\n",
      "NiftiImageIO (0x8adf6b0): /home/ids/ihamdaoui-21/ACDC/database/training/patient019/patient019_frame01_gt.nii.gz has unexpected scales in sform\n",
      "\n",
      "WARNING: In /tmp/SimpleITK-build/ITK/Modules/IO/NIFTI/src/itkNiftiImageIO.cxx, line 1997\n",
      "NiftiImageIO (0x8d70090): /home/ids/ihamdaoui-21/ACDC/database/training/patient019/patient019_frame11_gt.nii.gz has unexpected scales in sform\n",
      "\n",
      "WARNING: In /tmp/SimpleITK-build/ITK/Modules/IO/NIFTI/src/itkNiftiImageIO.cxx, line 1997\n",
      "NiftiImageIO (0x8d70090): /home/ids/ihamdaoui-21/ACDC/database/training/patient019/patient019_frame11_gt.nii.gz has unexpected scales in sform\n",
      "\n",
      "WARNING: In /tmp/SimpleITK-build/ITK/Modules/IO/NIFTI/src/itkNiftiImageIO.cxx, line 1997\n",
      "NiftiImageIO (0x8adf6b0): /home/ids/ihamdaoui-21/ACDC/database/training/patient080/patient080_frame01_gt.nii.gz has unexpected scales in sform\n",
      "\n",
      "WARNING: In /tmp/SimpleITK-build/ITK/Modules/IO/NIFTI/src/itkNiftiImageIO.cxx, line 1997\n",
      "NiftiImageIO (0x8adf6b0): /home/ids/ihamdaoui-21/ACDC/database/training/patient080/patient080_frame01_gt.nii.gz has unexpected scales in sform\n",
      "\n",
      "WARNING: In /tmp/SimpleITK-build/ITK/Modules/IO/NIFTI/src/itkNiftiImageIO.cxx, line 1997\n",
      "NiftiImageIO (0x8d70090): /home/ids/ihamdaoui-21/ACDC/database/training/patient080/patient080_frame10_gt.nii.gz has unexpected scales in sform\n",
      "\n",
      "WARNING: In /tmp/SimpleITK-build/ITK/Modules/IO/NIFTI/src/itkNiftiImageIO.cxx, line 1997\n",
      "NiftiImageIO (0x8d70090): /home/ids/ihamdaoui-21/ACDC/database/training/patient080/patient080_frame10_gt.nii.gz has unexpected scales in sform\n",
      "\n",
      "WARNING: In /tmp/SimpleITK-build/ITK/Modules/IO/NIFTI/src/itkNiftiImageIO.cxx, line 1997\n",
      "NiftiImageIO (0x8adf6b0): /home/ids/ihamdaoui-21/ACDC/database/training/patient064/patient064_frame01_gt.nii.gz has unexpected scales in sform\n",
      "\n",
      "WARNING: In /tmp/SimpleITK-build/ITK/Modules/IO/NIFTI/src/itkNiftiImageIO.cxx, line 1997\n",
      "NiftiImageIO (0x8adf6b0): /home/ids/ihamdaoui-21/ACDC/database/training/patient064/patient064_frame01_gt.nii.gz has unexpected scales in sform\n",
      "\n",
      "WARNING: In /tmp/SimpleITK-build/ITK/Modules/IO/NIFTI/src/itkNiftiImageIO.cxx, line 1997\n",
      "NiftiImageIO (0x8d70090): /home/ids/ihamdaoui-21/ACDC/database/training/patient064/patient064_frame12_gt.nii.gz has unexpected scales in sform\n",
      "\n",
      "WARNING: In /tmp/SimpleITK-build/ITK/Modules/IO/NIFTI/src/itkNiftiImageIO.cxx, line 1997\n",
      "NiftiImageIO (0x8d70090): /home/ids/ihamdaoui-21/ACDC/database/training/patient064/patient064_frame12_gt.nii.gz has unexpected scales in sform\n",
      "\n",
      "WARNING: In /tmp/SimpleITK-build/ITK/Modules/IO/NIFTI/src/itkNiftiImageIO.cxx, line 1997\n",
      "NiftiImageIO (0x8adf6b0): /home/ids/ihamdaoui-21/ACDC/database/training/patient013/patient013_frame01_gt.nii.gz has unexpected scales in sform\n",
      "\n",
      "WARNING: In /tmp/SimpleITK-build/ITK/Modules/IO/NIFTI/src/itkNiftiImageIO.cxx, line 1997\n",
      "NiftiImageIO (0x8adf6b0): /home/ids/ihamdaoui-21/ACDC/database/training/patient013/patient013_frame01_gt.nii.gz has unexpected scales in sform\n",
      "\n",
      "WARNING: In /tmp/SimpleITK-build/ITK/Modules/IO/NIFTI/src/itkNiftiImageIO.cxx, line 1997\n",
      "NiftiImageIO (0x8d70090): /home/ids/ihamdaoui-21/ACDC/database/training/patient013/patient013_frame14_gt.nii.gz has unexpected scales in sform\n",
      "\n",
      "WARNING: In /tmp/SimpleITK-build/ITK/Modules/IO/NIFTI/src/itkNiftiImageIO.cxx, line 1997\n",
      "NiftiImageIO (0x8d70090): /home/ids/ihamdaoui-21/ACDC/database/training/patient013/patient013_frame14_gt.nii.gz has unexpected scales in sform\n",
      "\n",
      "WARNING: In /tmp/SimpleITK-build/ITK/Modules/IO/NIFTI/src/itkNiftiImageIO.cxx, line 1997\n",
      "NiftiImageIO (0x8adf6b0): /home/ids/ihamdaoui-21/ACDC/database/training/patient021/patient021_frame01_gt.nii.gz has unexpected scales in sform\n",
      "\n",
      "WARNING: In /tmp/SimpleITK-build/ITK/Modules/IO/NIFTI/src/itkNiftiImageIO.cxx, line 1997\n",
      "NiftiImageIO (0x8adf6b0): /home/ids/ihamdaoui-21/ACDC/database/training/patient021/patient021_frame01_gt.nii.gz has unexpected scales in sform\n",
      "\n",
      "WARNING: In /tmp/SimpleITK-build/ITK/Modules/IO/NIFTI/src/itkNiftiImageIO.cxx, line 1997\n",
      "NiftiImageIO (0x8d70090): /home/ids/ihamdaoui-21/ACDC/database/training/patient021/patient021_frame13_gt.nii.gz has unexpected scales in sform\n",
      "\n",
      "WARNING: In /tmp/SimpleITK-build/ITK/Modules/IO/NIFTI/src/itkNiftiImageIO.cxx, line 1997\n",
      "NiftiImageIO (0x8d70090): /home/ids/ihamdaoui-21/ACDC/database/training/patient021/patient021_frame13_gt.nii.gz has unexpected scales in sform\n",
      "\n",
      "WARNING: In /tmp/SimpleITK-build/ITK/Modules/IO/NIFTI/src/itkNiftiImageIO.cxx, line 1997\n",
      "NiftiImageIO (0x8adf6b0): /home/ids/ihamdaoui-21/ACDC/database/training/patient056/patient056_frame01_gt.nii.gz has unexpected scales in sform\n",
      "\n",
      "WARNING: In /tmp/SimpleITK-build/ITK/Modules/IO/NIFTI/src/itkNiftiImageIO.cxx, line 1997\n",
      "NiftiImageIO (0x8adf6b0): /home/ids/ihamdaoui-21/ACDC/database/training/patient056/patient056_frame01_gt.nii.gz has unexpected scales in sform\n",
      "\n",
      "WARNING: In /tmp/SimpleITK-build/ITK/Modules/IO/NIFTI/src/itkNiftiImageIO.cxx, line 1997\n",
      "NiftiImageIO (0x8d70090): /home/ids/ihamdaoui-21/ACDC/database/training/patient056/patient056_frame12_gt.nii.gz has unexpected scales in sform\n",
      "\n",
      "WARNING: In /tmp/SimpleITK-build/ITK/Modules/IO/NIFTI/src/itkNiftiImageIO.cxx, line 1997\n",
      "NiftiImageIO (0x8d70090): /home/ids/ihamdaoui-21/ACDC/database/training/patient056/patient056_frame12_gt.nii.gz has unexpected scales in sform\n",
      "\n",
      "WARNING: In /tmp/SimpleITK-build/ITK/Modules/IO/NIFTI/src/itkNiftiImageIO.cxx, line 1997\n",
      "NiftiImageIO (0x8adf6b0): /home/ids/ihamdaoui-21/ACDC/database/training/patient099/patient099_frame01_gt.nii.gz has unexpected scales in sform\n",
      "\n",
      "WARNING: In /tmp/SimpleITK-build/ITK/Modules/IO/NIFTI/src/itkNiftiImageIO.cxx, line 1997\n",
      "NiftiImageIO (0x8adf6b0): /home/ids/ihamdaoui-21/ACDC/database/training/patient099/patient099_frame01_gt.nii.gz has unexpected scales in sform\n",
      "\n",
      "WARNING: In /tmp/SimpleITK-build/ITK/Modules/IO/NIFTI/src/itkNiftiImageIO.cxx, line 1997\n",
      "NiftiImageIO (0x8d70090): /home/ids/ihamdaoui-21/ACDC/database/training/patient099/patient099_frame09_gt.nii.gz has unexpected scales in sform\n",
      "\n",
      "WARNING: In /tmp/SimpleITK-build/ITK/Modules/IO/NIFTI/src/itkNiftiImageIO.cxx, line 1997\n",
      "NiftiImageIO (0x8d70090): /home/ids/ihamdaoui-21/ACDC/database/training/patient099/patient099_frame09_gt.nii.gz has unexpected scales in sform\n",
      "\n",
      "WARNING: In /tmp/SimpleITK-build/ITK/Modules/IO/NIFTI/src/itkNiftiImageIO.cxx, line 1997\n",
      "NiftiImageIO (0x8adf6b0): /home/ids/ihamdaoui-21/ACDC/database/training/patient077/patient077_frame01_gt.nii.gz has unexpected scales in sform\n",
      "\n",
      "WARNING: In /tmp/SimpleITK-build/ITK/Modules/IO/NIFTI/src/itkNiftiImageIO.cxx, line 1997\n",
      "NiftiImageIO (0x8adf6b0): /home/ids/ihamdaoui-21/ACDC/database/training/patient077/patient077_frame01_gt.nii.gz has unexpected scales in sform\n",
      "\n",
      "WARNING: In /tmp/SimpleITK-build/ITK/Modules/IO/NIFTI/src/itkNiftiImageIO.cxx, line 1997\n",
      "NiftiImageIO (0x8d70090): /home/ids/ihamdaoui-21/ACDC/database/training/patient077/patient077_frame09_gt.nii.gz has unexpected scales in sform\n",
      "\n",
      "WARNING: In /tmp/SimpleITK-build/ITK/Modules/IO/NIFTI/src/itkNiftiImageIO.cxx, line 1997\n",
      "NiftiImageIO (0x8d70090): /home/ids/ihamdaoui-21/ACDC/database/training/patient077/patient077_frame09_gt.nii.gz has unexpected scales in sform\n",
      "\n",
      "WARNING: In /tmp/SimpleITK-build/ITK/Modules/IO/NIFTI/src/itkNiftiImageIO.cxx, line 1997\n",
      "NiftiImageIO (0x8adf6b0): /home/ids/ihamdaoui-21/ACDC/database/training/patient093/patient093_frame01_gt.nii.gz has unexpected scales in sform\n",
      "\n",
      "WARNING: In /tmp/SimpleITK-build/ITK/Modules/IO/NIFTI/src/itkNiftiImageIO.cxx, line 1997\n",
      "NiftiImageIO (0x8adf6b0): /home/ids/ihamdaoui-21/ACDC/database/training/patient093/patient093_frame01_gt.nii.gz has unexpected scales in sform\n",
      "\n",
      "WARNING: In /tmp/SimpleITK-build/ITK/Modules/IO/NIFTI/src/itkNiftiImageIO.cxx, line 1997\n",
      "NiftiImageIO (0x8d70090): /home/ids/ihamdaoui-21/ACDC/database/training/patient093/patient093_frame14_gt.nii.gz has unexpected scales in sform\n",
      "\n",
      "WARNING: In /tmp/SimpleITK-build/ITK/Modules/IO/NIFTI/src/itkNiftiImageIO.cxx, line 1997\n",
      "NiftiImageIO (0x8d70090): /home/ids/ihamdaoui-21/ACDC/database/training/patient093/patient093_frame14_gt.nii.gz has unexpected scales in sform\n",
      "\n",
      "WARNING: In /tmp/SimpleITK-build/ITK/Modules/IO/NIFTI/src/itkNiftiImageIO.cxx, line 1997\n",
      "NiftiImageIO (0x8adf6b0): /home/ids/ihamdaoui-21/ACDC/database/training/patient032/patient032_frame01_gt.nii.gz has unexpected scales in sform\n",
      "\n",
      "WARNING: In /tmp/SimpleITK-build/ITK/Modules/IO/NIFTI/src/itkNiftiImageIO.cxx, line 1997\n",
      "NiftiImageIO (0x8adf6b0): /home/ids/ihamdaoui-21/ACDC/database/training/patient032/patient032_frame01_gt.nii.gz has unexpected scales in sform\n",
      "\n",
      "WARNING: In /tmp/SimpleITK-build/ITK/Modules/IO/NIFTI/src/itkNiftiImageIO.cxx, line 1997\n",
      "NiftiImageIO (0x8d70090): /home/ids/ihamdaoui-21/ACDC/database/training/patient032/patient032_frame12_gt.nii.gz has unexpected scales in sform\n",
      "\n",
      "WARNING: In /tmp/SimpleITK-build/ITK/Modules/IO/NIFTI/src/itkNiftiImageIO.cxx, line 1997\n",
      "NiftiImageIO (0x8d70090): /home/ids/ihamdaoui-21/ACDC/database/training/patient032/patient032_frame12_gt.nii.gz has unexpected scales in sform\n",
      "\n",
      "WARNING: In /tmp/SimpleITK-build/ITK/Modules/IO/NIFTI/src/itkNiftiImageIO.cxx, line 1997\n",
      "NiftiImageIO (0x8adf6b0): /home/ids/ihamdaoui-21/ACDC/database/training/patient045/patient045_frame01_gt.nii.gz has unexpected scales in sform\n",
      "\n",
      "WARNING: In /tmp/SimpleITK-build/ITK/Modules/IO/NIFTI/src/itkNiftiImageIO.cxx, line 1997\n",
      "NiftiImageIO (0x8adf6b0): /home/ids/ihamdaoui-21/ACDC/database/training/patient045/patient045_frame01_gt.nii.gz has unexpected scales in sform\n",
      "\n",
      "WARNING: In /tmp/SimpleITK-build/ITK/Modules/IO/NIFTI/src/itkNiftiImageIO.cxx, line 1997\n",
      "NiftiImageIO (0x8d70090): /home/ids/ihamdaoui-21/ACDC/database/training/patient045/patient045_frame13_gt.nii.gz has unexpected scales in sform\n",
      "\n",
      "WARNING: In /tmp/SimpleITK-build/ITK/Modules/IO/NIFTI/src/itkNiftiImageIO.cxx, line 1997\n",
      "NiftiImageIO (0x8d70090): /home/ids/ihamdaoui-21/ACDC/database/training/patient045/patient045_frame13_gt.nii.gz has unexpected scales in sform\n",
      "\n",
      "WARNING: In /tmp/SimpleITK-build/ITK/Modules/IO/NIFTI/src/itkNiftiImageIO.cxx, line 1997\n",
      "NiftiImageIO (0x8adf6b0): /home/ids/ihamdaoui-21/ACDC/database/training/patient038/patient038_frame01_gt.nii.gz has unexpected scales in sform\n",
      "\n",
      "WARNING: In /tmp/SimpleITK-build/ITK/Modules/IO/NIFTI/src/itkNiftiImageIO.cxx, line 1997\n",
      "NiftiImageIO (0x8adf6b0): /home/ids/ihamdaoui-21/ACDC/database/training/patient038/patient038_frame01_gt.nii.gz has unexpected scales in sform\n",
      "\n",
      "WARNING: In /tmp/SimpleITK-build/ITK/Modules/IO/NIFTI/src/itkNiftiImageIO.cxx, line 1997\n",
      "NiftiImageIO (0x8d70090): /home/ids/ihamdaoui-21/ACDC/database/training/patient038/patient038_frame11_gt.nii.gz has unexpected scales in sform\n",
      "\n",
      "WARNING: In /tmp/SimpleITK-build/ITK/Modules/IO/NIFTI/src/itkNiftiImageIO.cxx, line 1997\n",
      "NiftiImageIO (0x8d70090): /home/ids/ihamdaoui-21/ACDC/database/training/patient038/patient038_frame11_gt.nii.gz has unexpected scales in sform\n",
      "\n",
      "WARNING: In /tmp/SimpleITK-build/ITK/Modules/IO/NIFTI/src/itkNiftiImageIO.cxx, line 1997\n",
      "NiftiImageIO (0x8adf6b0): /home/ids/ihamdaoui-21/ACDC/database/training/patient036/patient036_frame01_gt.nii.gz has unexpected scales in sform\n",
      "\n",
      "WARNING: In /tmp/SimpleITK-build/ITK/Modules/IO/NIFTI/src/itkNiftiImageIO.cxx, line 1997\n",
      "NiftiImageIO (0x8adf6b0): /home/ids/ihamdaoui-21/ACDC/database/training/patient036/patient036_frame01_gt.nii.gz has unexpected scales in sform\n",
      "\n",
      "WARNING: In /tmp/SimpleITK-build/ITK/Modules/IO/NIFTI/src/itkNiftiImageIO.cxx, line 1997\n",
      "NiftiImageIO (0x8d70090): /home/ids/ihamdaoui-21/ACDC/database/training/patient036/patient036_frame12_gt.nii.gz has unexpected scales in sform\n",
      "\n",
      "WARNING: In /tmp/SimpleITK-build/ITK/Modules/IO/NIFTI/src/itkNiftiImageIO.cxx, line 1997\n",
      "NiftiImageIO (0x8d70090): /home/ids/ihamdaoui-21/ACDC/database/training/patient036/patient036_frame12_gt.nii.gz has unexpected scales in sform\n",
      "\n",
      "WARNING: In /tmp/SimpleITK-build/ITK/Modules/IO/NIFTI/src/itkNiftiImageIO.cxx, line 1997\n",
      "NiftiImageIO (0x8adf6b0): /home/ids/ihamdaoui-21/ACDC/database/training/patient041/patient041_frame01_gt.nii.gz has unexpected scales in sform\n",
      "\n",
      "WARNING: In /tmp/SimpleITK-build/ITK/Modules/IO/NIFTI/src/itkNiftiImageIO.cxx, line 1997\n",
      "NiftiImageIO (0x8adf6b0): /home/ids/ihamdaoui-21/ACDC/database/training/patient041/patient041_frame01_gt.nii.gz has unexpected scales in sform\n",
      "\n",
      "WARNING: In /tmp/SimpleITK-build/ITK/Modules/IO/NIFTI/src/itkNiftiImageIO.cxx, line 1997\n",
      "NiftiImageIO (0x8d70090): /home/ids/ihamdaoui-21/ACDC/database/training/patient041/patient041_frame11_gt.nii.gz has unexpected scales in sform\n",
      "\n",
      "WARNING: In /tmp/SimpleITK-build/ITK/Modules/IO/NIFTI/src/itkNiftiImageIO.cxx, line 1997\n",
      "NiftiImageIO (0x8d70090): /home/ids/ihamdaoui-21/ACDC/database/training/patient041/patient041_frame11_gt.nii.gz has unexpected scales in sform\n",
      "\n",
      "WARNING: In /tmp/SimpleITK-build/ITK/Modules/IO/NIFTI/src/itkNiftiImageIO.cxx, line 1997\n",
      "NiftiImageIO (0x8adf6b0): /home/ids/ihamdaoui-21/ACDC/database/training/patient079/patient079_frame01_gt.nii.gz has unexpected scales in sform\n",
      "\n",
      "WARNING: In /tmp/SimpleITK-build/ITK/Modules/IO/NIFTI/src/itkNiftiImageIO.cxx, line 1997\n",
      "NiftiImageIO (0x8adf6b0): /home/ids/ihamdaoui-21/ACDC/database/training/patient079/patient079_frame01_gt.nii.gz has unexpected scales in sform\n",
      "\n",
      "WARNING: In /tmp/SimpleITK-build/ITK/Modules/IO/NIFTI/src/itkNiftiImageIO.cxx, line 1997\n",
      "NiftiImageIO (0x8d70090): /home/ids/ihamdaoui-21/ACDC/database/training/patient079/patient079_frame11_gt.nii.gz has unexpected scales in sform\n",
      "\n",
      "WARNING: In /tmp/SimpleITK-build/ITK/Modules/IO/NIFTI/src/itkNiftiImageIO.cxx, line 1997\n",
      "NiftiImageIO (0x8d70090): /home/ids/ihamdaoui-21/ACDC/database/training/patient079/patient079_frame11_gt.nii.gz has unexpected scales in sform\n",
      "\n",
      "WARNING: In /tmp/SimpleITK-build/ITK/Modules/IO/NIFTI/src/itkNiftiImageIO.cxx, line 1997\n",
      "NiftiImageIO (0x8adf6b0): /home/ids/ihamdaoui-21/ACDC/database/training/patient097/patient097_frame01_gt.nii.gz has unexpected scales in sform\n",
      "\n",
      "WARNING: In /tmp/SimpleITK-build/ITK/Modules/IO/NIFTI/src/itkNiftiImageIO.cxx, line 1997\n",
      "NiftiImageIO (0x8adf6b0): /home/ids/ihamdaoui-21/ACDC/database/training/patient097/patient097_frame01_gt.nii.gz has unexpected scales in sform\n",
      "\n",
      "WARNING: In /tmp/SimpleITK-build/ITK/Modules/IO/NIFTI/src/itkNiftiImageIO.cxx, line 1997\n",
      "NiftiImageIO (0x8d70090): /home/ids/ihamdaoui-21/ACDC/database/training/patient097/patient097_frame11_gt.nii.gz has unexpected scales in sform\n",
      "\n",
      "WARNING: In /tmp/SimpleITK-build/ITK/Modules/IO/NIFTI/src/itkNiftiImageIO.cxx, line 1997\n",
      "NiftiImageIO (0x8d70090): /home/ids/ihamdaoui-21/ACDC/database/training/patient097/patient097_frame11_gt.nii.gz has unexpected scales in sform\n",
      "\n",
      "WARNING: In /tmp/SimpleITK-build/ITK/Modules/IO/NIFTI/src/itkNiftiImageIO.cxx, line 1997\n",
      "NiftiImageIO (0x8adf6b0): /home/ids/ihamdaoui-21/ACDC/database/training/patient073/patient073_frame01_gt.nii.gz has unexpected scales in sform\n",
      "\n",
      "WARNING: In /tmp/SimpleITK-build/ITK/Modules/IO/NIFTI/src/itkNiftiImageIO.cxx, line 1997\n",
      "NiftiImageIO (0x8adf6b0): /home/ids/ihamdaoui-21/ACDC/database/training/patient073/patient073_frame01_gt.nii.gz has unexpected scales in sform\n",
      "\n",
      "WARNING: In /tmp/SimpleITK-build/ITK/Modules/IO/NIFTI/src/itkNiftiImageIO.cxx, line 1997\n",
      "NiftiImageIO (0x8d70090): /home/ids/ihamdaoui-21/ACDC/database/training/patient073/patient073_frame10_gt.nii.gz has unexpected scales in sform\n",
      "\n",
      "WARNING: In /tmp/SimpleITK-build/ITK/Modules/IO/NIFTI/src/itkNiftiImageIO.cxx, line 1997\n",
      "NiftiImageIO (0x8d70090): /home/ids/ihamdaoui-21/ACDC/database/training/patient073/patient073_frame10_gt.nii.gz has unexpected scales in sform\n",
      "\n",
      "WARNING: In /tmp/SimpleITK-build/ITK/Modules/IO/NIFTI/src/itkNiftiImageIO.cxx, line 1997\n",
      "NiftiImageIO (0x8adf6b0): /home/ids/ihamdaoui-21/ACDC/database/training/patient004/patient004_frame01_gt.nii.gz has unexpected scales in sform\n",
      "\n",
      "WARNING: In /tmp/SimpleITK-build/ITK/Modules/IO/NIFTI/src/itkNiftiImageIO.cxx, line 1997\n",
      "NiftiImageIO (0x8adf6b0): /home/ids/ihamdaoui-21/ACDC/database/training/patient004/patient004_frame01_gt.nii.gz has unexpected scales in sform\n",
      "\n",
      "WARNING: In /tmp/SimpleITK-build/ITK/Modules/IO/NIFTI/src/itkNiftiImageIO.cxx, line 1997\n",
      "NiftiImageIO (0x8d70090): /home/ids/ihamdaoui-21/ACDC/database/training/patient004/patient004_frame15_gt.nii.gz has unexpected scales in sform\n",
      "\n",
      "WARNING: In /tmp/SimpleITK-build/ITK/Modules/IO/NIFTI/src/itkNiftiImageIO.cxx, line 1997\n",
      "NiftiImageIO (0x8d70090): /home/ids/ihamdaoui-21/ACDC/database/training/patient004/patient004_frame15_gt.nii.gz has unexpected scales in sform\n",
      "\n",
      "WARNING: In /tmp/SimpleITK-build/ITK/Modules/IO/NIFTI/src/itkNiftiImageIO.cxx, line 1997\n",
      "NiftiImageIO (0x8adf6b0): /home/ids/ihamdaoui-21/ACDC/database/training/patient025/patient025_frame01_gt.nii.gz has unexpected scales in sform\n",
      "\n",
      "WARNING: In /tmp/SimpleITK-build/ITK/Modules/IO/NIFTI/src/itkNiftiImageIO.cxx, line 1997\n",
      "NiftiImageIO (0x8adf6b0): /home/ids/ihamdaoui-21/ACDC/database/training/patient025/patient025_frame01_gt.nii.gz has unexpected scales in sform\n",
      "\n",
      "WARNING: In /tmp/SimpleITK-build/ITK/Modules/IO/NIFTI/src/itkNiftiImageIO.cxx, line 1997\n",
      "NiftiImageIO (0x8d70090): /home/ids/ihamdaoui-21/ACDC/database/training/patient025/patient025_frame09_gt.nii.gz has unexpected scales in sform\n",
      "\n",
      "WARNING: In /tmp/SimpleITK-build/ITK/Modules/IO/NIFTI/src/itkNiftiImageIO.cxx, line 1997\n",
      "NiftiImageIO (0x8d70090): /home/ids/ihamdaoui-21/ACDC/database/training/patient025/patient025_frame09_gt.nii.gz has unexpected scales in sform\n",
      "\n",
      "WARNING: In /tmp/SimpleITK-build/ITK/Modules/IO/NIFTI/src/itkNiftiImageIO.cxx, line 1997\n",
      "NiftiImageIO (0x8adf6b0): /home/ids/ihamdaoui-21/ACDC/database/training/patient052/patient052_frame01_gt.nii.gz has unexpected scales in sform\n",
      "\n",
      "WARNING: In /tmp/SimpleITK-build/ITK/Modules/IO/NIFTI/src/itkNiftiImageIO.cxx, line 1997\n",
      "NiftiImageIO (0x8adf6b0): /home/ids/ihamdaoui-21/ACDC/database/training/patient052/patient052_frame01_gt.nii.gz has unexpected scales in sform\n",
      "\n",
      "WARNING: In /tmp/SimpleITK-build/ITK/Modules/IO/NIFTI/src/itkNiftiImageIO.cxx, line 1997\n",
      "NiftiImageIO (0x8d70090): /home/ids/ihamdaoui-21/ACDC/database/training/patient052/patient052_frame09_gt.nii.gz has unexpected scales in sform\n",
      "\n",
      "WARNING: In /tmp/SimpleITK-build/ITK/Modules/IO/NIFTI/src/itkNiftiImageIO.cxx, line 1997\n",
      "NiftiImageIO (0x8d70090): /home/ids/ihamdaoui-21/ACDC/database/training/patient052/patient052_frame09_gt.nii.gz has unexpected scales in sform\n",
      "\n",
      "WARNING: In /tmp/SimpleITK-build/ITK/Modules/IO/NIFTI/src/itkNiftiImageIO.cxx, line 1997\n",
      "NiftiImageIO (0x8adf6b0): /home/ids/ihamdaoui-21/ACDC/database/training/patient058/patient058_frame01_gt.nii.gz has unexpected scales in sform\n",
      "\n",
      "WARNING: In /tmp/SimpleITK-build/ITK/Modules/IO/NIFTI/src/itkNiftiImageIO.cxx, line 1997\n",
      "NiftiImageIO (0x8adf6b0): /home/ids/ihamdaoui-21/ACDC/database/training/patient058/patient058_frame01_gt.nii.gz has unexpected scales in sform\n",
      "\n",
      "WARNING: In /tmp/SimpleITK-build/ITK/Modules/IO/NIFTI/src/itkNiftiImageIO.cxx, line 1997\n",
      "NiftiImageIO (0x8d70090): /home/ids/ihamdaoui-21/ACDC/database/training/patient058/patient058_frame14_gt.nii.gz has unexpected scales in sform\n",
      "\n",
      "WARNING: In /tmp/SimpleITK-build/ITK/Modules/IO/NIFTI/src/itkNiftiImageIO.cxx, line 1997\n",
      "NiftiImageIO (0x8d70090): /home/ids/ihamdaoui-21/ACDC/database/training/patient058/patient058_frame14_gt.nii.gz has unexpected scales in sform\n",
      "\n",
      "WARNING: In /tmp/SimpleITK-build/ITK/Modules/IO/NIFTI/src/itkNiftiImageIO.cxx, line 1997\n",
      "NiftiImageIO (0x8adf6b0): /home/ids/ihamdaoui-21/ACDC/database/training/patient060/patient060_frame01_gt.nii.gz has unexpected scales in sform\n",
      "\n",
      "WARNING: In /tmp/SimpleITK-build/ITK/Modules/IO/NIFTI/src/itkNiftiImageIO.cxx, line 1997\n",
      "NiftiImageIO (0x8adf6b0): /home/ids/ihamdaoui-21/ACDC/database/training/patient060/patient060_frame01_gt.nii.gz has unexpected scales in sform\n",
      "\n",
      "WARNING: In /tmp/SimpleITK-build/ITK/Modules/IO/NIFTI/src/itkNiftiImageIO.cxx, line 1997\n",
      "NiftiImageIO (0x8d70090): /home/ids/ihamdaoui-21/ACDC/database/training/patient060/patient060_frame14_gt.nii.gz has unexpected scales in sform\n",
      "\n",
      "WARNING: In /tmp/SimpleITK-build/ITK/Modules/IO/NIFTI/src/itkNiftiImageIO.cxx, line 1997\n",
      "NiftiImageIO (0x8d70090): /home/ids/ihamdaoui-21/ACDC/database/training/patient060/patient060_frame14_gt.nii.gz has unexpected scales in sform\n",
      "\n",
      "WARNING: In /tmp/SimpleITK-build/ITK/Modules/IO/NIFTI/src/itkNiftiImageIO.cxx, line 1997\n",
      "NiftiImageIO (0x8adf6b0): /home/ids/ihamdaoui-21/ACDC/database/training/patient017/patient017_frame01_gt.nii.gz has unexpected scales in sform\n",
      "\n",
      "WARNING: In /tmp/SimpleITK-build/ITK/Modules/IO/NIFTI/src/itkNiftiImageIO.cxx, line 1997\n",
      "NiftiImageIO (0x8adf6b0): /home/ids/ihamdaoui-21/ACDC/database/training/patient017/patient017_frame01_gt.nii.gz has unexpected scales in sform\n",
      "\n",
      "WARNING: In /tmp/SimpleITK-build/ITK/Modules/IO/NIFTI/src/itkNiftiImageIO.cxx, line 1997\n",
      "NiftiImageIO (0x8d70090): /home/ids/ihamdaoui-21/ACDC/database/training/patient017/patient017_frame09_gt.nii.gz has unexpected scales in sform\n",
      "\n",
      "WARNING: In /tmp/SimpleITK-build/ITK/Modules/IO/NIFTI/src/itkNiftiImageIO.cxx, line 1997\n",
      "NiftiImageIO (0x8d70090): /home/ids/ihamdaoui-21/ACDC/database/training/patient017/patient017_frame09_gt.nii.gz has unexpected scales in sform\n",
      "\n",
      "WARNING: In /tmp/SimpleITK-build/ITK/Modules/IO/NIFTI/src/itkNiftiImageIO.cxx, line 1997\n",
      "NiftiImageIO (0x8adf6b0): /home/ids/ihamdaoui-21/ACDC/database/training/patient084/patient084_frame01_gt.nii.gz has unexpected scales in sform\n",
      "\n",
      "WARNING: In /tmp/SimpleITK-build/ITK/Modules/IO/NIFTI/src/itkNiftiImageIO.cxx, line 1997\n",
      "NiftiImageIO (0x8adf6b0): /home/ids/ihamdaoui-21/ACDC/database/training/patient084/patient084_frame01_gt.nii.gz has unexpected scales in sform\n",
      "\n",
      "WARNING: In /tmp/SimpleITK-build/ITK/Modules/IO/NIFTI/src/itkNiftiImageIO.cxx, line 1997\n",
      "NiftiImageIO (0x8d70090): /home/ids/ihamdaoui-21/ACDC/database/training/patient084/patient084_frame10_gt.nii.gz has unexpected scales in sform\n",
      "\n",
      "WARNING: In /tmp/SimpleITK-build/ITK/Modules/IO/NIFTI/src/itkNiftiImageIO.cxx, line 1997\n",
      "NiftiImageIO (0x8d70090): /home/ids/ihamdaoui-21/ACDC/database/training/patient084/patient084_frame10_gt.nii.gz has unexpected scales in sform\n",
      "\n",
      "WARNING: In /tmp/SimpleITK-build/ITK/Modules/IO/NIFTI/src/itkNiftiImageIO.cxx, line 1997\n",
      "NiftiImageIO (0x8d70090): /home/ids/ihamdaoui-21/ACDC/database/training/patient010/patient010_frame01_gt.nii.gz has unexpected scales in sform\n",
      "\n",
      "WARNING: In /tmp/SimpleITK-build/ITK/Modules/IO/NIFTI/src/itkNiftiImageIO.cxx, line 1997\n",
      "NiftiImageIO (0x8d70090): /home/ids/ihamdaoui-21/ACDC/database/training/patient010/patient010_frame01_gt.nii.gz has unexpected scales in sform\n",
      "\n",
      "WARNING: In /tmp/SimpleITK-build/ITK/Modules/IO/NIFTI/src/itkNiftiImageIO.cxx, line 1997\n",
      "NiftiImageIO (0x8e79f00): /home/ids/ihamdaoui-21/ACDC/database/training/patient010/patient010_frame13_gt.nii.gz has unexpected scales in sform\n",
      "\n",
      "WARNING: In /tmp/SimpleITK-build/ITK/Modules/IO/NIFTI/src/itkNiftiImageIO.cxx, line 1997\n",
      "NiftiImageIO (0x8e79f00): /home/ids/ihamdaoui-21/ACDC/database/training/patient010/patient010_frame13_gt.nii.gz has unexpected scales in sform\n",
      "\n",
      "WARNING: In /tmp/SimpleITK-build/ITK/Modules/IO/NIFTI/src/itkNiftiImageIO.cxx, line 1997\n",
      "NiftiImageIO (0x8d70090): /home/ids/ihamdaoui-21/ACDC/database/training/patient067/patient067_frame01_gt.nii.gz has unexpected scales in sform\n",
      "\n",
      "WARNING: In /tmp/SimpleITK-build/ITK/Modules/IO/NIFTI/src/itkNiftiImageIO.cxx, line 1997\n",
      "NiftiImageIO (0x8d70090): /home/ids/ihamdaoui-21/ACDC/database/training/patient067/patient067_frame01_gt.nii.gz has unexpected scales in sform\n",
      "\n",
      "WARNING: In /tmp/SimpleITK-build/ITK/Modules/IO/NIFTI/src/itkNiftiImageIO.cxx, line 1997\n",
      "NiftiImageIO (0x8e79f00): /home/ids/ihamdaoui-21/ACDC/database/training/patient067/patient067_frame10_gt.nii.gz has unexpected scales in sform\n",
      "\n",
      "WARNING: In /tmp/SimpleITK-build/ITK/Modules/IO/NIFTI/src/itkNiftiImageIO.cxx, line 1997\n",
      "NiftiImageIO (0x8e79f00): /home/ids/ihamdaoui-21/ACDC/database/training/patient067/patient067_frame10_gt.nii.gz has unexpected scales in sform\n",
      "\n",
      "WARNING: In /tmp/SimpleITK-build/ITK/Modules/IO/NIFTI/src/itkNiftiImageIO.cxx, line 1997\n",
      "NiftiImageIO (0x8d70090): /home/ids/ihamdaoui-21/ACDC/database/training/patient089/patient089_frame01_gt.nii.gz has unexpected scales in sform\n",
      "\n",
      "WARNING: In /tmp/SimpleITK-build/ITK/Modules/IO/NIFTI/src/itkNiftiImageIO.cxx, line 1997\n",
      "NiftiImageIO (0x8d70090): /home/ids/ihamdaoui-21/ACDC/database/training/patient089/patient089_frame01_gt.nii.gz has unexpected scales in sform\n",
      "\n",
      "WARNING: In /tmp/SimpleITK-build/ITK/Modules/IO/NIFTI/src/itkNiftiImageIO.cxx, line 1997\n",
      "NiftiImageIO (0x8e79f00): /home/ids/ihamdaoui-21/ACDC/database/training/patient089/patient089_frame10_gt.nii.gz has unexpected scales in sform\n",
      "\n",
      "WARNING: In /tmp/SimpleITK-build/ITK/Modules/IO/NIFTI/src/itkNiftiImageIO.cxx, line 1997\n",
      "NiftiImageIO (0x8e79f00): /home/ids/ihamdaoui-21/ACDC/database/training/patient089/patient089_frame10_gt.nii.gz has unexpected scales in sform\n",
      "\n",
      "WARNING: In /tmp/SimpleITK-build/ITK/Modules/IO/NIFTI/src/itkNiftiImageIO.cxx, line 1997\n",
      "NiftiImageIO (0x8d70090): /home/ids/ihamdaoui-21/ACDC/database/training/patient083/patient083_frame01_gt.nii.gz has unexpected scales in sform\n",
      "\n",
      "WARNING: In /tmp/SimpleITK-build/ITK/Modules/IO/NIFTI/src/itkNiftiImageIO.cxx, line 1997\n",
      "NiftiImageIO (0x8d70090): /home/ids/ihamdaoui-21/ACDC/database/training/patient083/patient083_frame01_gt.nii.gz has unexpected scales in sform\n",
      "\n",
      "WARNING: In /tmp/SimpleITK-build/ITK/Modules/IO/NIFTI/src/itkNiftiImageIO.cxx, line 1997\n",
      "NiftiImageIO (0x8e79f00): /home/ids/ihamdaoui-21/ACDC/database/training/patient083/patient083_frame08_gt.nii.gz has unexpected scales in sform\n",
      "\n",
      "WARNING: In /tmp/SimpleITK-build/ITK/Modules/IO/NIFTI/src/itkNiftiImageIO.cxx, line 1997\n",
      "NiftiImageIO (0x8e79f00): /home/ids/ihamdaoui-21/ACDC/database/training/patient083/patient083_frame08_gt.nii.gz has unexpected scales in sform\n",
      "\n",
      "WARNING: In /tmp/SimpleITK-build/ITK/Modules/IO/NIFTI/src/itkNiftiImageIO.cxx, line 1997\n",
      "NiftiImageIO (0x8d70090): /home/ids/ihamdaoui-21/ACDC/database/training/patient055/patient055_frame01_gt.nii.gz has unexpected scales in sform\n",
      "\n",
      "WARNING: In /tmp/SimpleITK-build/ITK/Modules/IO/NIFTI/src/itkNiftiImageIO.cxx, line 1997\n",
      "NiftiImageIO (0x8d70090): /home/ids/ihamdaoui-21/ACDC/database/training/patient055/patient055_frame01_gt.nii.gz has unexpected scales in sform\n",
      "\n",
      "WARNING: In /tmp/SimpleITK-build/ITK/Modules/IO/NIFTI/src/itkNiftiImageIO.cxx, line 1997\n",
      "NiftiImageIO (0x8e79f00): /home/ids/ihamdaoui-21/ACDC/database/training/patient055/patient055_frame10_gt.nii.gz has unexpected scales in sform\n",
      "\n",
      "WARNING: In /tmp/SimpleITK-build/ITK/Modules/IO/NIFTI/src/itkNiftiImageIO.cxx, line 1997\n",
      "NiftiImageIO (0x8e79f00): /home/ids/ihamdaoui-21/ACDC/database/training/patient055/patient055_frame10_gt.nii.gz has unexpected scales in sform\n",
      "\n",
      "WARNING: In /tmp/SimpleITK-build/ITK/Modules/IO/NIFTI/src/itkNiftiImageIO.cxx, line 1997\n",
      "NiftiImageIO (0x8d70090): /home/ids/ihamdaoui-21/ACDC/database/training/patient022/patient022_frame01_gt.nii.gz has unexpected scales in sform\n",
      "\n",
      "WARNING: In /tmp/SimpleITK-build/ITK/Modules/IO/NIFTI/src/itkNiftiImageIO.cxx, line 1997\n",
      "NiftiImageIO (0x8d70090): /home/ids/ihamdaoui-21/ACDC/database/training/patient022/patient022_frame01_gt.nii.gz has unexpected scales in sform\n",
      "\n",
      "WARNING: In /tmp/SimpleITK-build/ITK/Modules/IO/NIFTI/src/itkNiftiImageIO.cxx, line 1997\n",
      "NiftiImageIO (0x8e79f00): /home/ids/ihamdaoui-21/ACDC/database/training/patient022/patient022_frame11_gt.nii.gz has unexpected scales in sform\n",
      "\n",
      "WARNING: In /tmp/SimpleITK-build/ITK/Modules/IO/NIFTI/src/itkNiftiImageIO.cxx, line 1997\n",
      "NiftiImageIO (0x8e79f00): /home/ids/ihamdaoui-21/ACDC/database/training/patient022/patient022_frame11_gt.nii.gz has unexpected scales in sform\n",
      "\n",
      "WARNING: In /tmp/SimpleITK-build/ITK/Modules/IO/NIFTI/src/itkNiftiImageIO.cxx, line 1997\n",
      "NiftiImageIO (0x8d70090): /home/ids/ihamdaoui-21/ACDC/database/training/patient028/patient028_frame01_gt.nii.gz has unexpected scales in sform\n",
      "\n",
      "WARNING: In /tmp/SimpleITK-build/ITK/Modules/IO/NIFTI/src/itkNiftiImageIO.cxx, line 1997\n",
      "NiftiImageIO (0x8d70090): /home/ids/ihamdaoui-21/ACDC/database/training/patient028/patient028_frame01_gt.nii.gz has unexpected scales in sform\n",
      "\n",
      "WARNING: In /tmp/SimpleITK-build/ITK/Modules/IO/NIFTI/src/itkNiftiImageIO.cxx, line 1997\n",
      "NiftiImageIO (0x8e79f00): /home/ids/ihamdaoui-21/ACDC/database/training/patient028/patient028_frame09_gt.nii.gz has unexpected scales in sform\n",
      "\n",
      "WARNING: In /tmp/SimpleITK-build/ITK/Modules/IO/NIFTI/src/itkNiftiImageIO.cxx, line 1997\n",
      "NiftiImageIO (0x8e79f00): /home/ids/ihamdaoui-21/ACDC/database/training/patient028/patient028_frame09_gt.nii.gz has unexpected scales in sform\n",
      "\n",
      "WARNING: In /tmp/SimpleITK-build/ITK/Modules/IO/NIFTI/src/itkNiftiImageIO.cxx, line 1997\n",
      "NiftiImageIO (0x8d70090): /home/ids/ihamdaoui-21/ACDC/database/training/patient090/patient090_frame04_gt.nii.gz has unexpected scales in sform\n",
      "\n",
      "WARNING: In /tmp/SimpleITK-build/ITK/Modules/IO/NIFTI/src/itkNiftiImageIO.cxx, line 1997\n",
      "NiftiImageIO (0x8d70090): /home/ids/ihamdaoui-21/ACDC/database/training/patient090/patient090_frame04_gt.nii.gz has unexpected scales in sform\n",
      "\n",
      "WARNING: In /tmp/SimpleITK-build/ITK/Modules/IO/NIFTI/src/itkNiftiImageIO.cxx, line 1997\n",
      "NiftiImageIO (0x8e79f00): /home/ids/ihamdaoui-21/ACDC/database/training/patient090/patient090_frame11_gt.nii.gz has unexpected scales in sform\n",
      "\n",
      "WARNING: In /tmp/SimpleITK-build/ITK/Modules/IO/NIFTI/src/itkNiftiImageIO.cxx, line 1997\n",
      "NiftiImageIO (0x8e79f00): /home/ids/ihamdaoui-21/ACDC/database/training/patient090/patient090_frame11_gt.nii.gz has unexpected scales in sform\n",
      "\n",
      "WARNING: In /tmp/SimpleITK-build/ITK/Modules/IO/NIFTI/src/itkNiftiImageIO.cxx, line 1997\n",
      "NiftiImageIO (0x8d70090): /home/ids/ihamdaoui-21/ACDC/database/training/patient009/patient009_frame01_gt.nii.gz has unexpected scales in sform\n",
      "\n",
      "WARNING: In /tmp/SimpleITK-build/ITK/Modules/IO/NIFTI/src/itkNiftiImageIO.cxx, line 1997\n",
      "NiftiImageIO (0x8d70090): /home/ids/ihamdaoui-21/ACDC/database/training/patient009/patient009_frame01_gt.nii.gz has unexpected scales in sform\n",
      "\n",
      "WARNING: In /tmp/SimpleITK-build/ITK/Modules/IO/NIFTI/src/itkNiftiImageIO.cxx, line 1997\n",
      "NiftiImageIO (0x8e79f00): /home/ids/ihamdaoui-21/ACDC/database/training/patient009/patient009_frame13_gt.nii.gz has unexpected scales in sform\n",
      "\n",
      "WARNING: In /tmp/SimpleITK-build/ITK/Modules/IO/NIFTI/src/itkNiftiImageIO.cxx, line 1997\n",
      "NiftiImageIO (0x8e79f00): /home/ids/ihamdaoui-21/ACDC/database/training/patient009/patient009_frame13_gt.nii.gz has unexpected scales in sform\n",
      "\n",
      "WARNING: In /tmp/SimpleITK-build/ITK/Modules/IO/NIFTI/src/itkNiftiImageIO.cxx, line 1997\n",
      "NiftiImageIO (0x8d70090): /home/ids/ihamdaoui-21/ACDC/database/training/patient003/patient003_frame01_gt.nii.gz has unexpected scales in sform\n",
      "\n",
      "WARNING: In /tmp/SimpleITK-build/ITK/Modules/IO/NIFTI/src/itkNiftiImageIO.cxx, line 1997\n",
      "NiftiImageIO (0x8d70090): /home/ids/ihamdaoui-21/ACDC/database/training/patient003/patient003_frame01_gt.nii.gz has unexpected scales in sform\n",
      "\n",
      "WARNING: In /tmp/SimpleITK-build/ITK/Modules/IO/NIFTI/src/itkNiftiImageIO.cxx, line 1997\n",
      "NiftiImageIO (0x8e79f00): /home/ids/ihamdaoui-21/ACDC/database/training/patient003/patient003_frame15_gt.nii.gz has unexpected scales in sform\n",
      "\n",
      "WARNING: In /tmp/SimpleITK-build/ITK/Modules/IO/NIFTI/src/itkNiftiImageIO.cxx, line 1997\n",
      "NiftiImageIO (0x8e79f00): /home/ids/ihamdaoui-21/ACDC/database/training/patient003/patient003_frame15_gt.nii.gz has unexpected scales in sform\n",
      "\n",
      "WARNING: In /tmp/SimpleITK-build/ITK/Modules/IO/NIFTI/src/itkNiftiImageIO.cxx, line 1997\n",
      "NiftiImageIO (0x8d70090): /home/ids/ihamdaoui-21/ACDC/database/training/patient074/patient074_frame01_gt.nii.gz has unexpected scales in sform\n",
      "\n",
      "WARNING: In /tmp/SimpleITK-build/ITK/Modules/IO/NIFTI/src/itkNiftiImageIO.cxx, line 1997\n",
      "NiftiImageIO (0x8d70090): /home/ids/ihamdaoui-21/ACDC/database/training/patient074/patient074_frame01_gt.nii.gz has unexpected scales in sform\n",
      "\n",
      "WARNING: In /tmp/SimpleITK-build/ITK/Modules/IO/NIFTI/src/itkNiftiImageIO.cxx, line 1997\n",
      "NiftiImageIO (0x8e79f00): /home/ids/ihamdaoui-21/ACDC/database/training/patient074/patient074_frame12_gt.nii.gz has unexpected scales in sform\n",
      "\n",
      "WARNING: In /tmp/SimpleITK-build/ITK/Modules/IO/NIFTI/src/itkNiftiImageIO.cxx, line 1997\n",
      "NiftiImageIO (0x8e79f00): /home/ids/ihamdaoui-21/ACDC/database/training/patient074/patient074_frame12_gt.nii.gz has unexpected scales in sform\n",
      "\n",
      "WARNING: In /tmp/SimpleITK-build/ITK/Modules/IO/NIFTI/src/itkNiftiImageIO.cxx, line 1997\n",
      "NiftiImageIO (0x8d70090): /home/ids/ihamdaoui-21/ACDC/database/training/patient046/patient046_frame01_gt.nii.gz has unexpected scales in sform\n",
      "\n",
      "WARNING: In /tmp/SimpleITK-build/ITK/Modules/IO/NIFTI/src/itkNiftiImageIO.cxx, line 1997\n",
      "NiftiImageIO (0x8d70090): /home/ids/ihamdaoui-21/ACDC/database/training/patient046/patient046_frame01_gt.nii.gz has unexpected scales in sform\n",
      "\n",
      "WARNING: In /tmp/SimpleITK-build/ITK/Modules/IO/NIFTI/src/itkNiftiImageIO.cxx, line 1997\n",
      "NiftiImageIO (0x8e79f00): /home/ids/ihamdaoui-21/ACDC/database/training/patient046/patient046_frame10_gt.nii.gz has unexpected scales in sform\n",
      "\n",
      "WARNING: In /tmp/SimpleITK-build/ITK/Modules/IO/NIFTI/src/itkNiftiImageIO.cxx, line 1997\n",
      "NiftiImageIO (0x8e79f00): /home/ids/ihamdaoui-21/ACDC/database/training/patient046/patient046_frame10_gt.nii.gz has unexpected scales in sform\n",
      "\n",
      "WARNING: In /tmp/SimpleITK-build/ITK/Modules/IO/NIFTI/src/itkNiftiImageIO.cxx, line 1997\n",
      "NiftiImageIO (0x8d70090): /home/ids/ihamdaoui-21/ACDC/database/training/patient031/patient031_frame01_gt.nii.gz has unexpected scales in sform\n",
      "\n",
      "WARNING: In /tmp/SimpleITK-build/ITK/Modules/IO/NIFTI/src/itkNiftiImageIO.cxx, line 1997\n",
      "NiftiImageIO (0x8d70090): /home/ids/ihamdaoui-21/ACDC/database/training/patient031/patient031_frame01_gt.nii.gz has unexpected scales in sform\n",
      "\n",
      "WARNING: In /tmp/SimpleITK-build/ITK/Modules/IO/NIFTI/src/itkNiftiImageIO.cxx, line 1997\n",
      "NiftiImageIO (0x8e79f00): /home/ids/ihamdaoui-21/ACDC/database/training/patient031/patient031_frame10_gt.nii.gz has unexpected scales in sform\n",
      "\n",
      "WARNING: In /tmp/SimpleITK-build/ITK/Modules/IO/NIFTI/src/itkNiftiImageIO.cxx, line 1997\n",
      "NiftiImageIO (0x8e79f00): /home/ids/ihamdaoui-21/ACDC/database/training/patient031/patient031_frame10_gt.nii.gz has unexpected scales in sform\n",
      "\n",
      "WARNING: In /tmp/SimpleITK-build/ITK/Modules/IO/NIFTI/src/itkNiftiImageIO.cxx, line 1997\n",
      "NiftiImageIO (0x8d70090): /home/ids/ihamdaoui-21/ACDC/database/training/patient092/patient092_frame01_gt.nii.gz has unexpected scales in sform\n",
      "\n",
      "WARNING: In /tmp/SimpleITK-build/ITK/Modules/IO/NIFTI/src/itkNiftiImageIO.cxx, line 1997\n",
      "NiftiImageIO (0x8d70090): /home/ids/ihamdaoui-21/ACDC/database/training/patient092/patient092_frame01_gt.nii.gz has unexpected scales in sform\n",
      "\n",
      "WARNING: In /tmp/SimpleITK-build/ITK/Modules/IO/NIFTI/src/itkNiftiImageIO.cxx, line 1997\n",
      "NiftiImageIO (0x8e79f00): /home/ids/ihamdaoui-21/ACDC/database/training/patient092/patient092_frame06_gt.nii.gz has unexpected scales in sform\n",
      "\n",
      "WARNING: In /tmp/SimpleITK-build/ITK/Modules/IO/NIFTI/src/itkNiftiImageIO.cxx, line 1997\n",
      "NiftiImageIO (0x8e79f00): /home/ids/ihamdaoui-21/ACDC/database/training/patient092/patient092_frame06_gt.nii.gz has unexpected scales in sform\n",
      "\n",
      "WARNING: In /tmp/SimpleITK-build/ITK/Modules/IO/NIFTI/src/itkNiftiImageIO.cxx, line 1997\n",
      "NiftiImageIO (0x8d70090): /home/ids/ihamdaoui-21/ACDC/database/training/patient098/patient098_frame01_gt.nii.gz has unexpected scales in sform\n",
      "\n",
      "WARNING: In /tmp/SimpleITK-build/ITK/Modules/IO/NIFTI/src/itkNiftiImageIO.cxx, line 1997\n",
      "NiftiImageIO (0x8d70090): /home/ids/ihamdaoui-21/ACDC/database/training/patient098/patient098_frame01_gt.nii.gz has unexpected scales in sform\n",
      "\n",
      "WARNING: In /tmp/SimpleITK-build/ITK/Modules/IO/NIFTI/src/itkNiftiImageIO.cxx, line 1997\n",
      "NiftiImageIO (0x8e79f00): /home/ids/ihamdaoui-21/ACDC/database/training/patient098/patient098_frame09_gt.nii.gz has unexpected scales in sform\n",
      "\n",
      "WARNING: In /tmp/SimpleITK-build/ITK/Modules/IO/NIFTI/src/itkNiftiImageIO.cxx, line 1997\n",
      "NiftiImageIO (0x8e79f00): /home/ids/ihamdaoui-21/ACDC/database/training/patient098/patient098_frame09_gt.nii.gz has unexpected scales in sform\n",
      "\n",
      "WARNING: In /tmp/SimpleITK-build/ITK/Modules/IO/NIFTI/src/itkNiftiImageIO.cxx, line 1997\n",
      "NiftiImageIO (0x8d70090): /home/ids/ihamdaoui-21/ACDC/database/training/patient001/patient001_frame01_gt.nii.gz has unexpected scales in sform\n",
      "\n",
      "WARNING: In /tmp/SimpleITK-build/ITK/Modules/IO/NIFTI/src/itkNiftiImageIO.cxx, line 1997\n",
      "NiftiImageIO (0x8d70090): /home/ids/ihamdaoui-21/ACDC/database/training/patient001/patient001_frame01_gt.nii.gz has unexpected scales in sform\n",
      "\n",
      "WARNING: In /tmp/SimpleITK-build/ITK/Modules/IO/NIFTI/src/itkNiftiImageIO.cxx, line 1997\n",
      "NiftiImageIO (0x8e79f00): /home/ids/ihamdaoui-21/ACDC/database/training/patient001/patient001_frame12_gt.nii.gz has unexpected scales in sform\n",
      "\n",
      "WARNING: In /tmp/SimpleITK-build/ITK/Modules/IO/NIFTI/src/itkNiftiImageIO.cxx, line 1997\n",
      "NiftiImageIO (0x8e79f00): /home/ids/ihamdaoui-21/ACDC/database/training/patient001/patient001_frame12_gt.nii.gz has unexpected scales in sform\n",
      "\n",
      "WARNING: In /tmp/SimpleITK-build/ITK/Modules/IO/NIFTI/src/itkNiftiImageIO.cxx, line 1997\n",
      "NiftiImageIO (0x8d70090): /home/ids/ihamdaoui-21/ACDC/database/training/patient076/patient076_frame01_gt.nii.gz has unexpected scales in sform\n",
      "\n",
      "WARNING: In /tmp/SimpleITK-build/ITK/Modules/IO/NIFTI/src/itkNiftiImageIO.cxx, line 1997\n",
      "NiftiImageIO (0x8d70090): /home/ids/ihamdaoui-21/ACDC/database/training/patient076/patient076_frame01_gt.nii.gz has unexpected scales in sform\n",
      "\n",
      "WARNING: In /tmp/SimpleITK-build/ITK/Modules/IO/NIFTI/src/itkNiftiImageIO.cxx, line 1997\n",
      "NiftiImageIO (0x8e79f00): /home/ids/ihamdaoui-21/ACDC/database/training/patient076/patient076_frame12_gt.nii.gz has unexpected scales in sform\n",
      "\n",
      "WARNING: In /tmp/SimpleITK-build/ITK/Modules/IO/NIFTI/src/itkNiftiImageIO.cxx, line 1997\n",
      "NiftiImageIO (0x8e79f00): /home/ids/ihamdaoui-21/ACDC/database/training/patient076/patient076_frame12_gt.nii.gz has unexpected scales in sform\n",
      "\n",
      "WARNING: In /tmp/SimpleITK-build/ITK/Modules/IO/NIFTI/src/itkNiftiImageIO.cxx, line 1997\n",
      "NiftiImageIO (0x8d70090): /home/ids/ihamdaoui-21/ACDC/database/training/patient039/patient039_frame01_gt.nii.gz has unexpected scales in sform\n",
      "\n",
      "WARNING: In /tmp/SimpleITK-build/ITK/Modules/IO/NIFTI/src/itkNiftiImageIO.cxx, line 1997\n",
      "NiftiImageIO (0x8d70090): /home/ids/ihamdaoui-21/ACDC/database/training/patient039/patient039_frame01_gt.nii.gz has unexpected scales in sform\n",
      "\n",
      "WARNING: In /tmp/SimpleITK-build/ITK/Modules/IO/NIFTI/src/itkNiftiImageIO.cxx, line 1997\n",
      "NiftiImageIO (0x8e79f00): /home/ids/ihamdaoui-21/ACDC/database/training/patient039/patient039_frame10_gt.nii.gz has unexpected scales in sform\n",
      "\n",
      "WARNING: In /tmp/SimpleITK-build/ITK/Modules/IO/NIFTI/src/itkNiftiImageIO.cxx, line 1997\n",
      "NiftiImageIO (0x8e79f00): /home/ids/ihamdaoui-21/ACDC/database/training/patient039/patient039_frame10_gt.nii.gz has unexpected scales in sform\n",
      "\n",
      "WARNING: In /tmp/SimpleITK-build/ITK/Modules/IO/NIFTI/src/itkNiftiImageIO.cxx, line 1997\n",
      "NiftiImageIO (0x8d70090): /home/ids/ihamdaoui-21/ACDC/database/training/patient044/patient044_frame01_gt.nii.gz has unexpected scales in sform\n",
      "\n",
      "WARNING: In /tmp/SimpleITK-build/ITK/Modules/IO/NIFTI/src/itkNiftiImageIO.cxx, line 1997\n",
      "NiftiImageIO (0x8d70090): /home/ids/ihamdaoui-21/ACDC/database/training/patient044/patient044_frame01_gt.nii.gz has unexpected scales in sform\n",
      "\n",
      "WARNING: In /tmp/SimpleITK-build/ITK/Modules/IO/NIFTI/src/itkNiftiImageIO.cxx, line 1997\n",
      "NiftiImageIO (0x8e79f00): /home/ids/ihamdaoui-21/ACDC/database/training/patient044/patient044_frame11_gt.nii.gz has unexpected scales in sform\n",
      "\n",
      "WARNING: In /tmp/SimpleITK-build/ITK/Modules/IO/NIFTI/src/itkNiftiImageIO.cxx, line 1997\n",
      "NiftiImageIO (0x8e79f00): /home/ids/ihamdaoui-21/ACDC/database/training/patient044/patient044_frame11_gt.nii.gz has unexpected scales in sform\n",
      "\n",
      "WARNING: In /tmp/SimpleITK-build/ITK/Modules/IO/NIFTI/src/itkNiftiImageIO.cxx, line 1997\n",
      "NiftiImageIO (0x8d70090): /home/ids/ihamdaoui-21/ACDC/database/training/patient033/patient033_frame01_gt.nii.gz has unexpected scales in sform\n",
      "\n",
      "WARNING: In /tmp/SimpleITK-build/ITK/Modules/IO/NIFTI/src/itkNiftiImageIO.cxx, line 1997\n",
      "NiftiImageIO (0x8d70090): /home/ids/ihamdaoui-21/ACDC/database/training/patient033/patient033_frame01_gt.nii.gz has unexpected scales in sform\n",
      "\n",
      "WARNING: In /tmp/SimpleITK-build/ITK/Modules/IO/NIFTI/src/itkNiftiImageIO.cxx, line 1997\n",
      "NiftiImageIO (0x8e79f00): /home/ids/ihamdaoui-21/ACDC/database/training/patient033/patient033_frame14_gt.nii.gz has unexpected scales in sform\n",
      "\n",
      "WARNING: In /tmp/SimpleITK-build/ITK/Modules/IO/NIFTI/src/itkNiftiImageIO.cxx, line 1997\n",
      "NiftiImageIO (0x8e79f00): /home/ids/ihamdaoui-21/ACDC/database/training/patient033/patient033_frame14_gt.nii.gz has unexpected scales in sform\n",
      "\n",
      "WARNING: In /tmp/SimpleITK-build/ITK/Modules/IO/NIFTI/src/itkNiftiImageIO.cxx, line 1997\n",
      "NiftiImageIO (0x8d70090): /home/ids/ihamdaoui-21/ACDC/database/training/patient012/patient012_frame01_gt.nii.gz has unexpected scales in sform\n",
      "\n",
      "WARNING: In /tmp/SimpleITK-build/ITK/Modules/IO/NIFTI/src/itkNiftiImageIO.cxx, line 1997\n",
      "NiftiImageIO (0x8d70090): /home/ids/ihamdaoui-21/ACDC/database/training/patient012/patient012_frame01_gt.nii.gz has unexpected scales in sform\n",
      "\n",
      "WARNING: In /tmp/SimpleITK-build/ITK/Modules/IO/NIFTI/src/itkNiftiImageIO.cxx, line 1997\n",
      "NiftiImageIO (0x8e79f00): /home/ids/ihamdaoui-21/ACDC/database/training/patient012/patient012_frame13_gt.nii.gz has unexpected scales in sform\n",
      "\n",
      "WARNING: In /tmp/SimpleITK-build/ITK/Modules/IO/NIFTI/src/itkNiftiImageIO.cxx, line 1997\n",
      "NiftiImageIO (0x8e79f00): /home/ids/ihamdaoui-21/ACDC/database/training/patient012/patient012_frame13_gt.nii.gz has unexpected scales in sform\n",
      "\n",
      "WARNING: In /tmp/SimpleITK-build/ITK/Modules/IO/NIFTI/src/itkNiftiImageIO.cxx, line 1997\n",
      "NiftiImageIO (0x8d70090): /home/ids/ihamdaoui-21/ACDC/database/training/patient065/patient065_frame01_gt.nii.gz has unexpected scales in sform\n",
      "\n",
      "WARNING: In /tmp/SimpleITK-build/ITK/Modules/IO/NIFTI/src/itkNiftiImageIO.cxx, line 1997\n",
      "NiftiImageIO (0x8d70090): /home/ids/ihamdaoui-21/ACDC/database/training/patient065/patient065_frame01_gt.nii.gz has unexpected scales in sform\n",
      "\n",
      "WARNING: In /tmp/SimpleITK-build/ITK/Modules/IO/NIFTI/src/itkNiftiImageIO.cxx, line 1997\n",
      "NiftiImageIO (0x8e79f00): /home/ids/ihamdaoui-21/ACDC/database/training/patient065/patient065_frame14_gt.nii.gz has unexpected scales in sform\n",
      "\n",
      "WARNING: In /tmp/SimpleITK-build/ITK/Modules/IO/NIFTI/src/itkNiftiImageIO.cxx, line 1997\n",
      "NiftiImageIO (0x8e79f00): /home/ids/ihamdaoui-21/ACDC/database/training/patient065/patient065_frame14_gt.nii.gz has unexpected scales in sform\n",
      "\n",
      "WARNING: In /tmp/SimpleITK-build/ITK/Modules/IO/NIFTI/src/itkNiftiImageIO.cxx, line 1997\n",
      "NiftiImageIO (0x8d70090): /home/ids/ihamdaoui-21/ACDC/database/training/patient018/patient018_frame01_gt.nii.gz has unexpected scales in sform\n",
      "\n",
      "WARNING: In /tmp/SimpleITK-build/ITK/Modules/IO/NIFTI/src/itkNiftiImageIO.cxx, line 1997\n",
      "NiftiImageIO (0x8d70090): /home/ids/ihamdaoui-21/ACDC/database/training/patient018/patient018_frame01_gt.nii.gz has unexpected scales in sform\n",
      "\n",
      "WARNING: In /tmp/SimpleITK-build/ITK/Modules/IO/NIFTI/src/itkNiftiImageIO.cxx, line 1997\n",
      "NiftiImageIO (0x8e79f00): /home/ids/ihamdaoui-21/ACDC/database/training/patient018/patient018_frame10_gt.nii.gz has unexpected scales in sform\n",
      "\n",
      "WARNING: In /tmp/SimpleITK-build/ITK/Modules/IO/NIFTI/src/itkNiftiImageIO.cxx, line 1997\n",
      "NiftiImageIO (0x8e79f00): /home/ids/ihamdaoui-21/ACDC/database/training/patient018/patient018_frame10_gt.nii.gz has unexpected scales in sform\n",
      "\n",
      "WARNING: In /tmp/SimpleITK-build/ITK/Modules/IO/NIFTI/src/itkNiftiImageIO.cxx, line 1997\n",
      "NiftiImageIO (0x8d70090): /home/ids/ihamdaoui-21/ACDC/database/training/patient081/patient081_frame01_gt.nii.gz has unexpected scales in sform\n",
      "\n",
      "WARNING: In /tmp/SimpleITK-build/ITK/Modules/IO/NIFTI/src/itkNiftiImageIO.cxx, line 1997\n",
      "NiftiImageIO (0x8d70090): /home/ids/ihamdaoui-21/ACDC/database/training/patient081/patient081_frame01_gt.nii.gz has unexpected scales in sform\n",
      "\n",
      "WARNING: In /tmp/SimpleITK-build/ITK/Modules/IO/NIFTI/src/itkNiftiImageIO.cxx, line 1997\n",
      "NiftiImageIO (0x8e79f00): /home/ids/ihamdaoui-21/ACDC/database/training/patient081/patient081_frame07_gt.nii.gz has unexpected scales in sform\n",
      "\n",
      "WARNING: In /tmp/SimpleITK-build/ITK/Modules/IO/NIFTI/src/itkNiftiImageIO.cxx, line 1997\n",
      "NiftiImageIO (0x8e79f00): /home/ids/ihamdaoui-21/ACDC/database/training/patient081/patient081_frame07_gt.nii.gz has unexpected scales in sform\n",
      "\n",
      "WARNING: In /tmp/SimpleITK-build/ITK/Modules/IO/NIFTI/src/itkNiftiImageIO.cxx, line 1997\n",
      "NiftiImageIO (0x8d70090): /home/ids/ihamdaoui-21/ACDC/database/training/patient057/patient057_frame01_gt.nii.gz has unexpected scales in sform\n",
      "\n",
      "WARNING: In /tmp/SimpleITK-build/ITK/Modules/IO/NIFTI/src/itkNiftiImageIO.cxx, line 1997\n",
      "NiftiImageIO (0x8d70090): /home/ids/ihamdaoui-21/ACDC/database/training/patient057/patient057_frame01_gt.nii.gz has unexpected scales in sform\n",
      "\n",
      "WARNING: In /tmp/SimpleITK-build/ITK/Modules/IO/NIFTI/src/itkNiftiImageIO.cxx, line 1997\n",
      "NiftiImageIO (0x8e79f00): /home/ids/ihamdaoui-21/ACDC/database/training/patient057/patient057_frame09_gt.nii.gz has unexpected scales in sform\n",
      "\n",
      "WARNING: In /tmp/SimpleITK-build/ITK/Modules/IO/NIFTI/src/itkNiftiImageIO.cxx, line 1997\n",
      "NiftiImageIO (0x8e79f00): /home/ids/ihamdaoui-21/ACDC/database/training/patient057/patient057_frame09_gt.nii.gz has unexpected scales in sform\n",
      "\n",
      "WARNING: In /tmp/SimpleITK-build/ITK/Modules/IO/NIFTI/src/itkNiftiImageIO.cxx, line 1997\n",
      "NiftiImageIO (0x8d70090): /home/ids/ihamdaoui-21/ACDC/database/training/patient020/patient020_frame01_gt.nii.gz has unexpected scales in sform\n",
      "\n",
      "WARNING: In /tmp/SimpleITK-build/ITK/Modules/IO/NIFTI/src/itkNiftiImageIO.cxx, line 1997\n",
      "NiftiImageIO (0x8d70090): /home/ids/ihamdaoui-21/ACDC/database/training/patient020/patient020_frame01_gt.nii.gz has unexpected scales in sform\n",
      "\n",
      "WARNING: In /tmp/SimpleITK-build/ITK/Modules/IO/NIFTI/src/itkNiftiImageIO.cxx, line 1997\n",
      "NiftiImageIO (0x8e79f00): /home/ids/ihamdaoui-21/ACDC/database/training/patient020/patient020_frame11_gt.nii.gz has unexpected scales in sform\n",
      "\n",
      "WARNING: In /tmp/SimpleITK-build/ITK/Modules/IO/NIFTI/src/itkNiftiImageIO.cxx, line 1997\n",
      "NiftiImageIO (0x8e79f00): /home/ids/ihamdaoui-21/ACDC/database/training/patient020/patient020_frame11_gt.nii.gz has unexpected scales in sform\n",
      "\n",
      "WARNING: In /tmp/SimpleITK-build/ITK/Modules/IO/NIFTI/src/itkNiftiImageIO.cxx, line 1997\n",
      "NiftiImageIO (0x8d70090): /home/ids/ihamdaoui-21/ACDC/database/training/patient027/patient027_frame01_gt.nii.gz has unexpected scales in sform\n",
      "\n",
      "WARNING: In /tmp/SimpleITK-build/ITK/Modules/IO/NIFTI/src/itkNiftiImageIO.cxx, line 1997\n",
      "NiftiImageIO (0x8d70090): /home/ids/ihamdaoui-21/ACDC/database/training/patient027/patient027_frame01_gt.nii.gz has unexpected scales in sform\n",
      "\n",
      "WARNING: In /tmp/SimpleITK-build/ITK/Modules/IO/NIFTI/src/itkNiftiImageIO.cxx, line 1997\n",
      "NiftiImageIO (0x8e79f00): /home/ids/ihamdaoui-21/ACDC/database/training/patient027/patient027_frame11_gt.nii.gz has unexpected scales in sform\n",
      "\n",
      "WARNING: In /tmp/SimpleITK-build/ITK/Modules/IO/NIFTI/src/itkNiftiImageIO.cxx, line 1997\n",
      "NiftiImageIO (0x8e79f00): /home/ids/ihamdaoui-21/ACDC/database/training/patient027/patient027_frame11_gt.nii.gz has unexpected scales in sform\n",
      "\n",
      "WARNING: In /tmp/SimpleITK-build/ITK/Modules/IO/NIFTI/src/itkNiftiImageIO.cxx, line 1997\n",
      "NiftiImageIO (0x8d70090): /home/ids/ihamdaoui-21/ACDC/database/training/patient050/patient050_frame01_gt.nii.gz has unexpected scales in sform\n",
      "\n",
      "WARNING: In /tmp/SimpleITK-build/ITK/Modules/IO/NIFTI/src/itkNiftiImageIO.cxx, line 1997\n",
      "NiftiImageIO (0x8d70090): /home/ids/ihamdaoui-21/ACDC/database/training/patient050/patient050_frame01_gt.nii.gz has unexpected scales in sform\n",
      "\n",
      "WARNING: In /tmp/SimpleITK-build/ITK/Modules/IO/NIFTI/src/itkNiftiImageIO.cxx, line 1997\n",
      "NiftiImageIO (0x8e79f00): /home/ids/ihamdaoui-21/ACDC/database/training/patient050/patient050_frame12_gt.nii.gz has unexpected scales in sform\n",
      "\n",
      "WARNING: In /tmp/SimpleITK-build/ITK/Modules/IO/NIFTI/src/itkNiftiImageIO.cxx, line 1997\n",
      "NiftiImageIO (0x8e79f00): /home/ids/ihamdaoui-21/ACDC/database/training/patient050/patient050_frame12_gt.nii.gz has unexpected scales in sform\n",
      "\n",
      "WARNING: In /tmp/SimpleITK-build/ITK/Modules/IO/NIFTI/src/itkNiftiImageIO.cxx, line 1997\n",
      "NiftiImageIO (0x8d70090): /home/ids/ihamdaoui-21/ACDC/database/training/patient062/patient062_frame01_gt.nii.gz has unexpected scales in sform\n",
      "\n",
      "WARNING: In /tmp/SimpleITK-build/ITK/Modules/IO/NIFTI/src/itkNiftiImageIO.cxx, line 1997\n",
      "NiftiImageIO (0x8d70090): /home/ids/ihamdaoui-21/ACDC/database/training/patient062/patient062_frame01_gt.nii.gz has unexpected scales in sform\n",
      "\n",
      "WARNING: In /tmp/SimpleITK-build/ITK/Modules/IO/NIFTI/src/itkNiftiImageIO.cxx, line 1997\n",
      "NiftiImageIO (0x8e79f00): /home/ids/ihamdaoui-21/ACDC/database/training/patient062/patient062_frame09_gt.nii.gz has unexpected scales in sform\n",
      "\n",
      "WARNING: In /tmp/SimpleITK-build/ITK/Modules/IO/NIFTI/src/itkNiftiImageIO.cxx, line 1997\n",
      "NiftiImageIO (0x8e79f00): /home/ids/ihamdaoui-21/ACDC/database/training/patient062/patient062_frame09_gt.nii.gz has unexpected scales in sform\n",
      "\n",
      "WARNING: In /tmp/SimpleITK-build/ITK/Modules/IO/NIFTI/src/itkNiftiImageIO.cxx, line 1997\n",
      "NiftiImageIO (0x8d70090): /home/ids/ihamdaoui-21/ACDC/database/training/patient015/patient015_frame01_gt.nii.gz has unexpected scales in sform\n",
      "\n",
      "WARNING: In /tmp/SimpleITK-build/ITK/Modules/IO/NIFTI/src/itkNiftiImageIO.cxx, line 1997\n",
      "NiftiImageIO (0x8d70090): /home/ids/ihamdaoui-21/ACDC/database/training/patient015/patient015_frame01_gt.nii.gz has unexpected scales in sform\n",
      "\n",
      "WARNING: In /tmp/SimpleITK-build/ITK/Modules/IO/NIFTI/src/itkNiftiImageIO.cxx, line 1997\n",
      "NiftiImageIO (0x8e79f00): /home/ids/ihamdaoui-21/ACDC/database/training/patient015/patient015_frame10_gt.nii.gz has unexpected scales in sform\n",
      "\n",
      "WARNING: In /tmp/SimpleITK-build/ITK/Modules/IO/NIFTI/src/itkNiftiImageIO.cxx, line 1997\n",
      "NiftiImageIO (0x8e79f00): /home/ids/ihamdaoui-21/ACDC/database/training/patient015/patient015_frame10_gt.nii.gz has unexpected scales in sform\n",
      "\n",
      "WARNING: In /tmp/SimpleITK-build/ITK/Modules/IO/NIFTI/src/itkNiftiImageIO.cxx, line 1997\n",
      "NiftiImageIO (0x8d70090): /home/ids/ihamdaoui-21/ACDC/database/training/patient086/patient086_frame01_gt.nii.gz has unexpected scales in sform\n",
      "\n",
      "WARNING: In /tmp/SimpleITK-build/ITK/Modules/IO/NIFTI/src/itkNiftiImageIO.cxx, line 1997\n",
      "NiftiImageIO (0x8d70090): /home/ids/ihamdaoui-21/ACDC/database/training/patient086/patient086_frame01_gt.nii.gz has unexpected scales in sform\n",
      "\n",
      "WARNING: In /tmp/SimpleITK-build/ITK/Modules/IO/NIFTI/src/itkNiftiImageIO.cxx, line 1997\n",
      "NiftiImageIO (0x8e79f00): /home/ids/ihamdaoui-21/ACDC/database/training/patient086/patient086_frame08_gt.nii.gz has unexpected scales in sform\n",
      "\n",
      "WARNING: In /tmp/SimpleITK-build/ITK/Modules/IO/NIFTI/src/itkNiftiImageIO.cxx, line 1997\n",
      "NiftiImageIO (0x8e79f00): /home/ids/ihamdaoui-21/ACDC/database/training/patient086/patient086_frame08_gt.nii.gz has unexpected scales in sform\n",
      "\n",
      "WARNING: In /tmp/SimpleITK-build/ITK/Modules/IO/NIFTI/src/itkNiftiImageIO.cxx, line 1997\n",
      "NiftiImageIO (0x8d70090): /home/ids/ihamdaoui-21/ACDC/database/training/patient068/patient068_frame01_gt.nii.gz has unexpected scales in sform\n",
      "\n",
      "WARNING: In /tmp/SimpleITK-build/ITK/Modules/IO/NIFTI/src/itkNiftiImageIO.cxx, line 1997\n",
      "NiftiImageIO (0x8d70090): /home/ids/ihamdaoui-21/ACDC/database/training/patient068/patient068_frame01_gt.nii.gz has unexpected scales in sform\n",
      "\n",
      "WARNING: In /tmp/SimpleITK-build/ITK/Modules/IO/NIFTI/src/itkNiftiImageIO.cxx, line 1997\n",
      "NiftiImageIO (0x8e79f00): /home/ids/ihamdaoui-21/ACDC/database/training/patient068/patient068_frame12_gt.nii.gz has unexpected scales in sform\n",
      "\n",
      "WARNING: In /tmp/SimpleITK-build/ITK/Modules/IO/NIFTI/src/itkNiftiImageIO.cxx, line 1997\n",
      "NiftiImageIO (0x8e79f00): /home/ids/ihamdaoui-21/ACDC/database/training/patient068/patient068_frame12_gt.nii.gz has unexpected scales in sform\n",
      "\n",
      "WARNING: In /tmp/SimpleITK-build/ITK/Modules/IO/NIFTI/src/itkNiftiImageIO.cxx, line 1997\n",
      "NiftiImageIO (0x8d70090): /home/ids/ihamdaoui-21/ACDC/database/training/patient049/patient049_frame01_gt.nii.gz has unexpected scales in sform\n",
      "\n",
      "WARNING: In /tmp/SimpleITK-build/ITK/Modules/IO/NIFTI/src/itkNiftiImageIO.cxx, line 1997\n",
      "NiftiImageIO (0x8d70090): /home/ids/ihamdaoui-21/ACDC/database/training/patient049/patient049_frame01_gt.nii.gz has unexpected scales in sform\n",
      "\n",
      "WARNING: In /tmp/SimpleITK-build/ITK/Modules/IO/NIFTI/src/itkNiftiImageIO.cxx, line 1997\n",
      "NiftiImageIO (0x8e79f00): /home/ids/ihamdaoui-21/ACDC/database/training/patient049/patient049_frame11_gt.nii.gz has unexpected scales in sform\n",
      "\n",
      "WARNING: In /tmp/SimpleITK-build/ITK/Modules/IO/NIFTI/src/itkNiftiImageIO.cxx, line 1997\n",
      "NiftiImageIO (0x8e79f00): /home/ids/ihamdaoui-21/ACDC/database/training/patient049/patient049_frame11_gt.nii.gz has unexpected scales in sform\n",
      "\n",
      "WARNING: In /tmp/SimpleITK-build/ITK/Modules/IO/NIFTI/src/itkNiftiImageIO.cxx, line 1997\n",
      "NiftiImageIO (0x8d70090): /home/ids/ihamdaoui-21/ACDC/database/training/patient034/patient034_frame01_gt.nii.gz has unexpected scales in sform\n",
      "\n",
      "WARNING: In /tmp/SimpleITK-build/ITK/Modules/IO/NIFTI/src/itkNiftiImageIO.cxx, line 1997\n",
      "NiftiImageIO (0x8d70090): /home/ids/ihamdaoui-21/ACDC/database/training/patient034/patient034_frame01_gt.nii.gz has unexpected scales in sform\n",
      "\n",
      "WARNING: In /tmp/SimpleITK-build/ITK/Modules/IO/NIFTI/src/itkNiftiImageIO.cxx, line 1997\n",
      "NiftiImageIO (0x8e79f00): /home/ids/ihamdaoui-21/ACDC/database/training/patient034/patient034_frame16_gt.nii.gz has unexpected scales in sform\n",
      "\n",
      "WARNING: In /tmp/SimpleITK-build/ITK/Modules/IO/NIFTI/src/itkNiftiImageIO.cxx, line 1997\n",
      "NiftiImageIO (0x8e79f00): /home/ids/ihamdaoui-21/ACDC/database/training/patient034/patient034_frame16_gt.nii.gz has unexpected scales in sform\n",
      "\n",
      "WARNING: In /tmp/SimpleITK-build/ITK/Modules/IO/NIFTI/src/itkNiftiImageIO.cxx, line 1997\n",
      "NiftiImageIO (0x8d70090): /home/ids/ihamdaoui-21/ACDC/database/training/patient043/patient043_frame01_gt.nii.gz has unexpected scales in sform\n",
      "\n",
      "WARNING: In /tmp/SimpleITK-build/ITK/Modules/IO/NIFTI/src/itkNiftiImageIO.cxx, line 1997\n",
      "NiftiImageIO (0x8d70090): /home/ids/ihamdaoui-21/ACDC/database/training/patient043/patient043_frame01_gt.nii.gz has unexpected scales in sform\n",
      "\n",
      "WARNING: In /tmp/SimpleITK-build/ITK/Modules/IO/NIFTI/src/itkNiftiImageIO.cxx, line 1997\n",
      "NiftiImageIO (0x8d70090): /home/ids/ihamdaoui-21/ACDC/database/training/patient043/patient043_frame07_gt.nii.gz has unexpected scales in sform\n",
      "\n",
      "WARNING: In /tmp/SimpleITK-build/ITK/Modules/IO/NIFTI/src/itkNiftiImageIO.cxx, line 1997\n",
      "NiftiImageIO (0x8d70090): /home/ids/ihamdaoui-21/ACDC/database/training/patient043/patient043_frame07_gt.nii.gz has unexpected scales in sform\n",
      "\n",
      "WARNING: In /tmp/SimpleITK-build/ITK/Modules/IO/NIFTI/src/itkNiftiImageIO.cxx, line 1997\n",
      "NiftiImageIO (0xa9ccd40): /home/ids/ihamdaoui-21/ACDC/database/training/patient095/patient095_frame01_gt.nii.gz has unexpected scales in sform\n",
      "\n",
      "WARNING: In /tmp/SimpleITK-build/ITK/Modules/IO/NIFTI/src/itkNiftiImageIO.cxx, line 1997\n",
      "NiftiImageIO (0xa9ccd40): /home/ids/ihamdaoui-21/ACDC/database/training/patient095/patient095_frame01_gt.nii.gz has unexpected scales in sform\n",
      "\n",
      "WARNING: In /tmp/SimpleITK-build/ITK/Modules/IO/NIFTI/src/itkNiftiImageIO.cxx, line 1997\n",
      "NiftiImageIO (0x8d70090): /home/ids/ihamdaoui-21/ACDC/database/training/patient095/patient095_frame12_gt.nii.gz has unexpected scales in sform\n",
      "\n",
      "WARNING: In /tmp/SimpleITK-build/ITK/Modules/IO/NIFTI/src/itkNiftiImageIO.cxx, line 1997\n",
      "NiftiImageIO (0x8d70090): /home/ids/ihamdaoui-21/ACDC/database/training/patient095/patient095_frame12_gt.nii.gz has unexpected scales in sform\n",
      "\n",
      "WARNING: In /tmp/SimpleITK-build/ITK/Modules/IO/NIFTI/src/itkNiftiImageIO.cxx, line 1997\n",
      "NiftiImageIO (0xa9ccd40): /home/ids/ihamdaoui-21/ACDC/database/training/patient071/patient071_frame01_gt.nii.gz has unexpected scales in sform\n",
      "\n",
      "WARNING: In /tmp/SimpleITK-build/ITK/Modules/IO/NIFTI/src/itkNiftiImageIO.cxx, line 1997\n",
      "NiftiImageIO (0xa9ccd40): /home/ids/ihamdaoui-21/ACDC/database/training/patient071/patient071_frame01_gt.nii.gz has unexpected scales in sform\n",
      "\n",
      "WARNING: In /tmp/SimpleITK-build/ITK/Modules/IO/NIFTI/src/itkNiftiImageIO.cxx, line 1997\n",
      "NiftiImageIO (0x8d70090): /home/ids/ihamdaoui-21/ACDC/database/training/patient071/patient071_frame09_gt.nii.gz has unexpected scales in sform\n",
      "\n",
      "WARNING: In /tmp/SimpleITK-build/ITK/Modules/IO/NIFTI/src/itkNiftiImageIO.cxx, line 1997\n",
      "NiftiImageIO (0x8d70090): /home/ids/ihamdaoui-21/ACDC/database/training/patient071/patient071_frame09_gt.nii.gz has unexpected scales in sform\n",
      "\n",
      "WARNING: In /tmp/SimpleITK-build/ITK/Modules/IO/NIFTI/src/itkNiftiImageIO.cxx, line 1997\n",
      "NiftiImageIO (0xa9ccd40): /home/ids/ihamdaoui-21/ACDC/database/training/patient006/patient006_frame01_gt.nii.gz has unexpected scales in sform\n",
      "\n",
      "WARNING: In /tmp/SimpleITK-build/ITK/Modules/IO/NIFTI/src/itkNiftiImageIO.cxx, line 1997\n",
      "NiftiImageIO (0xa9ccd40): /home/ids/ihamdaoui-21/ACDC/database/training/patient006/patient006_frame01_gt.nii.gz has unexpected scales in sform\n",
      "\n",
      "WARNING: In /tmp/SimpleITK-build/ITK/Modules/IO/NIFTI/src/itkNiftiImageIO.cxx, line 1997\n",
      "NiftiImageIO (0x8d70090): /home/ids/ihamdaoui-21/ACDC/database/training/patient006/patient006_frame16_gt.nii.gz has unexpected scales in sform\n",
      "\n",
      "WARNING: In /tmp/SimpleITK-build/ITK/Modules/IO/NIFTI/src/itkNiftiImageIO.cxx, line 1997\n",
      "NiftiImageIO (0x8d70090): /home/ids/ihamdaoui-21/ACDC/database/training/patient006/patient006_frame16_gt.nii.gz has unexpected scales in sform\n",
      "\n",
      "WARNING: In /tmp/SimpleITK-build/ITK/Modules/IO/NIFTI/src/itkNiftiImageIO.cxx, line 1997\n",
      "NiftiImageIO (0xa9ccd40): /home/ids/ihamdaoui-21/ACDC/database/training/patient075/patient075_frame01_gt.nii.gz has unexpected scales in sform\n",
      "\n",
      "WARNING: In /tmp/SimpleITK-build/ITK/Modules/IO/NIFTI/src/itkNiftiImageIO.cxx, line 1997\n",
      "NiftiImageIO (0xa9ccd40): /home/ids/ihamdaoui-21/ACDC/database/training/patient075/patient075_frame01_gt.nii.gz has unexpected scales in sform\n",
      "\n",
      "WARNING: In /tmp/SimpleITK-build/ITK/Modules/IO/NIFTI/src/itkNiftiImageIO.cxx, line 1997\n",
      "NiftiImageIO (0x8d70090): /home/ids/ihamdaoui-21/ACDC/database/training/patient075/patient075_frame06_gt.nii.gz has unexpected scales in sform\n",
      "\n",
      "WARNING: In /tmp/SimpleITK-build/ITK/Modules/IO/NIFTI/src/itkNiftiImageIO.cxx, line 1997\n",
      "NiftiImageIO (0x8d70090): /home/ids/ihamdaoui-21/ACDC/database/training/patient075/patient075_frame06_gt.nii.gz has unexpected scales in sform\n",
      "\n",
      "WARNING: In /tmp/SimpleITK-build/ITK/Modules/IO/NIFTI/src/itkNiftiImageIO.cxx, line 1997\n",
      "NiftiImageIO (0xa9ccd40): /home/ids/ihamdaoui-21/ACDC/database/training/patient002/patient002_frame01_gt.nii.gz has unexpected scales in sform\n",
      "\n",
      "WARNING: In /tmp/SimpleITK-build/ITK/Modules/IO/NIFTI/src/itkNiftiImageIO.cxx, line 1997\n",
      "NiftiImageIO (0xa9ccd40): /home/ids/ihamdaoui-21/ACDC/database/training/patient002/patient002_frame01_gt.nii.gz has unexpected scales in sform\n",
      "\n",
      "WARNING: In /tmp/SimpleITK-build/ITK/Modules/IO/NIFTI/src/itkNiftiImageIO.cxx, line 1997\n",
      "NiftiImageIO (0x8d70090): /home/ids/ihamdaoui-21/ACDC/database/training/patient002/patient002_frame12_gt.nii.gz has unexpected scales in sform\n",
      "\n",
      "WARNING: In /tmp/SimpleITK-build/ITK/Modules/IO/NIFTI/src/itkNiftiImageIO.cxx, line 1997\n",
      "NiftiImageIO (0x8d70090): /home/ids/ihamdaoui-21/ACDC/database/training/patient002/patient002_frame12_gt.nii.gz has unexpected scales in sform\n",
      "\n",
      "WARNING: In /tmp/SimpleITK-build/ITK/Modules/IO/NIFTI/src/itkNiftiImageIO.cxx, line 1997\n",
      "NiftiImageIO (0xa9ccd40): /home/ids/ihamdaoui-21/ACDC/database/training/patient091/patient091_frame01_gt.nii.gz has unexpected scales in sform\n",
      "\n",
      "WARNING: In /tmp/SimpleITK-build/ITK/Modules/IO/NIFTI/src/itkNiftiImageIO.cxx, line 1997\n",
      "NiftiImageIO (0xa9ccd40): /home/ids/ihamdaoui-21/ACDC/database/training/patient091/patient091_frame01_gt.nii.gz has unexpected scales in sform\n",
      "\n",
      "WARNING: In /tmp/SimpleITK-build/ITK/Modules/IO/NIFTI/src/itkNiftiImageIO.cxx, line 1997\n",
      "NiftiImageIO (0x8d70090): /home/ids/ihamdaoui-21/ACDC/database/training/patient091/patient091_frame09_gt.nii.gz has unexpected scales in sform\n",
      "\n",
      "WARNING: In /tmp/SimpleITK-build/ITK/Modules/IO/NIFTI/src/itkNiftiImageIO.cxx, line 1997\n",
      "NiftiImageIO (0x8d70090): /home/ids/ihamdaoui-21/ACDC/database/training/patient091/patient091_frame09_gt.nii.gz has unexpected scales in sform\n",
      "\n",
      "WARNING: In /tmp/SimpleITK-build/ITK/Modules/IO/NIFTI/src/itkNiftiImageIO.cxx, line 1997\n",
      "NiftiImageIO (0xa9ccd40): /home/ids/ihamdaoui-21/ACDC/database/training/patient008/patient008_frame01_gt.nii.gz has unexpected scales in sform\n",
      "\n",
      "WARNING: In /tmp/SimpleITK-build/ITK/Modules/IO/NIFTI/src/itkNiftiImageIO.cxx, line 1997\n",
      "NiftiImageIO (0xa9ccd40): /home/ids/ihamdaoui-21/ACDC/database/training/patient008/patient008_frame01_gt.nii.gz has unexpected scales in sform\n",
      "\n",
      "WARNING: In /tmp/SimpleITK-build/ITK/Modules/IO/NIFTI/src/itkNiftiImageIO.cxx, line 1997\n",
      "NiftiImageIO (0x8d70090): /home/ids/ihamdaoui-21/ACDC/database/training/patient008/patient008_frame13_gt.nii.gz has unexpected scales in sform\n",
      "\n",
      "WARNING: In /tmp/SimpleITK-build/ITK/Modules/IO/NIFTI/src/itkNiftiImageIO.cxx, line 1997\n",
      "NiftiImageIO (0x8d70090): /home/ids/ihamdaoui-21/ACDC/database/training/patient008/patient008_frame13_gt.nii.gz has unexpected scales in sform\n",
      "\n",
      "WARNING: In /tmp/SimpleITK-build/ITK/Modules/IO/NIFTI/src/itkNiftiImageIO.cxx, line 1997\n",
      "NiftiImageIO (0x8d70090): /home/ids/ihamdaoui-21/ACDC/database/training/patient030/patient030_frame01_gt.nii.gz has unexpected scales in sform\n",
      "\n",
      "WARNING: In /tmp/SimpleITK-build/ITK/Modules/IO/NIFTI/src/itkNiftiImageIO.cxx, line 1997\n",
      "NiftiImageIO (0x8d70090): /home/ids/ihamdaoui-21/ACDC/database/training/patient030/patient030_frame01_gt.nii.gz has unexpected scales in sform\n",
      "\n",
      "WARNING: In /tmp/SimpleITK-build/ITK/Modules/IO/NIFTI/src/itkNiftiImageIO.cxx, line 1997\n",
      "NiftiImageIO (0xcc14b00): /home/ids/ihamdaoui-21/ACDC/database/training/patient030/patient030_frame12_gt.nii.gz has unexpected scales in sform\n",
      "\n",
      "WARNING: In /tmp/SimpleITK-build/ITK/Modules/IO/NIFTI/src/itkNiftiImageIO.cxx, line 1997\n",
      "NiftiImageIO (0xcc14b00): /home/ids/ihamdaoui-21/ACDC/database/training/patient030/patient030_frame12_gt.nii.gz has unexpected scales in sform\n",
      "\n",
      "WARNING: In /tmp/SimpleITK-build/ITK/Modules/IO/NIFTI/src/itkNiftiImageIO.cxx, line 1997\n",
      "NiftiImageIO (0x8d70090): /home/ids/ihamdaoui-21/ACDC/database/training/patient047/patient047_frame01_gt.nii.gz has unexpected scales in sform\n",
      "\n",
      "WARNING: In /tmp/SimpleITK-build/ITK/Modules/IO/NIFTI/src/itkNiftiImageIO.cxx, line 1997\n",
      "NiftiImageIO (0x8d70090): /home/ids/ihamdaoui-21/ACDC/database/training/patient047/patient047_frame01_gt.nii.gz has unexpected scales in sform\n",
      "\n",
      "WARNING: In /tmp/SimpleITK-build/ITK/Modules/IO/NIFTI/src/itkNiftiImageIO.cxx, line 1997\n",
      "NiftiImageIO (0xcc14b00): /home/ids/ihamdaoui-21/ACDC/database/training/patient047/patient047_frame09_gt.nii.gz has unexpected scales in sform\n",
      "\n",
      "WARNING: In /tmp/SimpleITK-build/ITK/Modules/IO/NIFTI/src/itkNiftiImageIO.cxx, line 1997\n",
      "NiftiImageIO (0xcc14b00): /home/ids/ihamdaoui-21/ACDC/database/training/patient047/patient047_frame09_gt.nii.gz has unexpected scales in sform\n",
      "\n",
      "WARNING: In /tmp/SimpleITK-build/ITK/Modules/IO/NIFTI/src/itkNiftiImageIO.cxx, line 1997\n",
      "NiftiImageIO (0x8d70090): /home/ids/ihamdaoui-21/ACDC/database/training/patient082/patient082_frame01_gt.nii.gz has unexpected scales in sform\n",
      "\n",
      "WARNING: In /tmp/SimpleITK-build/ITK/Modules/IO/NIFTI/src/itkNiftiImageIO.cxx, line 1997\n",
      "NiftiImageIO (0x8d70090): /home/ids/ihamdaoui-21/ACDC/database/training/patient082/patient082_frame01_gt.nii.gz has unexpected scales in sform\n",
      "\n",
      "WARNING: In /tmp/SimpleITK-build/ITK/Modules/IO/NIFTI/src/itkNiftiImageIO.cxx, line 1997\n",
      "NiftiImageIO (0xcc14b00): /home/ids/ihamdaoui-21/ACDC/database/training/patient082/patient082_frame07_gt.nii.gz has unexpected scales in sform\n",
      "\n",
      "WARNING: In /tmp/SimpleITK-build/ITK/Modules/IO/NIFTI/src/itkNiftiImageIO.cxx, line 1997\n",
      "NiftiImageIO (0xcc14b00): /home/ids/ihamdaoui-21/ACDC/database/training/patient082/patient082_frame07_gt.nii.gz has unexpected scales in sform\n",
      "\n",
      "WARNING: In /tmp/SimpleITK-build/ITK/Modules/IO/NIFTI/src/itkNiftiImageIO.cxx, line 1997\n",
      "NiftiImageIO (0x8d70090): /home/ids/ihamdaoui-21/ACDC/database/training/patient066/patient066_frame01_gt.nii.gz has unexpected scales in sform\n",
      "\n",
      "WARNING: In /tmp/SimpleITK-build/ITK/Modules/IO/NIFTI/src/itkNiftiImageIO.cxx, line 1997\n",
      "NiftiImageIO (0x8d70090): /home/ids/ihamdaoui-21/ACDC/database/training/patient066/patient066_frame01_gt.nii.gz has unexpected scales in sform\n",
      "\n",
      "WARNING: In /tmp/SimpleITK-build/ITK/Modules/IO/NIFTI/src/itkNiftiImageIO.cxx, line 1997\n",
      "NiftiImageIO (0xcc14b00): /home/ids/ihamdaoui-21/ACDC/database/training/patient066/patient066_frame11_gt.nii.gz has unexpected scales in sform\n",
      "\n",
      "WARNING: In /tmp/SimpleITK-build/ITK/Modules/IO/NIFTI/src/itkNiftiImageIO.cxx, line 1997\n",
      "NiftiImageIO (0xcc14b00): /home/ids/ihamdaoui-21/ACDC/database/training/patient066/patient066_frame11_gt.nii.gz has unexpected scales in sform\n",
      "\n",
      "WARNING: In /tmp/SimpleITK-build/ITK/Modules/IO/NIFTI/src/itkNiftiImageIO.cxx, line 1997\n",
      "NiftiImageIO (0x8d70090): /home/ids/ihamdaoui-21/ACDC/database/training/patient011/patient011_frame01_gt.nii.gz has unexpected scales in sform\n",
      "\n",
      "WARNING: In /tmp/SimpleITK-build/ITK/Modules/IO/NIFTI/src/itkNiftiImageIO.cxx, line 1997\n",
      "NiftiImageIO (0x8d70090): /home/ids/ihamdaoui-21/ACDC/database/training/patient011/patient011_frame01_gt.nii.gz has unexpected scales in sform\n",
      "\n",
      "WARNING: In /tmp/SimpleITK-build/ITK/Modules/IO/NIFTI/src/itkNiftiImageIO.cxx, line 1997\n",
      "NiftiImageIO (0xcc14b00): /home/ids/ihamdaoui-21/ACDC/database/training/patient011/patient011_frame08_gt.nii.gz has unexpected scales in sform\n",
      "\n",
      "WARNING: In /tmp/SimpleITK-build/ITK/Modules/IO/NIFTI/src/itkNiftiImageIO.cxx, line 1997\n",
      "NiftiImageIO (0xcc14b00): /home/ids/ihamdaoui-21/ACDC/database/training/patient011/patient011_frame08_gt.nii.gz has unexpected scales in sform\n",
      "\n",
      "WARNING: In /tmp/SimpleITK-build/ITK/Modules/IO/NIFTI/src/itkNiftiImageIO.cxx, line 1997\n",
      "NiftiImageIO (0x8d70090): /home/ids/ihamdaoui-21/ACDC/database/training/patient088/patient088_frame01_gt.nii.gz has unexpected scales in sform\n",
      "\n",
      "WARNING: In /tmp/SimpleITK-build/ITK/Modules/IO/NIFTI/src/itkNiftiImageIO.cxx, line 1997\n",
      "NiftiImageIO (0x8d70090): /home/ids/ihamdaoui-21/ACDC/database/training/patient088/patient088_frame01_gt.nii.gz has unexpected scales in sform\n",
      "\n",
      "WARNING: In /tmp/SimpleITK-build/ITK/Modules/IO/NIFTI/src/itkNiftiImageIO.cxx, line 1997\n",
      "NiftiImageIO (0xcc14b00): /home/ids/ihamdaoui-21/ACDC/database/training/patient088/patient088_frame12_gt.nii.gz has unexpected scales in sform\n",
      "\n",
      "WARNING: In /tmp/SimpleITK-build/ITK/Modules/IO/NIFTI/src/itkNiftiImageIO.cxx, line 1997\n",
      "NiftiImageIO (0xcc14b00): /home/ids/ihamdaoui-21/ACDC/database/training/patient088/patient088_frame12_gt.nii.gz has unexpected scales in sform\n",
      "\n",
      "WARNING: In /tmp/SimpleITK-build/ITK/Modules/IO/NIFTI/src/itkNiftiImageIO.cxx, line 1997\n",
      "NiftiImageIO (0x8d70090): /home/ids/ihamdaoui-21/ACDC/database/training/patient029/patient029_frame01_gt.nii.gz has unexpected scales in sform\n",
      "\n",
      "WARNING: In /tmp/SimpleITK-build/ITK/Modules/IO/NIFTI/src/itkNiftiImageIO.cxx, line 1997\n",
      "NiftiImageIO (0x8d70090): /home/ids/ihamdaoui-21/ACDC/database/training/patient029/patient029_frame01_gt.nii.gz has unexpected scales in sform\n",
      "\n",
      "WARNING: In /tmp/SimpleITK-build/ITK/Modules/IO/NIFTI/src/itkNiftiImageIO.cxx, line 1997\n",
      "NiftiImageIO (0x8d70090): /home/ids/ihamdaoui-21/ACDC/database/training/patient029/patient029_frame12_gt.nii.gz has unexpected scales in sform\n",
      "\n",
      "WARNING: In /tmp/SimpleITK-build/ITK/Modules/IO/NIFTI/src/itkNiftiImageIO.cxx, line 1997\n",
      "NiftiImageIO (0x8d70090): /home/ids/ihamdaoui-21/ACDC/database/training/patient029/patient029_frame12_gt.nii.gz has unexpected scales in sform\n",
      "\n",
      "WARNING: In /tmp/SimpleITK-build/ITK/Modules/IO/NIFTI/src/itkNiftiImageIO.cxx, line 1997\n",
      "NiftiImageIO (0xce6ebc0): /home/ids/ihamdaoui-21/ACDC/database/training/patient023/patient023_frame01_gt.nii.gz has unexpected scales in sform\n",
      "\n",
      "WARNING: In /tmp/SimpleITK-build/ITK/Modules/IO/NIFTI/src/itkNiftiImageIO.cxx, line 1997\n",
      "NiftiImageIO (0xce6ebc0): /home/ids/ihamdaoui-21/ACDC/database/training/patient023/patient023_frame01_gt.nii.gz has unexpected scales in sform\n",
      "\n",
      "WARNING: In /tmp/SimpleITK-build/ITK/Modules/IO/NIFTI/src/itkNiftiImageIO.cxx, line 1997\n",
      "NiftiImageIO (0x8d70090): /home/ids/ihamdaoui-21/ACDC/database/training/patient023/patient023_frame09_gt.nii.gz has unexpected scales in sform\n",
      "\n",
      "WARNING: In /tmp/SimpleITK-build/ITK/Modules/IO/NIFTI/src/itkNiftiImageIO.cxx, line 1997\n",
      "NiftiImageIO (0x8d70090): /home/ids/ihamdaoui-21/ACDC/database/training/patient023/patient023_frame09_gt.nii.gz has unexpected scales in sform\n",
      "\n",
      "WARNING: In /tmp/SimpleITK-build/ITK/Modules/IO/NIFTI/src/itkNiftiImageIO.cxx, line 1997\n",
      "NiftiImageIO (0xce6ebc0): /home/ids/ihamdaoui-21/ACDC/database/training/patient054/patient054_frame01_gt.nii.gz has unexpected scales in sform\n",
      "\n",
      "WARNING: In /tmp/SimpleITK-build/ITK/Modules/IO/NIFTI/src/itkNiftiImageIO.cxx, line 1997\n",
      "NiftiImageIO (0xce6ebc0): /home/ids/ihamdaoui-21/ACDC/database/training/patient054/patient054_frame01_gt.nii.gz has unexpected scales in sform\n",
      "\n",
      "WARNING: In /tmp/SimpleITK-build/ITK/Modules/IO/NIFTI/src/itkNiftiImageIO.cxx, line 1997\n",
      "NiftiImageIO (0x8d70090): /home/ids/ihamdaoui-21/ACDC/database/training/patient054/patient054_frame12_gt.nii.gz has unexpected scales in sform\n",
      "\n",
      "WARNING: In /tmp/SimpleITK-build/ITK/Modules/IO/NIFTI/src/itkNiftiImageIO.cxx, line 1997\n",
      "NiftiImageIO (0x8d70090): /home/ids/ihamdaoui-21/ACDC/database/training/patient054/patient054_frame12_gt.nii.gz has unexpected scales in sform\n",
      "\n",
      "WARNING: In /tmp/SimpleITK-build/ITK/Modules/IO/NIFTI/src/itkNiftiImageIO.cxx, line 1997\n",
      "NiftiImageIO (0xce6ebc0): /home/ids/ihamdaoui-21/ACDC/database/training/patient059/patient059_frame01_gt.nii.gz has unexpected scales in sform\n",
      "\n",
      "WARNING: In /tmp/SimpleITK-build/ITK/Modules/IO/NIFTI/src/itkNiftiImageIO.cxx, line 1997\n",
      "NiftiImageIO (0xce6ebc0): /home/ids/ihamdaoui-21/ACDC/database/training/patient059/patient059_frame01_gt.nii.gz has unexpected scales in sform\n",
      "\n",
      "WARNING: In /tmp/SimpleITK-build/ITK/Modules/IO/NIFTI/src/itkNiftiImageIO.cxx, line 1997\n",
      "NiftiImageIO (0x8d70090): /home/ids/ihamdaoui-21/ACDC/database/training/patient059/patient059_frame09_gt.nii.gz has unexpected scales in sform\n",
      "\n",
      "WARNING: In /tmp/SimpleITK-build/ITK/Modules/IO/NIFTI/src/itkNiftiImageIO.cxx, line 1997\n",
      "NiftiImageIO (0x8d70090): /home/ids/ihamdaoui-21/ACDC/database/training/patient059/patient059_frame09_gt.nii.gz has unexpected scales in sform\n",
      "\n",
      "WARNING: In /tmp/SimpleITK-build/ITK/Modules/IO/NIFTI/src/itkNiftiImageIO.cxx, line 1997\n",
      "NiftiImageIO (0xce6ebc0): /home/ids/ihamdaoui-21/ACDC/database/training/patient053/patient053_frame01_gt.nii.gz has unexpected scales in sform\n",
      "\n",
      "WARNING: In /tmp/SimpleITK-build/ITK/Modules/IO/NIFTI/src/itkNiftiImageIO.cxx, line 1997\n",
      "NiftiImageIO (0xce6ebc0): /home/ids/ihamdaoui-21/ACDC/database/training/patient053/patient053_frame01_gt.nii.gz has unexpected scales in sform\n",
      "\n",
      "WARNING: In /tmp/SimpleITK-build/ITK/Modules/IO/NIFTI/src/itkNiftiImageIO.cxx, line 1997\n",
      "NiftiImageIO (0x8d70090): /home/ids/ihamdaoui-21/ACDC/database/training/patient053/patient053_frame12_gt.nii.gz has unexpected scales in sform\n",
      "\n",
      "WARNING: In /tmp/SimpleITK-build/ITK/Modules/IO/NIFTI/src/itkNiftiImageIO.cxx, line 1997\n",
      "NiftiImageIO (0x8d70090): /home/ids/ihamdaoui-21/ACDC/database/training/patient053/patient053_frame12_gt.nii.gz has unexpected scales in sform\n",
      "\n",
      "WARNING: In /tmp/SimpleITK-build/ITK/Modules/IO/NIFTI/src/itkNiftiImageIO.cxx, line 1997\n",
      "NiftiImageIO (0xce6ebc0): /home/ids/ihamdaoui-21/ACDC/database/training/patient024/patient024_frame01_gt.nii.gz has unexpected scales in sform\n",
      "\n",
      "WARNING: In /tmp/SimpleITK-build/ITK/Modules/IO/NIFTI/src/itkNiftiImageIO.cxx, line 1997\n",
      "NiftiImageIO (0xce6ebc0): /home/ids/ihamdaoui-21/ACDC/database/training/patient024/patient024_frame01_gt.nii.gz has unexpected scales in sform\n",
      "\n",
      "WARNING: In /tmp/SimpleITK-build/ITK/Modules/IO/NIFTI/src/itkNiftiImageIO.cxx, line 1997\n",
      "NiftiImageIO (0x8d70090): /home/ids/ihamdaoui-21/ACDC/database/training/patient024/patient024_frame09_gt.nii.gz has unexpected scales in sform\n",
      "\n",
      "WARNING: In /tmp/SimpleITK-build/ITK/Modules/IO/NIFTI/src/itkNiftiImageIO.cxx, line 1997\n",
      "NiftiImageIO (0x8d70090): /home/ids/ihamdaoui-21/ACDC/database/training/patient024/patient024_frame09_gt.nii.gz has unexpected scales in sform\n",
      "\n",
      "WARNING: In /tmp/SimpleITK-build/ITK/Modules/IO/NIFTI/src/itkNiftiImageIO.cxx, line 1997\n",
      "NiftiImageIO (0xce6ebc0): /home/ids/ihamdaoui-21/ACDC/database/training/patient085/patient085_frame01_gt.nii.gz has unexpected scales in sform\n",
      "\n",
      "WARNING: In /tmp/SimpleITK-build/ITK/Modules/IO/NIFTI/src/itkNiftiImageIO.cxx, line 1997\n",
      "NiftiImageIO (0xce6ebc0): /home/ids/ihamdaoui-21/ACDC/database/training/patient085/patient085_frame01_gt.nii.gz has unexpected scales in sform\n",
      "\n",
      "WARNING: In /tmp/SimpleITK-build/ITK/Modules/IO/NIFTI/src/itkNiftiImageIO.cxx, line 1997\n",
      "NiftiImageIO (0x8d70090): /home/ids/ihamdaoui-21/ACDC/database/training/patient085/patient085_frame09_gt.nii.gz has unexpected scales in sform\n",
      "\n",
      "WARNING: In /tmp/SimpleITK-build/ITK/Modules/IO/NIFTI/src/itkNiftiImageIO.cxx, line 1997\n",
      "NiftiImageIO (0x8d70090): /home/ids/ihamdaoui-21/ACDC/database/training/patient085/patient085_frame09_gt.nii.gz has unexpected scales in sform\n",
      "\n",
      "WARNING: In /tmp/SimpleITK-build/ITK/Modules/IO/NIFTI/src/itkNiftiImageIO.cxx, line 1997\n",
      "NiftiImageIO (0xce6ebc0): /home/ids/ihamdaoui-21/ACDC/database/training/patient016/patient016_frame01_gt.nii.gz has unexpected scales in sform\n",
      "\n",
      "WARNING: In /tmp/SimpleITK-build/ITK/Modules/IO/NIFTI/src/itkNiftiImageIO.cxx, line 1997\n",
      "NiftiImageIO (0xce6ebc0): /home/ids/ihamdaoui-21/ACDC/database/training/patient016/patient016_frame01_gt.nii.gz has unexpected scales in sform\n",
      "\n",
      "WARNING: In /tmp/SimpleITK-build/ITK/Modules/IO/NIFTI/src/itkNiftiImageIO.cxx, line 1997\n",
      "NiftiImageIO (0x8d70090): /home/ids/ihamdaoui-21/ACDC/database/training/patient016/patient016_frame12_gt.nii.gz has unexpected scales in sform\n",
      "\n",
      "WARNING: In /tmp/SimpleITK-build/ITK/Modules/IO/NIFTI/src/itkNiftiImageIO.cxx, line 1997\n",
      "NiftiImageIO (0x8d70090): /home/ids/ihamdaoui-21/ACDC/database/training/patient016/patient016_frame12_gt.nii.gz has unexpected scales in sform\n",
      "\n",
      "WARNING: In /tmp/SimpleITK-build/ITK/Modules/IO/NIFTI/src/itkNiftiImageIO.cxx, line 1997\n",
      "NiftiImageIO (0xce6ebc0): /home/ids/ihamdaoui-21/ACDC/database/training/patient061/patient061_frame01_gt.nii.gz has unexpected scales in sform\n",
      "\n",
      "WARNING: In /tmp/SimpleITK-build/ITK/Modules/IO/NIFTI/src/itkNiftiImageIO.cxx, line 1997\n",
      "NiftiImageIO (0xce6ebc0): /home/ids/ihamdaoui-21/ACDC/database/training/patient061/patient061_frame01_gt.nii.gz has unexpected scales in sform\n",
      "\n",
      "WARNING: In /tmp/SimpleITK-build/ITK/Modules/IO/NIFTI/src/itkNiftiImageIO.cxx, line 1997\n",
      "NiftiImageIO (0x8d70090): /home/ids/ihamdaoui-21/ACDC/database/training/patient061/patient061_frame10_gt.nii.gz has unexpected scales in sform\n",
      "\n",
      "WARNING: In /tmp/SimpleITK-build/ITK/Modules/IO/NIFTI/src/itkNiftiImageIO.cxx, line 1997\n",
      "NiftiImageIO (0x8d70090): /home/ids/ihamdaoui-21/ACDC/database/training/patient061/patient061_frame10_gt.nii.gz has unexpected scales in sform\n",
      "\n",
      "WARNING: In /tmp/SimpleITK-build/ITK/Modules/IO/NIFTI/src/itkNiftiImageIO.cxx, line 1997\n",
      "NiftiImageIO (0xce6ebc0): /home/ids/ihamdaoui-21/ACDC/database/training/patient040/patient040_frame01_gt.nii.gz has unexpected scales in sform\n",
      "\n",
      "WARNING: In /tmp/SimpleITK-build/ITK/Modules/IO/NIFTI/src/itkNiftiImageIO.cxx, line 1997\n",
      "NiftiImageIO (0xce6ebc0): /home/ids/ihamdaoui-21/ACDC/database/training/patient040/patient040_frame01_gt.nii.gz has unexpected scales in sform\n",
      "\n",
      "WARNING: In /tmp/SimpleITK-build/ITK/Modules/IO/NIFTI/src/itkNiftiImageIO.cxx, line 1997\n",
      "NiftiImageIO (0x8d70090): /home/ids/ihamdaoui-21/ACDC/database/training/patient040/patient040_frame13_gt.nii.gz has unexpected scales in sform\n",
      "\n",
      "WARNING: In /tmp/SimpleITK-build/ITK/Modules/IO/NIFTI/src/itkNiftiImageIO.cxx, line 1997\n",
      "NiftiImageIO (0x8d70090): /home/ids/ihamdaoui-21/ACDC/database/training/patient040/patient040_frame13_gt.nii.gz has unexpected scales in sform\n",
      "\n",
      "WARNING: In /tmp/SimpleITK-build/ITK/Modules/IO/NIFTI/src/itkNiftiImageIO.cxx, line 1997\n",
      "NiftiImageIO (0xce6ebc0): /home/ids/ihamdaoui-21/ACDC/database/training/patient037/patient037_frame01_gt.nii.gz has unexpected scales in sform\n",
      "\n",
      "WARNING: In /tmp/SimpleITK-build/ITK/Modules/IO/NIFTI/src/itkNiftiImageIO.cxx, line 1997\n",
      "NiftiImageIO (0xce6ebc0): /home/ids/ihamdaoui-21/ACDC/database/training/patient037/patient037_frame01_gt.nii.gz has unexpected scales in sform\n",
      "\n",
      "WARNING: In /tmp/SimpleITK-build/ITK/Modules/IO/NIFTI/src/itkNiftiImageIO.cxx, line 1997\n",
      "NiftiImageIO (0x8d70090): /home/ids/ihamdaoui-21/ACDC/database/training/patient037/patient037_frame12_gt.nii.gz has unexpected scales in sform\n",
      "\n",
      "WARNING: In /tmp/SimpleITK-build/ITK/Modules/IO/NIFTI/src/itkNiftiImageIO.cxx, line 1997\n",
      "NiftiImageIO (0x8d70090): /home/ids/ihamdaoui-21/ACDC/database/training/patient037/patient037_frame12_gt.nii.gz has unexpected scales in sform\n",
      "\n",
      "WARNING: In /tmp/SimpleITK-build/ITK/Modules/IO/NIFTI/src/itkNiftiImageIO.cxx, line 1997\n",
      "NiftiImageIO (0xce6ebc0): /home/ids/ihamdaoui-21/ACDC/database/training/patient005/patient005_frame01_gt.nii.gz has unexpected scales in sform\n",
      "\n",
      "WARNING: In /tmp/SimpleITK-build/ITK/Modules/IO/NIFTI/src/itkNiftiImageIO.cxx, line 1997\n",
      "NiftiImageIO (0xce6ebc0): /home/ids/ihamdaoui-21/ACDC/database/training/patient005/patient005_frame01_gt.nii.gz has unexpected scales in sform\n",
      "\n",
      "WARNING: In /tmp/SimpleITK-build/ITK/Modules/IO/NIFTI/src/itkNiftiImageIO.cxx, line 1997\n",
      "NiftiImageIO (0x8d70090): /home/ids/ihamdaoui-21/ACDC/database/training/patient005/patient005_frame13_gt.nii.gz has unexpected scales in sform\n",
      "\n",
      "WARNING: In /tmp/SimpleITK-build/ITK/Modules/IO/NIFTI/src/itkNiftiImageIO.cxx, line 1997\n",
      "NiftiImageIO (0x8d70090): /home/ids/ihamdaoui-21/ACDC/database/training/patient005/patient005_frame13_gt.nii.gz has unexpected scales in sform\n",
      "\n",
      "WARNING: In /tmp/SimpleITK-build/ITK/Modules/IO/NIFTI/src/itkNiftiImageIO.cxx, line 1997\n",
      "NiftiImageIO (0xce6ebc0): /home/ids/ihamdaoui-21/ACDC/database/training/patient072/patient072_frame01_gt.nii.gz has unexpected scales in sform\n",
      "\n",
      "WARNING: In /tmp/SimpleITK-build/ITK/Modules/IO/NIFTI/src/itkNiftiImageIO.cxx, line 1997\n",
      "NiftiImageIO (0xce6ebc0): /home/ids/ihamdaoui-21/ACDC/database/training/patient072/patient072_frame01_gt.nii.gz has unexpected scales in sform\n",
      "\n",
      "WARNING: In /tmp/SimpleITK-build/ITK/Modules/IO/NIFTI/src/itkNiftiImageIO.cxx, line 1997\n",
      "NiftiImageIO (0x8d70090): /home/ids/ihamdaoui-21/ACDC/database/training/patient072/patient072_frame11_gt.nii.gz has unexpected scales in sform\n",
      "\n",
      "WARNING: In /tmp/SimpleITK-build/ITK/Modules/IO/NIFTI/src/itkNiftiImageIO.cxx, line 1997\n",
      "NiftiImageIO (0x8d70090): /home/ids/ihamdaoui-21/ACDC/database/training/patient072/patient072_frame11_gt.nii.gz has unexpected scales in sform\n",
      "\n",
      "WARNING: In /tmp/SimpleITK-build/ITK/Modules/IO/NIFTI/src/itkNiftiImageIO.cxx, line 1997\n",
      "NiftiImageIO (0xce6ebc0): /home/ids/ihamdaoui-21/ACDC/database/training/patient078/patient078_frame01_gt.nii.gz has unexpected scales in sform\n",
      "\n",
      "WARNING: In /tmp/SimpleITK-build/ITK/Modules/IO/NIFTI/src/itkNiftiImageIO.cxx, line 1997\n",
      "NiftiImageIO (0xce6ebc0): /home/ids/ihamdaoui-21/ACDC/database/training/patient078/patient078_frame01_gt.nii.gz has unexpected scales in sform\n",
      "\n",
      "WARNING: In /tmp/SimpleITK-build/ITK/Modules/IO/NIFTI/src/itkNiftiImageIO.cxx, line 1997\n",
      "NiftiImageIO (0x8d70090): /home/ids/ihamdaoui-21/ACDC/database/training/patient078/patient078_frame09_gt.nii.gz has unexpected scales in sform\n",
      "\n",
      "WARNING: In /tmp/SimpleITK-build/ITK/Modules/IO/NIFTI/src/itkNiftiImageIO.cxx, line 1997\n",
      "NiftiImageIO (0x8d70090): /home/ids/ihamdaoui-21/ACDC/database/training/patient078/patient078_frame09_gt.nii.gz has unexpected scales in sform\n",
      "\n",
      "WARNING: In /tmp/SimpleITK-build/ITK/Modules/IO/NIFTI/src/itkNiftiImageIO.cxx, line 1997\n",
      "NiftiImageIO (0xce6ebc0): /home/ids/ihamdaoui-21/ACDC/database/training/patient096/patient096_frame01_gt.nii.gz has unexpected scales in sform\n",
      "\n",
      "WARNING: In /tmp/SimpleITK-build/ITK/Modules/IO/NIFTI/src/itkNiftiImageIO.cxx, line 1997\n",
      "NiftiImageIO (0xce6ebc0): /home/ids/ihamdaoui-21/ACDC/database/training/patient096/patient096_frame01_gt.nii.gz has unexpected scales in sform\n",
      "\n",
      "WARNING: In /tmp/SimpleITK-build/ITK/Modules/IO/NIFTI/src/itkNiftiImageIO.cxx, line 1997\n",
      "NiftiImageIO (0x8d70090): /home/ids/ihamdaoui-21/ACDC/database/training/patient096/patient096_frame08_gt.nii.gz has unexpected scales in sform\n",
      "\n",
      "WARNING: In /tmp/SimpleITK-build/ITK/Modules/IO/NIFTI/src/itkNiftiImageIO.cxx, line 1997\n",
      "NiftiImageIO (0x8d70090): /home/ids/ihamdaoui-21/ACDC/database/training/patient096/patient096_frame08_gt.nii.gz has unexpected scales in sform\n",
      "\n",
      "WARNING: In /tmp/SimpleITK-build/ITK/Modules/IO/NIFTI/src/itkNiftiImageIO.cxx, line 1997\n",
      "NiftiImageIO (0xce6ebc0): /home/ids/ihamdaoui-21/ACDC/database/testing/patient103/patient103_frame01_gt.nii.gz has unexpected scales in sform\n",
      "\n",
      "WARNING: In /tmp/SimpleITK-build/ITK/Modules/IO/NIFTI/src/itkNiftiImageIO.cxx, line 1997\n",
      "NiftiImageIO (0xce6ebc0): /home/ids/ihamdaoui-21/ACDC/database/testing/patient103/patient103_frame01_gt.nii.gz has unexpected scales in sform\n",
      "\n",
      "WARNING: In /tmp/SimpleITK-build/ITK/Modules/IO/NIFTI/src/itkNiftiImageIO.cxx, line 1997\n",
      "NiftiImageIO (0x8d70090): /home/ids/ihamdaoui-21/ACDC/database/testing/patient103/patient103_frame11_gt.nii.gz has unexpected scales in sform\n",
      "\n",
      "WARNING: In /tmp/SimpleITK-build/ITK/Modules/IO/NIFTI/src/itkNiftiImageIO.cxx, line 1997\n",
      "NiftiImageIO (0x8d70090): /home/ids/ihamdaoui-21/ACDC/database/testing/patient103/patient103_frame11_gt.nii.gz has unexpected scales in sform\n",
      "\n",
      "WARNING: In /tmp/SimpleITK-build/ITK/Modules/IO/NIFTI/src/itkNiftiImageIO.cxx, line 1997\n",
      "NiftiImageIO (0x8d70090): /home/ids/ihamdaoui-21/ACDC/database/testing/patient109/patient109_frame01_gt.nii.gz has unexpected scales in sform\n",
      "\n",
      "WARNING: In /tmp/SimpleITK-build/ITK/Modules/IO/NIFTI/src/itkNiftiImageIO.cxx, line 1997\n",
      "NiftiImageIO (0x8d70090): /home/ids/ihamdaoui-21/ACDC/database/testing/patient109/patient109_frame01_gt.nii.gz has unexpected scales in sform\n",
      "\n",
      "WARNING: In /tmp/SimpleITK-build/ITK/Modules/IO/NIFTI/src/itkNiftiImageIO.cxx, line 1997\n",
      "NiftiImageIO (0xef86420): /home/ids/ihamdaoui-21/ACDC/database/testing/patient109/patient109_frame10_gt.nii.gz has unexpected scales in sform\n",
      "\n",
      "WARNING: In /tmp/SimpleITK-build/ITK/Modules/IO/NIFTI/src/itkNiftiImageIO.cxx, line 1997\n",
      "NiftiImageIO (0xef86420): /home/ids/ihamdaoui-21/ACDC/database/testing/patient109/patient109_frame10_gt.nii.gz has unexpected scales in sform\n",
      "\n",
      "WARNING: In /tmp/SimpleITK-build/ITK/Modules/IO/NIFTI/src/itkNiftiImageIO.cxx, line 1997\n",
      "NiftiImageIO (0x8d70090): /home/ids/ihamdaoui-21/ACDC/database/testing/patient131/patient131_frame01_gt.nii.gz has unexpected scales in sform\n",
      "\n",
      "WARNING: In /tmp/SimpleITK-build/ITK/Modules/IO/NIFTI/src/itkNiftiImageIO.cxx, line 1997\n",
      "NiftiImageIO (0x8d70090): /home/ids/ihamdaoui-21/ACDC/database/testing/patient131/patient131_frame01_gt.nii.gz has unexpected scales in sform\n",
      "\n",
      "WARNING: In /tmp/SimpleITK-build/ITK/Modules/IO/NIFTI/src/itkNiftiImageIO.cxx, line 1997\n",
      "NiftiImageIO (0xef86420): /home/ids/ihamdaoui-21/ACDC/database/testing/patient131/patient131_frame09_gt.nii.gz has unexpected scales in sform\n",
      "\n",
      "WARNING: In /tmp/SimpleITK-build/ITK/Modules/IO/NIFTI/src/itkNiftiImageIO.cxx, line 1997\n",
      "NiftiImageIO (0xef86420): /home/ids/ihamdaoui-21/ACDC/database/testing/patient131/patient131_frame09_gt.nii.gz has unexpected scales in sform\n",
      "\n",
      "WARNING: In /tmp/SimpleITK-build/ITK/Modules/IO/NIFTI/src/itkNiftiImageIO.cxx, line 1997\n",
      "NiftiImageIO (0x8d70090): /home/ids/ihamdaoui-21/ACDC/database/testing/patient146/patient146_frame01_gt.nii.gz has unexpected scales in sform\n",
      "\n",
      "WARNING: In /tmp/SimpleITK-build/ITK/Modules/IO/NIFTI/src/itkNiftiImageIO.cxx, line 1997\n",
      "NiftiImageIO (0x8d70090): /home/ids/ihamdaoui-21/ACDC/database/testing/patient146/patient146_frame01_gt.nii.gz has unexpected scales in sform\n",
      "\n",
      "WARNING: In /tmp/SimpleITK-build/ITK/Modules/IO/NIFTI/src/itkNiftiImageIO.cxx, line 1997\n",
      "NiftiImageIO (0xef86420): /home/ids/ihamdaoui-21/ACDC/database/testing/patient146/patient146_frame10_gt.nii.gz has unexpected scales in sform\n",
      "\n",
      "WARNING: In /tmp/SimpleITK-build/ITK/Modules/IO/NIFTI/src/itkNiftiImageIO.cxx, line 1997\n",
      "NiftiImageIO (0xef86420): /home/ids/ihamdaoui-21/ACDC/database/testing/patient146/patient146_frame10_gt.nii.gz has unexpected scales in sform\n",
      "\n",
      "WARNING: In /tmp/SimpleITK-build/ITK/Modules/IO/NIFTI/src/itkNiftiImageIO.cxx, line 1997\n",
      "NiftiImageIO (0x8d70090): /home/ids/ihamdaoui-21/ACDC/database/testing/patient110/patient110_frame01_gt.nii.gz has unexpected scales in sform\n",
      "\n",
      "WARNING: In /tmp/SimpleITK-build/ITK/Modules/IO/NIFTI/src/itkNiftiImageIO.cxx, line 1997\n",
      "NiftiImageIO (0x8d70090): /home/ids/ihamdaoui-21/ACDC/database/testing/patient110/patient110_frame01_gt.nii.gz has unexpected scales in sform\n",
      "\n",
      "WARNING: In /tmp/SimpleITK-build/ITK/Modules/IO/NIFTI/src/itkNiftiImageIO.cxx, line 1997\n",
      "NiftiImageIO (0xef86420): /home/ids/ihamdaoui-21/ACDC/database/testing/patient110/patient110_frame11_gt.nii.gz has unexpected scales in sform\n",
      "\n",
      "WARNING: In /tmp/SimpleITK-build/ITK/Modules/IO/NIFTI/src/itkNiftiImageIO.cxx, line 1997\n",
      "NiftiImageIO (0xef86420): /home/ids/ihamdaoui-21/ACDC/database/testing/patient110/patient110_frame11_gt.nii.gz has unexpected scales in sform\n",
      "\n",
      "WARNING: In /tmp/SimpleITK-build/ITK/Modules/IO/NIFTI/src/itkNiftiImageIO.cxx, line 1997\n",
      "NiftiImageIO (0x8d70090): /home/ids/ihamdaoui-21/ACDC/database/testing/patient128/patient128_frame01_gt.nii.gz has unexpected scales in sform\n",
      "\n",
      "WARNING: In /tmp/SimpleITK-build/ITK/Modules/IO/NIFTI/src/itkNiftiImageIO.cxx, line 1997\n",
      "NiftiImageIO (0x8d70090): /home/ids/ihamdaoui-21/ACDC/database/testing/patient128/patient128_frame01_gt.nii.gz has unexpected scales in sform\n",
      "\n",
      "WARNING: In /tmp/SimpleITK-build/ITK/Modules/IO/NIFTI/src/itkNiftiImageIO.cxx, line 1997\n",
      "NiftiImageIO (0xef86420): /home/ids/ihamdaoui-21/ACDC/database/testing/patient128/patient128_frame11_gt.nii.gz has unexpected scales in sform\n",
      "\n",
      "WARNING: In /tmp/SimpleITK-build/ITK/Modules/IO/NIFTI/src/itkNiftiImageIO.cxx, line 1997\n",
      "NiftiImageIO (0xef86420): /home/ids/ihamdaoui-21/ACDC/database/testing/patient128/patient128_frame11_gt.nii.gz has unexpected scales in sform\n",
      "\n",
      "WARNING: In /tmp/SimpleITK-build/ITK/Modules/IO/NIFTI/src/itkNiftiImageIO.cxx, line 1997\n",
      "NiftiImageIO (0x8d70090): /home/ids/ihamdaoui-21/ACDC/database/testing/patient122/patient122_frame01_gt.nii.gz has unexpected scales in sform\n",
      "\n",
      "WARNING: In /tmp/SimpleITK-build/ITK/Modules/IO/NIFTI/src/itkNiftiImageIO.cxx, line 1997\n",
      "NiftiImageIO (0x8d70090): /home/ids/ihamdaoui-21/ACDC/database/testing/patient122/patient122_frame01_gt.nii.gz has unexpected scales in sform\n",
      "\n",
      "WARNING: In /tmp/SimpleITK-build/ITK/Modules/IO/NIFTI/src/itkNiftiImageIO.cxx, line 1997\n",
      "NiftiImageIO (0xef86420): /home/ids/ihamdaoui-21/ACDC/database/testing/patient122/patient122_frame06_gt.nii.gz has unexpected scales in sform\n",
      "\n",
      "WARNING: In /tmp/SimpleITK-build/ITK/Modules/IO/NIFTI/src/itkNiftiImageIO.cxx, line 1997\n",
      "NiftiImageIO (0xef86420): /home/ids/ihamdaoui-21/ACDC/database/testing/patient122/patient122_frame06_gt.nii.gz has unexpected scales in sform\n",
      "\n",
      "WARNING: In /tmp/SimpleITK-build/ITK/Modules/IO/NIFTI/src/itkNiftiImageIO.cxx, line 1997\n",
      "NiftiImageIO (0x8d70090): /home/ids/ihamdaoui-21/ACDC/database/testing/patient125/patient125_frame01_gt.nii.gz has unexpected scales in sform\n",
      "\n",
      "WARNING: In /tmp/SimpleITK-build/ITK/Modules/IO/NIFTI/src/itkNiftiImageIO.cxx, line 1997\n",
      "NiftiImageIO (0x8d70090): /home/ids/ihamdaoui-21/ACDC/database/testing/patient125/patient125_frame01_gt.nii.gz has unexpected scales in sform\n",
      "\n",
      "WARNING: In /tmp/SimpleITK-build/ITK/Modules/IO/NIFTI/src/itkNiftiImageIO.cxx, line 1997\n",
      "NiftiImageIO (0xef86420): /home/ids/ihamdaoui-21/ACDC/database/testing/patient125/patient125_frame07_gt.nii.gz has unexpected scales in sform\n",
      "\n",
      "WARNING: In /tmp/SimpleITK-build/ITK/Modules/IO/NIFTI/src/itkNiftiImageIO.cxx, line 1997\n",
      "NiftiImageIO (0xef86420): /home/ids/ihamdaoui-21/ACDC/database/testing/patient125/patient125_frame07_gt.nii.gz has unexpected scales in sform\n",
      "\n",
      "WARNING: In /tmp/SimpleITK-build/ITK/Modules/IO/NIFTI/src/itkNiftiImageIO.cxx, line 1997\n",
      "NiftiImageIO (0x8d70090): /home/ids/ihamdaoui-21/ACDC/database/testing/patient117/patient117_frame01_gt.nii.gz has unexpected scales in sform\n",
      "\n",
      "WARNING: In /tmp/SimpleITK-build/ITK/Modules/IO/NIFTI/src/itkNiftiImageIO.cxx, line 1997\n",
      "NiftiImageIO (0x8d70090): /home/ids/ihamdaoui-21/ACDC/database/testing/patient117/patient117_frame01_gt.nii.gz has unexpected scales in sform\n",
      "\n",
      "WARNING: In /tmp/SimpleITK-build/ITK/Modules/IO/NIFTI/src/itkNiftiImageIO.cxx, line 1997\n",
      "NiftiImageIO (0xef86420): /home/ids/ihamdaoui-21/ACDC/database/testing/patient117/patient117_frame13_gt.nii.gz has unexpected scales in sform\n",
      "\n",
      "WARNING: In /tmp/SimpleITK-build/ITK/Modules/IO/NIFTI/src/itkNiftiImageIO.cxx, line 1997\n",
      "NiftiImageIO (0xef86420): /home/ids/ihamdaoui-21/ACDC/database/testing/patient117/patient117_frame13_gt.nii.gz has unexpected scales in sform\n",
      "\n",
      "WARNING: In /tmp/SimpleITK-build/ITK/Modules/IO/NIFTI/src/itkNiftiImageIO.cxx, line 1997\n",
      "NiftiImageIO (0x8d70090): /home/ids/ihamdaoui-21/ACDC/database/testing/patient141/patient141_frame01_gt.nii.gz has unexpected scales in sform\n",
      "\n",
      "WARNING: In /tmp/SimpleITK-build/ITK/Modules/IO/NIFTI/src/itkNiftiImageIO.cxx, line 1997\n",
      "NiftiImageIO (0x8d70090): /home/ids/ihamdaoui-21/ACDC/database/testing/patient141/patient141_frame01_gt.nii.gz has unexpected scales in sform\n",
      "\n",
      "WARNING: In /tmp/SimpleITK-build/ITK/Modules/IO/NIFTI/src/itkNiftiImageIO.cxx, line 1997\n",
      "NiftiImageIO (0xef86420): /home/ids/ihamdaoui-21/ACDC/database/testing/patient141/patient141_frame11_gt.nii.gz has unexpected scales in sform\n",
      "\n",
      "WARNING: In /tmp/SimpleITK-build/ITK/Modules/IO/NIFTI/src/itkNiftiImageIO.cxx, line 1997\n",
      "NiftiImageIO (0xef86420): /home/ids/ihamdaoui-21/ACDC/database/testing/patient141/patient141_frame11_gt.nii.gz has unexpected scales in sform\n",
      "\n",
      "WARNING: In /tmp/SimpleITK-build/ITK/Modules/IO/NIFTI/src/itkNiftiImageIO.cxx, line 1997\n",
      "NiftiImageIO (0x8d70090): /home/ids/ihamdaoui-21/ACDC/database/testing/patient136/patient136_frame01_gt.nii.gz has unexpected scales in sform\n",
      "\n",
      "WARNING: In /tmp/SimpleITK-build/ITK/Modules/IO/NIFTI/src/itkNiftiImageIO.cxx, line 1997\n",
      "NiftiImageIO (0x8d70090): /home/ids/ihamdaoui-21/ACDC/database/testing/patient136/patient136_frame01_gt.nii.gz has unexpected scales in sform\n",
      "\n",
      "WARNING: In /tmp/SimpleITK-build/ITK/Modules/IO/NIFTI/src/itkNiftiImageIO.cxx, line 1997\n",
      "NiftiImageIO (0xef86420): /home/ids/ihamdaoui-21/ACDC/database/testing/patient136/patient136_frame12_gt.nii.gz has unexpected scales in sform\n",
      "\n",
      "WARNING: In /tmp/SimpleITK-build/ITK/Modules/IO/NIFTI/src/itkNiftiImageIO.cxx, line 1997\n",
      "NiftiImageIO (0xef86420): /home/ids/ihamdaoui-21/ACDC/database/testing/patient136/patient136_frame12_gt.nii.gz has unexpected scales in sform\n",
      "\n",
      "WARNING: In /tmp/SimpleITK-build/ITK/Modules/IO/NIFTI/src/itkNiftiImageIO.cxx, line 1997\n",
      "NiftiImageIO (0x8d70090): /home/ids/ihamdaoui-21/ACDC/database/testing/patient104/patient104_frame01_gt.nii.gz has unexpected scales in sform\n",
      "\n",
      "WARNING: In /tmp/SimpleITK-build/ITK/Modules/IO/NIFTI/src/itkNiftiImageIO.cxx, line 1997\n",
      "NiftiImageIO (0x8d70090): /home/ids/ihamdaoui-21/ACDC/database/testing/patient104/patient104_frame01_gt.nii.gz has unexpected scales in sform\n",
      "\n",
      "WARNING: In /tmp/SimpleITK-build/ITK/Modules/IO/NIFTI/src/itkNiftiImageIO.cxx, line 1997\n",
      "NiftiImageIO (0xef86420): /home/ids/ihamdaoui-21/ACDC/database/testing/patient104/patient104_frame11_gt.nii.gz has unexpected scales in sform\n",
      "\n",
      "WARNING: In /tmp/SimpleITK-build/ITK/Modules/IO/NIFTI/src/itkNiftiImageIO.cxx, line 1997\n",
      "NiftiImageIO (0xef86420): /home/ids/ihamdaoui-21/ACDC/database/testing/patient104/patient104_frame11_gt.nii.gz has unexpected scales in sform\n",
      "\n",
      "WARNING: In /tmp/SimpleITK-build/ITK/Modules/IO/NIFTI/src/itkNiftiImageIO.cxx, line 1997\n",
      "NiftiImageIO (0x8d70090): /home/ids/ihamdaoui-21/ACDC/database/testing/patient138/patient138_frame01_gt.nii.gz has unexpected scales in sform\n",
      "\n",
      "WARNING: In /tmp/SimpleITK-build/ITK/Modules/IO/NIFTI/src/itkNiftiImageIO.cxx, line 1997\n",
      "NiftiImageIO (0x8d70090): /home/ids/ihamdaoui-21/ACDC/database/testing/patient138/patient138_frame01_gt.nii.gz has unexpected scales in sform\n",
      "\n",
      "WARNING: In /tmp/SimpleITK-build/ITK/Modules/IO/NIFTI/src/itkNiftiImageIO.cxx, line 1997\n",
      "NiftiImageIO (0xef86420): /home/ids/ihamdaoui-21/ACDC/database/testing/patient138/patient138_frame10_gt.nii.gz has unexpected scales in sform\n",
      "\n",
      "WARNING: In /tmp/SimpleITK-build/ITK/Modules/IO/NIFTI/src/itkNiftiImageIO.cxx, line 1997\n",
      "NiftiImageIO (0xef86420): /home/ids/ihamdaoui-21/ACDC/database/testing/patient138/patient138_frame10_gt.nii.gz has unexpected scales in sform\n",
      "\n",
      "WARNING: In /tmp/SimpleITK-build/ITK/Modules/IO/NIFTI/src/itkNiftiImageIO.cxx, line 1997\n",
      "NiftiImageIO (0x8d70090): /home/ids/ihamdaoui-21/ACDC/database/testing/patient145/patient145_frame01_gt.nii.gz has unexpected scales in sform\n",
      "\n",
      "WARNING: In /tmp/SimpleITK-build/ITK/Modules/IO/NIFTI/src/itkNiftiImageIO.cxx, line 1997\n",
      "NiftiImageIO (0x8d70090): /home/ids/ihamdaoui-21/ACDC/database/testing/patient145/patient145_frame01_gt.nii.gz has unexpected scales in sform\n",
      "\n",
      "WARNING: In /tmp/SimpleITK-build/ITK/Modules/IO/NIFTI/src/itkNiftiImageIO.cxx, line 1997\n",
      "NiftiImageIO (0xef86420): /home/ids/ihamdaoui-21/ACDC/database/testing/patient145/patient145_frame13_gt.nii.gz has unexpected scales in sform\n",
      "\n",
      "WARNING: In /tmp/SimpleITK-build/ITK/Modules/IO/NIFTI/src/itkNiftiImageIO.cxx, line 1997\n",
      "NiftiImageIO (0xef86420): /home/ids/ihamdaoui-21/ACDC/database/testing/patient145/patient145_frame13_gt.nii.gz has unexpected scales in sform\n",
      "\n",
      "WARNING: In /tmp/SimpleITK-build/ITK/Modules/IO/NIFTI/src/itkNiftiImageIO.cxx, line 1997\n",
      "NiftiImageIO (0x8d70090): /home/ids/ihamdaoui-21/ACDC/database/testing/patient132/patient132_frame01_gt.nii.gz has unexpected scales in sform\n",
      "\n",
      "WARNING: In /tmp/SimpleITK-build/ITK/Modules/IO/NIFTI/src/itkNiftiImageIO.cxx, line 1997\n",
      "NiftiImageIO (0x8d70090): /home/ids/ihamdaoui-21/ACDC/database/testing/patient132/patient132_frame01_gt.nii.gz has unexpected scales in sform\n",
      "\n",
      "WARNING: In /tmp/SimpleITK-build/ITK/Modules/IO/NIFTI/src/itkNiftiImageIO.cxx, line 1997\n",
      "NiftiImageIO (0xef86420): /home/ids/ihamdaoui-21/ACDC/database/testing/patient132/patient132_frame15_gt.nii.gz has unexpected scales in sform\n",
      "\n",
      "WARNING: In /tmp/SimpleITK-build/ITK/Modules/IO/NIFTI/src/itkNiftiImageIO.cxx, line 1997\n",
      "NiftiImageIO (0xef86420): /home/ids/ihamdaoui-21/ACDC/database/testing/patient132/patient132_frame15_gt.nii.gz has unexpected scales in sform\n",
      "\n",
      "WARNING: In /tmp/SimpleITK-build/ITK/Modules/IO/NIFTI/src/itkNiftiImageIO.cxx, line 1997\n",
      "NiftiImageIO (0x8d70090): /home/ids/ihamdaoui-21/ACDC/database/testing/patient113/patient113_frame01_gt.nii.gz has unexpected scales in sform\n",
      "\n",
      "WARNING: In /tmp/SimpleITK-build/ITK/Modules/IO/NIFTI/src/itkNiftiImageIO.cxx, line 1997\n",
      "NiftiImageIO (0x8d70090): /home/ids/ihamdaoui-21/ACDC/database/testing/patient113/patient113_frame01_gt.nii.gz has unexpected scales in sform\n",
      "\n",
      "WARNING: In /tmp/SimpleITK-build/ITK/Modules/IO/NIFTI/src/itkNiftiImageIO.cxx, line 1997\n",
      "NiftiImageIO (0xef86420): /home/ids/ihamdaoui-21/ACDC/database/testing/patient113/patient113_frame08_gt.nii.gz has unexpected scales in sform\n",
      "\n",
      "WARNING: In /tmp/SimpleITK-build/ITK/Modules/IO/NIFTI/src/itkNiftiImageIO.cxx, line 1997\n",
      "NiftiImageIO (0xef86420): /home/ids/ihamdaoui-21/ACDC/database/testing/patient113/patient113_frame08_gt.nii.gz has unexpected scales in sform\n",
      "\n",
      "WARNING: In /tmp/SimpleITK-build/ITK/Modules/IO/NIFTI/src/itkNiftiImageIO.cxx, line 1997\n",
      "NiftiImageIO (0x8d70090): /home/ids/ihamdaoui-21/ACDC/database/testing/patient119/patient119_frame01_gt.nii.gz has unexpected scales in sform\n",
      "\n",
      "WARNING: In /tmp/SimpleITK-build/ITK/Modules/IO/NIFTI/src/itkNiftiImageIO.cxx, line 1997\n",
      "NiftiImageIO (0x8d70090): /home/ids/ihamdaoui-21/ACDC/database/testing/patient119/patient119_frame01_gt.nii.gz has unexpected scales in sform\n",
      "\n",
      "WARNING: In /tmp/SimpleITK-build/ITK/Modules/IO/NIFTI/src/itkNiftiImageIO.cxx, line 1997\n",
      "NiftiImageIO (0xef86420): /home/ids/ihamdaoui-21/ACDC/database/testing/patient119/patient119_frame09_gt.nii.gz has unexpected scales in sform\n",
      "\n",
      "WARNING: In /tmp/SimpleITK-build/ITK/Modules/IO/NIFTI/src/itkNiftiImageIO.cxx, line 1997\n",
      "NiftiImageIO (0xef86420): /home/ids/ihamdaoui-21/ACDC/database/testing/patient119/patient119_frame09_gt.nii.gz has unexpected scales in sform\n",
      "\n",
      "WARNING: In /tmp/SimpleITK-build/ITK/Modules/IO/NIFTI/src/itkNiftiImageIO.cxx, line 1997\n",
      "NiftiImageIO (0x8d70090): /home/ids/ihamdaoui-21/ACDC/database/testing/patient121/patient121_frame01_gt.nii.gz has unexpected scales in sform\n",
      "\n",
      "WARNING: In /tmp/SimpleITK-build/ITK/Modules/IO/NIFTI/src/itkNiftiImageIO.cxx, line 1997\n",
      "NiftiImageIO (0x8d70090): /home/ids/ihamdaoui-21/ACDC/database/testing/patient121/patient121_frame01_gt.nii.gz has unexpected scales in sform\n",
      "\n",
      "WARNING: In /tmp/SimpleITK-build/ITK/Modules/IO/NIFTI/src/itkNiftiImageIO.cxx, line 1997\n",
      "NiftiImageIO (0xef86420): /home/ids/ihamdaoui-21/ACDC/database/testing/patient121/patient121_frame10_gt.nii.gz has unexpected scales in sform\n",
      "\n",
      "WARNING: In /tmp/SimpleITK-build/ITK/Modules/IO/NIFTI/src/itkNiftiImageIO.cxx, line 1997\n",
      "NiftiImageIO (0xef86420): /home/ids/ihamdaoui-21/ACDC/database/testing/patient121/patient121_frame10_gt.nii.gz has unexpected scales in sform\n",
      "\n",
      "WARNING: In /tmp/SimpleITK-build/ITK/Modules/IO/NIFTI/src/itkNiftiImageIO.cxx, line 1997\n",
      "NiftiImageIO (0x8d70090): /home/ids/ihamdaoui-21/ACDC/database/testing/patient126/patient126_frame01_gt.nii.gz has unexpected scales in sform\n",
      "\n",
      "WARNING: In /tmp/SimpleITK-build/ITK/Modules/IO/NIFTI/src/itkNiftiImageIO.cxx, line 1997\n",
      "NiftiImageIO (0x8d70090): /home/ids/ihamdaoui-21/ACDC/database/testing/patient126/patient126_frame01_gt.nii.gz has unexpected scales in sform\n",
      "\n",
      "WARNING: In /tmp/SimpleITK-build/ITK/Modules/IO/NIFTI/src/itkNiftiImageIO.cxx, line 1997\n",
      "NiftiImageIO (0xef86420): /home/ids/ihamdaoui-21/ACDC/database/testing/patient126/patient126_frame07_gt.nii.gz has unexpected scales in sform\n",
      "\n",
      "WARNING: In /tmp/SimpleITK-build/ITK/Modules/IO/NIFTI/src/itkNiftiImageIO.cxx, line 1997\n",
      "NiftiImageIO (0xef86420): /home/ids/ihamdaoui-21/ACDC/database/testing/patient126/patient126_frame07_gt.nii.gz has unexpected scales in sform\n",
      "\n",
      "WARNING: In /tmp/SimpleITK-build/ITK/Modules/IO/NIFTI/src/itkNiftiImageIO.cxx, line 1997\n",
      "NiftiImageIO (0x8d70090): /home/ids/ihamdaoui-21/ACDC/database/testing/patient114/patient114_frame01_gt.nii.gz has unexpected scales in sform\n",
      "\n",
      "WARNING: In /tmp/SimpleITK-build/ITK/Modules/IO/NIFTI/src/itkNiftiImageIO.cxx, line 1997\n",
      "NiftiImageIO (0x8d70090): /home/ids/ihamdaoui-21/ACDC/database/testing/patient114/patient114_frame01_gt.nii.gz has unexpected scales in sform\n",
      "\n",
      "WARNING: In /tmp/SimpleITK-build/ITK/Modules/IO/NIFTI/src/itkNiftiImageIO.cxx, line 1997\n",
      "NiftiImageIO (0xef86420): /home/ids/ihamdaoui-21/ACDC/database/testing/patient114/patient114_frame11_gt.nii.gz has unexpected scales in sform\n",
      "\n",
      "WARNING: In /tmp/SimpleITK-build/ITK/Modules/IO/NIFTI/src/itkNiftiImageIO.cxx, line 1997\n",
      "NiftiImageIO (0xef86420): /home/ids/ihamdaoui-21/ACDC/database/testing/patient114/patient114_frame11_gt.nii.gz has unexpected scales in sform\n",
      "\n",
      "WARNING: In /tmp/SimpleITK-build/ITK/Modules/IO/NIFTI/src/itkNiftiImageIO.cxx, line 1997\n",
      "NiftiImageIO (0x8d70090): /home/ids/ihamdaoui-21/ACDC/database/testing/patient148/patient148_frame01_gt.nii.gz has unexpected scales in sform\n",
      "\n",
      "WARNING: In /tmp/SimpleITK-build/ITK/Modules/IO/NIFTI/src/itkNiftiImageIO.cxx, line 1997\n",
      "NiftiImageIO (0x8d70090): /home/ids/ihamdaoui-21/ACDC/database/testing/patient148/patient148_frame01_gt.nii.gz has unexpected scales in sform\n",
      "\n",
      "WARNING: In /tmp/SimpleITK-build/ITK/Modules/IO/NIFTI/src/itkNiftiImageIO.cxx, line 1997\n",
      "NiftiImageIO (0xef86420): /home/ids/ihamdaoui-21/ACDC/database/testing/patient148/patient148_frame10_gt.nii.gz has unexpected scales in sform\n",
      "\n",
      "WARNING: In /tmp/SimpleITK-build/ITK/Modules/IO/NIFTI/src/itkNiftiImageIO.cxx, line 1997\n",
      "NiftiImageIO (0xef86420): /home/ids/ihamdaoui-21/ACDC/database/testing/patient148/patient148_frame10_gt.nii.gz has unexpected scales in sform\n",
      "\n",
      "WARNING: In /tmp/SimpleITK-build/ITK/Modules/IO/NIFTI/src/itkNiftiImageIO.cxx, line 1997\n",
      "NiftiImageIO (0x8d70090): /home/ids/ihamdaoui-21/ACDC/database/testing/patient135/patient135_frame01_gt.nii.gz has unexpected scales in sform\n",
      "\n",
      "WARNING: In /tmp/SimpleITK-build/ITK/Modules/IO/NIFTI/src/itkNiftiImageIO.cxx, line 1997\n",
      "NiftiImageIO (0x8d70090): /home/ids/ihamdaoui-21/ACDC/database/testing/patient135/patient135_frame01_gt.nii.gz has unexpected scales in sform\n",
      "\n",
      "WARNING: In /tmp/SimpleITK-build/ITK/Modules/IO/NIFTI/src/itkNiftiImageIO.cxx, line 1997\n",
      "NiftiImageIO (0xef86420): /home/ids/ihamdaoui-21/ACDC/database/testing/patient135/patient135_frame10_gt.nii.gz has unexpected scales in sform\n",
      "\n",
      "WARNING: In /tmp/SimpleITK-build/ITK/Modules/IO/NIFTI/src/itkNiftiImageIO.cxx, line 1997\n",
      "NiftiImageIO (0xef86420): /home/ids/ihamdaoui-21/ACDC/database/testing/patient135/patient135_frame10_gt.nii.gz has unexpected scales in sform\n",
      "\n",
      "WARNING: In /tmp/SimpleITK-build/ITK/Modules/IO/NIFTI/src/itkNiftiImageIO.cxx, line 1997\n",
      "NiftiImageIO (0x8d70090): /home/ids/ihamdaoui-21/ACDC/database/testing/patient142/patient142_frame01_gt.nii.gz has unexpected scales in sform\n",
      "\n",
      "WARNING: In /tmp/SimpleITK-build/ITK/Modules/IO/NIFTI/src/itkNiftiImageIO.cxx, line 1997\n",
      "NiftiImageIO (0x8d70090): /home/ids/ihamdaoui-21/ACDC/database/testing/patient142/patient142_frame01_gt.nii.gz has unexpected scales in sform\n",
      "\n",
      "WARNING: In /tmp/SimpleITK-build/ITK/Modules/IO/NIFTI/src/itkNiftiImageIO.cxx, line 1997\n",
      "NiftiImageIO (0xef86420): /home/ids/ihamdaoui-21/ACDC/database/testing/patient142/patient142_frame12_gt.nii.gz has unexpected scales in sform\n",
      "\n",
      "WARNING: In /tmp/SimpleITK-build/ITK/Modules/IO/NIFTI/src/itkNiftiImageIO.cxx, line 1997\n",
      "NiftiImageIO (0xef86420): /home/ids/ihamdaoui-21/ACDC/database/testing/patient142/patient142_frame12_gt.nii.gz has unexpected scales in sform\n",
      "\n",
      "WARNING: In /tmp/SimpleITK-build/ITK/Modules/IO/NIFTI/src/itkNiftiImageIO.cxx, line 1997\n",
      "NiftiImageIO (0x8d70090): /home/ids/ihamdaoui-21/ACDC/database/testing/patient107/patient107_frame01_gt.nii.gz has unexpected scales in sform\n",
      "\n",
      "WARNING: In /tmp/SimpleITK-build/ITK/Modules/IO/NIFTI/src/itkNiftiImageIO.cxx, line 1997\n",
      "NiftiImageIO (0x8d70090): /home/ids/ihamdaoui-21/ACDC/database/testing/patient107/patient107_frame01_gt.nii.gz has unexpected scales in sform\n",
      "\n",
      "WARNING: In /tmp/SimpleITK-build/ITK/Modules/IO/NIFTI/src/itkNiftiImageIO.cxx, line 1997\n",
      "NiftiImageIO (0xef86420): /home/ids/ihamdaoui-21/ACDC/database/testing/patient107/patient107_frame10_gt.nii.gz has unexpected scales in sform\n",
      "\n",
      "WARNING: In /tmp/SimpleITK-build/ITK/Modules/IO/NIFTI/src/itkNiftiImageIO.cxx, line 1997\n",
      "NiftiImageIO (0xef86420): /home/ids/ihamdaoui-21/ACDC/database/testing/patient107/patient107_frame10_gt.nii.gz has unexpected scales in sform\n",
      "\n",
      "WARNING: In /tmp/SimpleITK-build/ITK/Modules/IO/NIFTI/src/itkNiftiImageIO.cxx, line 1997\n",
      "NiftiImageIO (0x8d70090): /home/ids/ihamdaoui-21/ACDC/database/testing/patient137/patient137_frame01_gt.nii.gz has unexpected scales in sform\n",
      "\n",
      "WARNING: In /tmp/SimpleITK-build/ITK/Modules/IO/NIFTI/src/itkNiftiImageIO.cxx, line 1997\n",
      "NiftiImageIO (0x8d70090): /home/ids/ihamdaoui-21/ACDC/database/testing/patient137/patient137_frame01_gt.nii.gz has unexpected scales in sform\n",
      "\n",
      "WARNING: In /tmp/SimpleITK-build/ITK/Modules/IO/NIFTI/src/itkNiftiImageIO.cxx, line 1997\n",
      "NiftiImageIO (0xef86420): /home/ids/ihamdaoui-21/ACDC/database/testing/patient137/patient137_frame11_gt.nii.gz has unexpected scales in sform\n",
      "\n",
      "WARNING: In /tmp/SimpleITK-build/ITK/Modules/IO/NIFTI/src/itkNiftiImageIO.cxx, line 1997\n",
      "NiftiImageIO (0xef86420): /home/ids/ihamdaoui-21/ACDC/database/testing/patient137/patient137_frame11_gt.nii.gz has unexpected scales in sform\n",
      "\n",
      "WARNING: In /tmp/SimpleITK-build/ITK/Modules/IO/NIFTI/src/itkNiftiImageIO.cxx, line 1997\n",
      "NiftiImageIO (0x8d70090): /home/ids/ihamdaoui-21/ACDC/database/testing/patient140/patient140_frame01_gt.nii.gz has unexpected scales in sform\n",
      "\n",
      "WARNING: In /tmp/SimpleITK-build/ITK/Modules/IO/NIFTI/src/itkNiftiImageIO.cxx, line 1997\n",
      "NiftiImageIO (0x8d70090): /home/ids/ihamdaoui-21/ACDC/database/testing/patient140/patient140_frame01_gt.nii.gz has unexpected scales in sform\n",
      "\n",
      "WARNING: In /tmp/SimpleITK-build/ITK/Modules/IO/NIFTI/src/itkNiftiImageIO.cxx, line 1997\n",
      "NiftiImageIO (0xef86420): /home/ids/ihamdaoui-21/ACDC/database/testing/patient140/patient140_frame09_gt.nii.gz has unexpected scales in sform\n",
      "\n",
      "WARNING: In /tmp/SimpleITK-build/ITK/Modules/IO/NIFTI/src/itkNiftiImageIO.cxx, line 1997\n",
      "NiftiImageIO (0xef86420): /home/ids/ihamdaoui-21/ACDC/database/testing/patient140/patient140_frame09_gt.nii.gz has unexpected scales in sform\n",
      "\n",
      "WARNING: In /tmp/SimpleITK-build/ITK/Modules/IO/NIFTI/src/itkNiftiImageIO.cxx, line 1997\n",
      "NiftiImageIO (0x8d70090): /home/ids/ihamdaoui-21/ACDC/database/testing/patient105/patient105_frame01_gt.nii.gz has unexpected scales in sform\n",
      "\n",
      "WARNING: In /tmp/SimpleITK-build/ITK/Modules/IO/NIFTI/src/itkNiftiImageIO.cxx, line 1997\n",
      "NiftiImageIO (0x8d70090): /home/ids/ihamdaoui-21/ACDC/database/testing/patient105/patient105_frame01_gt.nii.gz has unexpected scales in sform\n",
      "\n",
      "WARNING: In /tmp/SimpleITK-build/ITK/Modules/IO/NIFTI/src/itkNiftiImageIO.cxx, line 1997\n",
      "NiftiImageIO (0xef86420): /home/ids/ihamdaoui-21/ACDC/database/testing/patient105/patient105_frame10_gt.nii.gz has unexpected scales in sform\n",
      "\n",
      "WARNING: In /tmp/SimpleITK-build/ITK/Modules/IO/NIFTI/src/itkNiftiImageIO.cxx, line 1997\n",
      "NiftiImageIO (0xef86420): /home/ids/ihamdaoui-21/ACDC/database/testing/patient105/patient105_frame10_gt.nii.gz has unexpected scales in sform\n",
      "\n",
      "WARNING: In /tmp/SimpleITK-build/ITK/Modules/IO/NIFTI/src/itkNiftiImageIO.cxx, line 1997\n",
      "NiftiImageIO (0x8d70090): /home/ids/ihamdaoui-21/ACDC/database/testing/patient124/patient124_frame01_gt.nii.gz has unexpected scales in sform\n",
      "\n",
      "WARNING: In /tmp/SimpleITK-build/ITK/Modules/IO/NIFTI/src/itkNiftiImageIO.cxx, line 1997\n",
      "NiftiImageIO (0x8d70090): /home/ids/ihamdaoui-21/ACDC/database/testing/patient124/patient124_frame01_gt.nii.gz has unexpected scales in sform\n",
      "\n",
      "WARNING: In /tmp/SimpleITK-build/ITK/Modules/IO/NIFTI/src/itkNiftiImageIO.cxx, line 1997\n",
      "NiftiImageIO (0xef86420): /home/ids/ihamdaoui-21/ACDC/database/testing/patient124/patient124_frame07_gt.nii.gz has unexpected scales in sform\n",
      "\n",
      "WARNING: In /tmp/SimpleITK-build/ITK/Modules/IO/NIFTI/src/itkNiftiImageIO.cxx, line 1997\n",
      "NiftiImageIO (0xef86420): /home/ids/ihamdaoui-21/ACDC/database/testing/patient124/patient124_frame07_gt.nii.gz has unexpected scales in sform\n",
      "\n",
      "WARNING: In /tmp/SimpleITK-build/ITK/Modules/IO/NIFTI/src/itkNiftiImageIO.cxx, line 1997\n",
      "NiftiImageIO (0x8d70090): /home/ids/ihamdaoui-21/ACDC/database/testing/patient116/patient116_frame01_gt.nii.gz has unexpected scales in sform\n",
      "\n",
      "WARNING: In /tmp/SimpleITK-build/ITK/Modules/IO/NIFTI/src/itkNiftiImageIO.cxx, line 1997\n",
      "NiftiImageIO (0x8d70090): /home/ids/ihamdaoui-21/ACDC/database/testing/patient116/patient116_frame01_gt.nii.gz has unexpected scales in sform\n",
      "\n",
      "WARNING: In /tmp/SimpleITK-build/ITK/Modules/IO/NIFTI/src/itkNiftiImageIO.cxx, line 1997\n",
      "NiftiImageIO (0xef86420): /home/ids/ihamdaoui-21/ACDC/database/testing/patient116/patient116_frame09_gt.nii.gz has unexpected scales in sform\n",
      "\n",
      "WARNING: In /tmp/SimpleITK-build/ITK/Modules/IO/NIFTI/src/itkNiftiImageIO.cxx, line 1997\n",
      "NiftiImageIO (0xef86420): /home/ids/ihamdaoui-21/ACDC/database/testing/patient116/patient116_frame09_gt.nii.gz has unexpected scales in sform\n",
      "\n",
      "WARNING: In /tmp/SimpleITK-build/ITK/Modules/IO/NIFTI/src/itkNiftiImageIO.cxx, line 1997\n",
      "NiftiImageIO (0x8d70090): /home/ids/ihamdaoui-21/ACDC/database/testing/patient111/patient111_frame01_gt.nii.gz has unexpected scales in sform\n",
      "\n",
      "WARNING: In /tmp/SimpleITK-build/ITK/Modules/IO/NIFTI/src/itkNiftiImageIO.cxx, line 1997\n",
      "NiftiImageIO (0x8d70090): /home/ids/ihamdaoui-21/ACDC/database/testing/patient111/patient111_frame01_gt.nii.gz has unexpected scales in sform\n",
      "\n",
      "WARNING: In /tmp/SimpleITK-build/ITK/Modules/IO/NIFTI/src/itkNiftiImageIO.cxx, line 1997\n",
      "NiftiImageIO (0xef86420): /home/ids/ihamdaoui-21/ACDC/database/testing/patient111/patient111_frame07_gt.nii.gz has unexpected scales in sform\n",
      "\n",
      "WARNING: In /tmp/SimpleITK-build/ITK/Modules/IO/NIFTI/src/itkNiftiImageIO.cxx, line 1997\n",
      "NiftiImageIO (0xef86420): /home/ids/ihamdaoui-21/ACDC/database/testing/patient111/patient111_frame07_gt.nii.gz has unexpected scales in sform\n",
      "\n",
      "WARNING: In /tmp/SimpleITK-build/ITK/Modules/IO/NIFTI/src/itkNiftiImageIO.cxx, line 1997\n",
      "NiftiImageIO (0x8d70090): /home/ids/ihamdaoui-21/ACDC/database/testing/patient123/patient123_frame01_gt.nii.gz has unexpected scales in sform\n",
      "\n",
      "WARNING: In /tmp/SimpleITK-build/ITK/Modules/IO/NIFTI/src/itkNiftiImageIO.cxx, line 1997\n",
      "NiftiImageIO (0x8d70090): /home/ids/ihamdaoui-21/ACDC/database/testing/patient123/patient123_frame01_gt.nii.gz has unexpected scales in sform\n",
      "\n",
      "WARNING: In /tmp/SimpleITK-build/ITK/Modules/IO/NIFTI/src/itkNiftiImageIO.cxx, line 1997\n",
      "NiftiImageIO (0xef86420): /home/ids/ihamdaoui-21/ACDC/database/testing/patient123/patient123_frame11_gt.nii.gz has unexpected scales in sform\n",
      "\n",
      "WARNING: In /tmp/SimpleITK-build/ITK/Modules/IO/NIFTI/src/itkNiftiImageIO.cxx, line 1997\n",
      "NiftiImageIO (0xef86420): /home/ids/ihamdaoui-21/ACDC/database/testing/patient123/patient123_frame11_gt.nii.gz has unexpected scales in sform\n",
      "\n",
      "WARNING: In /tmp/SimpleITK-build/ITK/Modules/IO/NIFTI/src/itkNiftiImageIO.cxx, line 1997\n",
      "NiftiImageIO (0x8d70090): /home/ids/ihamdaoui-21/ACDC/database/testing/patient129/patient129_frame01_gt.nii.gz has unexpected scales in sform\n",
      "\n",
      "WARNING: In /tmp/SimpleITK-build/ITK/Modules/IO/NIFTI/src/itkNiftiImageIO.cxx, line 1997\n",
      "NiftiImageIO (0x8d70090): /home/ids/ihamdaoui-21/ACDC/database/testing/patient129/patient129_frame01_gt.nii.gz has unexpected scales in sform\n",
      "\n",
      "WARNING: In /tmp/SimpleITK-build/ITK/Modules/IO/NIFTI/src/itkNiftiImageIO.cxx, line 1997\n",
      "NiftiImageIO (0xef86420): /home/ids/ihamdaoui-21/ACDC/database/testing/patient129/patient129_frame08_gt.nii.gz has unexpected scales in sform\n",
      "\n",
      "WARNING: In /tmp/SimpleITK-build/ITK/Modules/IO/NIFTI/src/itkNiftiImageIO.cxx, line 1997\n",
      "NiftiImageIO (0xef86420): /home/ids/ihamdaoui-21/ACDC/database/testing/patient129/patient129_frame08_gt.nii.gz has unexpected scales in sform\n",
      "\n",
      "WARNING: In /tmp/SimpleITK-build/ITK/Modules/IO/NIFTI/src/itkNiftiImageIO.cxx, line 1997\n",
      "NiftiImageIO (0x8d70090): /home/ids/ihamdaoui-21/ACDC/database/testing/patient108/patient108_frame01_gt.nii.gz has unexpected scales in sform\n",
      "\n",
      "WARNING: In /tmp/SimpleITK-build/ITK/Modules/IO/NIFTI/src/itkNiftiImageIO.cxx, line 1997\n",
      "NiftiImageIO (0x8d70090): /home/ids/ihamdaoui-21/ACDC/database/testing/patient108/patient108_frame01_gt.nii.gz has unexpected scales in sform\n",
      "\n",
      "WARNING: In /tmp/SimpleITK-build/ITK/Modules/IO/NIFTI/src/itkNiftiImageIO.cxx, line 1997\n",
      "NiftiImageIO (0xef86420): /home/ids/ihamdaoui-21/ACDC/database/testing/patient108/patient108_frame09_gt.nii.gz has unexpected scales in sform\n",
      "\n",
      "WARNING: In /tmp/SimpleITK-build/ITK/Modules/IO/NIFTI/src/itkNiftiImageIO.cxx, line 1997\n",
      "NiftiImageIO (0xef86420): /home/ids/ihamdaoui-21/ACDC/database/testing/patient108/patient108_frame09_gt.nii.gz has unexpected scales in sform\n",
      "\n",
      "WARNING: In /tmp/SimpleITK-build/ITK/Modules/IO/NIFTI/src/itkNiftiImageIO.cxx, line 1997\n",
      "NiftiImageIO (0x8d70090): /home/ids/ihamdaoui-21/ACDC/database/testing/patient102/patient102_frame01_gt.nii.gz has unexpected scales in sform\n",
      "\n",
      "WARNING: In /tmp/SimpleITK-build/ITK/Modules/IO/NIFTI/src/itkNiftiImageIO.cxx, line 1997\n",
      "NiftiImageIO (0x8d70090): /home/ids/ihamdaoui-21/ACDC/database/testing/patient102/patient102_frame01_gt.nii.gz has unexpected scales in sform\n",
      "\n",
      "WARNING: In /tmp/SimpleITK-build/ITK/Modules/IO/NIFTI/src/itkNiftiImageIO.cxx, line 1997\n",
      "NiftiImageIO (0xef86420): /home/ids/ihamdaoui-21/ACDC/database/testing/patient102/patient102_frame13_gt.nii.gz has unexpected scales in sform\n",
      "\n",
      "WARNING: In /tmp/SimpleITK-build/ITK/Modules/IO/NIFTI/src/itkNiftiImageIO.cxx, line 1997\n",
      "NiftiImageIO (0xef86420): /home/ids/ihamdaoui-21/ACDC/database/testing/patient102/patient102_frame13_gt.nii.gz has unexpected scales in sform\n",
      "\n",
      "WARNING: In /tmp/SimpleITK-build/ITK/Modules/IO/NIFTI/src/itkNiftiImageIO.cxx, line 1997\n",
      "NiftiImageIO (0x8d70090): /home/ids/ihamdaoui-21/ACDC/database/testing/patient147/patient147_frame01_gt.nii.gz has unexpected scales in sform\n",
      "\n",
      "WARNING: In /tmp/SimpleITK-build/ITK/Modules/IO/NIFTI/src/itkNiftiImageIO.cxx, line 1997\n",
      "NiftiImageIO (0x8d70090): /home/ids/ihamdaoui-21/ACDC/database/testing/patient147/patient147_frame01_gt.nii.gz has unexpected scales in sform\n",
      "\n",
      "WARNING: In /tmp/SimpleITK-build/ITK/Modules/IO/NIFTI/src/itkNiftiImageIO.cxx, line 1997\n",
      "NiftiImageIO (0xef86420): /home/ids/ihamdaoui-21/ACDC/database/testing/patient147/patient147_frame09_gt.nii.gz has unexpected scales in sform\n",
      "\n",
      "WARNING: In /tmp/SimpleITK-build/ITK/Modules/IO/NIFTI/src/itkNiftiImageIO.cxx, line 1997\n",
      "NiftiImageIO (0xef86420): /home/ids/ihamdaoui-21/ACDC/database/testing/patient147/patient147_frame09_gt.nii.gz has unexpected scales in sform\n",
      "\n",
      "WARNING: In /tmp/SimpleITK-build/ITK/Modules/IO/NIFTI/src/itkNiftiImageIO.cxx, line 1997\n",
      "NiftiImageIO (0x8d70090): /home/ids/ihamdaoui-21/ACDC/database/testing/patient130/patient130_frame01_gt.nii.gz has unexpected scales in sform\n",
      "\n",
      "WARNING: In /tmp/SimpleITK-build/ITK/Modules/IO/NIFTI/src/itkNiftiImageIO.cxx, line 1997\n",
      "NiftiImageIO (0x8d70090): /home/ids/ihamdaoui-21/ACDC/database/testing/patient130/patient130_frame01_gt.nii.gz has unexpected scales in sform\n",
      "\n",
      "WARNING: In /tmp/SimpleITK-build/ITK/Modules/IO/NIFTI/src/itkNiftiImageIO.cxx, line 1997\n",
      "NiftiImageIO (0xef86420): /home/ids/ihamdaoui-21/ACDC/database/testing/patient130/patient130_frame11_gt.nii.gz has unexpected scales in sform\n",
      "\n",
      "WARNING: In /tmp/SimpleITK-build/ITK/Modules/IO/NIFTI/src/itkNiftiImageIO.cxx, line 1997\n",
      "NiftiImageIO (0xef86420): /home/ids/ihamdaoui-21/ACDC/database/testing/patient130/patient130_frame11_gt.nii.gz has unexpected scales in sform\n",
      "\n",
      "WARNING: In /tmp/SimpleITK-build/ITK/Modules/IO/NIFTI/src/itkNiftiImageIO.cxx, line 1997\n",
      "NiftiImageIO (0x8d70090): /home/ids/ihamdaoui-21/ACDC/database/testing/patient143/patient143_frame01_gt.nii.gz has unexpected scales in sform\n",
      "\n",
      "WARNING: In /tmp/SimpleITK-build/ITK/Modules/IO/NIFTI/src/itkNiftiImageIO.cxx, line 1997\n",
      "NiftiImageIO (0x8d70090): /home/ids/ihamdaoui-21/ACDC/database/testing/patient143/patient143_frame01_gt.nii.gz has unexpected scales in sform\n",
      "\n",
      "WARNING: In /tmp/SimpleITK-build/ITK/Modules/IO/NIFTI/src/itkNiftiImageIO.cxx, line 1997\n",
      "NiftiImageIO (0xef86420): /home/ids/ihamdaoui-21/ACDC/database/testing/patient143/patient143_frame12_gt.nii.gz has unexpected scales in sform\n",
      "\n",
      "WARNING: In /tmp/SimpleITK-build/ITK/Modules/IO/NIFTI/src/itkNiftiImageIO.cxx, line 1997\n",
      "NiftiImageIO (0xef86420): /home/ids/ihamdaoui-21/ACDC/database/testing/patient143/patient143_frame12_gt.nii.gz has unexpected scales in sform\n",
      "\n",
      "WARNING: In /tmp/SimpleITK-build/ITK/Modules/IO/NIFTI/src/itkNiftiImageIO.cxx, line 1997\n",
      "NiftiImageIO (0x8d70090): /home/ids/ihamdaoui-21/ACDC/database/testing/patient134/patient134_frame01_gt.nii.gz has unexpected scales in sform\n",
      "\n",
      "WARNING: In /tmp/SimpleITK-build/ITK/Modules/IO/NIFTI/src/itkNiftiImageIO.cxx, line 1997\n",
      "NiftiImageIO (0x8d70090): /home/ids/ihamdaoui-21/ACDC/database/testing/patient134/patient134_frame01_gt.nii.gz has unexpected scales in sform\n",
      "\n",
      "WARNING: In /tmp/SimpleITK-build/ITK/Modules/IO/NIFTI/src/itkNiftiImageIO.cxx, line 1997\n",
      "NiftiImageIO (0xef86420): /home/ids/ihamdaoui-21/ACDC/database/testing/patient134/patient134_frame15_gt.nii.gz has unexpected scales in sform\n",
      "\n",
      "WARNING: In /tmp/SimpleITK-build/ITK/Modules/IO/NIFTI/src/itkNiftiImageIO.cxx, line 1997\n",
      "NiftiImageIO (0xef86420): /home/ids/ihamdaoui-21/ACDC/database/testing/patient134/patient134_frame15_gt.nii.gz has unexpected scales in sform\n",
      "\n",
      "WARNING: In /tmp/SimpleITK-build/ITK/Modules/IO/NIFTI/src/itkNiftiImageIO.cxx, line 1997\n",
      "NiftiImageIO (0x8d70090): /home/ids/ihamdaoui-21/ACDC/database/testing/patient149/patient149_frame01_gt.nii.gz has unexpected scales in sform\n",
      "\n",
      "WARNING: In /tmp/SimpleITK-build/ITK/Modules/IO/NIFTI/src/itkNiftiImageIO.cxx, line 1997\n",
      "NiftiImageIO (0x8d70090): /home/ids/ihamdaoui-21/ACDC/database/testing/patient149/patient149_frame01_gt.nii.gz has unexpected scales in sform\n",
      "\n",
      "WARNING: In /tmp/SimpleITK-build/ITK/Modules/IO/NIFTI/src/itkNiftiImageIO.cxx, line 1997\n",
      "NiftiImageIO (0xef86420): /home/ids/ihamdaoui-21/ACDC/database/testing/patient149/patient149_frame12_gt.nii.gz has unexpected scales in sform\n",
      "\n",
      "WARNING: In /tmp/SimpleITK-build/ITK/Modules/IO/NIFTI/src/itkNiftiImageIO.cxx, line 1997\n",
      "NiftiImageIO (0xef86420): /home/ids/ihamdaoui-21/ACDC/database/testing/patient149/patient149_frame12_gt.nii.gz has unexpected scales in sform\n",
      "\n",
      "WARNING: In /tmp/SimpleITK-build/ITK/Modules/IO/NIFTI/src/itkNiftiImageIO.cxx, line 1997\n",
      "NiftiImageIO (0x8d70090): /home/ids/ihamdaoui-21/ACDC/database/testing/patient106/patient106_frame01_gt.nii.gz has unexpected scales in sform\n",
      "\n",
      "WARNING: In /tmp/SimpleITK-build/ITK/Modules/IO/NIFTI/src/itkNiftiImageIO.cxx, line 1997\n",
      "NiftiImageIO (0x8d70090): /home/ids/ihamdaoui-21/ACDC/database/testing/patient106/patient106_frame01_gt.nii.gz has unexpected scales in sform\n",
      "\n",
      "WARNING: In /tmp/SimpleITK-build/ITK/Modules/IO/NIFTI/src/itkNiftiImageIO.cxx, line 1997\n",
      "NiftiImageIO (0xef86420): /home/ids/ihamdaoui-21/ACDC/database/testing/patient106/patient106_frame13_gt.nii.gz has unexpected scales in sform\n",
      "\n",
      "WARNING: In /tmp/SimpleITK-build/ITK/Modules/IO/NIFTI/src/itkNiftiImageIO.cxx, line 1997\n",
      "NiftiImageIO (0xef86420): /home/ids/ihamdaoui-21/ACDC/database/testing/patient106/patient106_frame13_gt.nii.gz has unexpected scales in sform\n",
      "\n",
      "WARNING: In /tmp/SimpleITK-build/ITK/Modules/IO/NIFTI/src/itkNiftiImageIO.cxx, line 1997\n",
      "NiftiImageIO (0x8d70090): /home/ids/ihamdaoui-21/ACDC/database/testing/patient150/patient150_frame01_gt.nii.gz has unexpected scales in sform\n",
      "\n",
      "WARNING: In /tmp/SimpleITK-build/ITK/Modules/IO/NIFTI/src/itkNiftiImageIO.cxx, line 1997\n",
      "NiftiImageIO (0x8d70090): /home/ids/ihamdaoui-21/ACDC/database/testing/patient150/patient150_frame01_gt.nii.gz has unexpected scales in sform\n",
      "\n",
      "WARNING: In /tmp/SimpleITK-build/ITK/Modules/IO/NIFTI/src/itkNiftiImageIO.cxx, line 1997\n",
      "NiftiImageIO (0xef86420): /home/ids/ihamdaoui-21/ACDC/database/testing/patient150/patient150_frame12_gt.nii.gz has unexpected scales in sform\n",
      "\n",
      "WARNING: In /tmp/SimpleITK-build/ITK/Modules/IO/NIFTI/src/itkNiftiImageIO.cxx, line 1997\n",
      "NiftiImageIO (0xef86420): /home/ids/ihamdaoui-21/ACDC/database/testing/patient150/patient150_frame12_gt.nii.gz has unexpected scales in sform\n",
      "\n",
      "WARNING: In /tmp/SimpleITK-build/ITK/Modules/IO/NIFTI/src/itkNiftiImageIO.cxx, line 1997\n",
      "NiftiImageIO (0x8d70090): /home/ids/ihamdaoui-21/ACDC/database/testing/patient127/patient127_frame01_gt.nii.gz has unexpected scales in sform\n",
      "\n",
      "WARNING: In /tmp/SimpleITK-build/ITK/Modules/IO/NIFTI/src/itkNiftiImageIO.cxx, line 1997\n",
      "NiftiImageIO (0x8d70090): /home/ids/ihamdaoui-21/ACDC/database/testing/patient127/patient127_frame01_gt.nii.gz has unexpected scales in sform\n",
      "\n",
      "WARNING: In /tmp/SimpleITK-build/ITK/Modules/IO/NIFTI/src/itkNiftiImageIO.cxx, line 1997\n",
      "NiftiImageIO (0xef86420): /home/ids/ihamdaoui-21/ACDC/database/testing/patient127/patient127_frame07_gt.nii.gz has unexpected scales in sform\n",
      "\n",
      "WARNING: In /tmp/SimpleITK-build/ITK/Modules/IO/NIFTI/src/itkNiftiImageIO.cxx, line 1997\n",
      "NiftiImageIO (0xef86420): /home/ids/ihamdaoui-21/ACDC/database/testing/patient127/patient127_frame07_gt.nii.gz has unexpected scales in sform\n",
      "\n",
      "WARNING: In /tmp/SimpleITK-build/ITK/Modules/IO/NIFTI/src/itkNiftiImageIO.cxx, line 1997\n",
      "NiftiImageIO (0x8d70090): /home/ids/ihamdaoui-21/ACDC/database/testing/patient115/patient115_frame01_gt.nii.gz has unexpected scales in sform\n",
      "\n",
      "WARNING: In /tmp/SimpleITK-build/ITK/Modules/IO/NIFTI/src/itkNiftiImageIO.cxx, line 1997\n",
      "NiftiImageIO (0x8d70090): /home/ids/ihamdaoui-21/ACDC/database/testing/patient115/patient115_frame01_gt.nii.gz has unexpected scales in sform\n",
      "\n",
      "WARNING: In /tmp/SimpleITK-build/ITK/Modules/IO/NIFTI/src/itkNiftiImageIO.cxx, line 1997\n",
      "NiftiImageIO (0xef86420): /home/ids/ihamdaoui-21/ACDC/database/testing/patient115/patient115_frame13_gt.nii.gz has unexpected scales in sform\n",
      "\n",
      "WARNING: In /tmp/SimpleITK-build/ITK/Modules/IO/NIFTI/src/itkNiftiImageIO.cxx, line 1997\n",
      "NiftiImageIO (0xef86420): /home/ids/ihamdaoui-21/ACDC/database/testing/patient115/patient115_frame13_gt.nii.gz has unexpected scales in sform\n",
      "\n",
      "WARNING: In /tmp/SimpleITK-build/ITK/Modules/IO/NIFTI/src/itkNiftiImageIO.cxx, line 1997\n",
      "NiftiImageIO (0x8d70090): /home/ids/ihamdaoui-21/ACDC/database/testing/patient118/patient118_frame01_gt.nii.gz has unexpected scales in sform\n",
      "\n",
      "WARNING: In /tmp/SimpleITK-build/ITK/Modules/IO/NIFTI/src/itkNiftiImageIO.cxx, line 1997\n",
      "NiftiImageIO (0x8d70090): /home/ids/ihamdaoui-21/ACDC/database/testing/patient118/patient118_frame01_gt.nii.gz has unexpected scales in sform\n",
      "\n",
      "WARNING: In /tmp/SimpleITK-build/ITK/Modules/IO/NIFTI/src/itkNiftiImageIO.cxx, line 1997\n",
      "NiftiImageIO (0xef86420): /home/ids/ihamdaoui-21/ACDC/database/testing/patient118/patient118_frame10_gt.nii.gz has unexpected scales in sform\n",
      "\n",
      "WARNING: In /tmp/SimpleITK-build/ITK/Modules/IO/NIFTI/src/itkNiftiImageIO.cxx, line 1997\n",
      "NiftiImageIO (0xef86420): /home/ids/ihamdaoui-21/ACDC/database/testing/patient118/patient118_frame10_gt.nii.gz has unexpected scales in sform\n",
      "\n",
      "WARNING: In /tmp/SimpleITK-build/ITK/Modules/IO/NIFTI/src/itkNiftiImageIO.cxx, line 1997\n",
      "NiftiImageIO (0x8d70090): /home/ids/ihamdaoui-21/ACDC/database/testing/patient112/patient112_frame01_gt.nii.gz has unexpected scales in sform\n",
      "\n",
      "WARNING: In /tmp/SimpleITK-build/ITK/Modules/IO/NIFTI/src/itkNiftiImageIO.cxx, line 1997\n",
      "NiftiImageIO (0x8d70090): /home/ids/ihamdaoui-21/ACDC/database/testing/patient112/patient112_frame01_gt.nii.gz has unexpected scales in sform\n",
      "\n",
      "WARNING: In /tmp/SimpleITK-build/ITK/Modules/IO/NIFTI/src/itkNiftiImageIO.cxx, line 1997\n",
      "NiftiImageIO (0xef86420): /home/ids/ihamdaoui-21/ACDC/database/testing/patient112/patient112_frame12_gt.nii.gz has unexpected scales in sform\n",
      "\n",
      "WARNING: In /tmp/SimpleITK-build/ITK/Modules/IO/NIFTI/src/itkNiftiImageIO.cxx, line 1997\n",
      "NiftiImageIO (0xef86420): /home/ids/ihamdaoui-21/ACDC/database/testing/patient112/patient112_frame12_gt.nii.gz has unexpected scales in sform\n",
      "\n",
      "WARNING: In /tmp/SimpleITK-build/ITK/Modules/IO/NIFTI/src/itkNiftiImageIO.cxx, line 1997\n",
      "NiftiImageIO (0x8d70090): /home/ids/ihamdaoui-21/ACDC/database/testing/patient120/patient120_frame01_gt.nii.gz has unexpected scales in sform\n",
      "\n",
      "WARNING: In /tmp/SimpleITK-build/ITK/Modules/IO/NIFTI/src/itkNiftiImageIO.cxx, line 1997\n",
      "NiftiImageIO (0x8d70090): /home/ids/ihamdaoui-21/ACDC/database/testing/patient120/patient120_frame01_gt.nii.gz has unexpected scales in sform\n",
      "\n",
      "WARNING: In /tmp/SimpleITK-build/ITK/Modules/IO/NIFTI/src/itkNiftiImageIO.cxx, line 1997\n",
      "NiftiImageIO (0xef86420): /home/ids/ihamdaoui-21/ACDC/database/testing/patient120/patient120_frame08_gt.nii.gz has unexpected scales in sform\n",
      "\n",
      "WARNING: In /tmp/SimpleITK-build/ITK/Modules/IO/NIFTI/src/itkNiftiImageIO.cxx, line 1997\n",
      "NiftiImageIO (0xef86420): /home/ids/ihamdaoui-21/ACDC/database/testing/patient120/patient120_frame08_gt.nii.gz has unexpected scales in sform\n",
      "\n",
      "WARNING: In /tmp/SimpleITK-build/ITK/Modules/IO/NIFTI/src/itkNiftiImageIO.cxx, line 1997\n",
      "NiftiImageIO (0x8d70090): /home/ids/ihamdaoui-21/ACDC/database/testing/patient101/patient101_frame01_gt.nii.gz has unexpected scales in sform\n",
      "\n",
      "WARNING: In /tmp/SimpleITK-build/ITK/Modules/IO/NIFTI/src/itkNiftiImageIO.cxx, line 1997\n",
      "NiftiImageIO (0x8d70090): /home/ids/ihamdaoui-21/ACDC/database/testing/patient101/patient101_frame01_gt.nii.gz has unexpected scales in sform\n",
      "\n",
      "WARNING: In /tmp/SimpleITK-build/ITK/Modules/IO/NIFTI/src/itkNiftiImageIO.cxx, line 1997\n",
      "NiftiImageIO (0xef86420): /home/ids/ihamdaoui-21/ACDC/database/testing/patient101/patient101_frame14_gt.nii.gz has unexpected scales in sform\n",
      "\n",
      "WARNING: In /tmp/SimpleITK-build/ITK/Modules/IO/NIFTI/src/itkNiftiImageIO.cxx, line 1997\n",
      "NiftiImageIO (0xef86420): /home/ids/ihamdaoui-21/ACDC/database/testing/patient101/patient101_frame14_gt.nii.gz has unexpected scales in sform\n",
      "\n",
      "WARNING: In /tmp/SimpleITK-build/ITK/Modules/IO/NIFTI/src/itkNiftiImageIO.cxx, line 1997\n",
      "NiftiImageIO (0x8d70090): /home/ids/ihamdaoui-21/ACDC/database/testing/patient133/patient133_frame01_gt.nii.gz has unexpected scales in sform\n",
      "\n",
      "WARNING: In /tmp/SimpleITK-build/ITK/Modules/IO/NIFTI/src/itkNiftiImageIO.cxx, line 1997\n",
      "NiftiImageIO (0x8d70090): /home/ids/ihamdaoui-21/ACDC/database/testing/patient133/patient133_frame01_gt.nii.gz has unexpected scales in sform\n",
      "\n",
      "WARNING: In /tmp/SimpleITK-build/ITK/Modules/IO/NIFTI/src/itkNiftiImageIO.cxx, line 1997\n",
      "NiftiImageIO (0xef86420): /home/ids/ihamdaoui-21/ACDC/database/testing/patient133/patient133_frame10_gt.nii.gz has unexpected scales in sform\n",
      "\n",
      "WARNING: In /tmp/SimpleITK-build/ITK/Modules/IO/NIFTI/src/itkNiftiImageIO.cxx, line 1997\n",
      "NiftiImageIO (0xef86420): /home/ids/ihamdaoui-21/ACDC/database/testing/patient133/patient133_frame10_gt.nii.gz has unexpected scales in sform\n",
      "\n",
      "WARNING: In /tmp/SimpleITK-build/ITK/Modules/IO/NIFTI/src/itkNiftiImageIO.cxx, line 1997\n",
      "NiftiImageIO (0x8d70090): /home/ids/ihamdaoui-21/ACDC/database/testing/patient144/patient144_frame01_gt.nii.gz has unexpected scales in sform\n",
      "\n",
      "WARNING: In /tmp/SimpleITK-build/ITK/Modules/IO/NIFTI/src/itkNiftiImageIO.cxx, line 1997\n",
      "NiftiImageIO (0x8d70090): /home/ids/ihamdaoui-21/ACDC/database/testing/patient144/patient144_frame01_gt.nii.gz has unexpected scales in sform\n",
      "\n",
      "WARNING: In /tmp/SimpleITK-build/ITK/Modules/IO/NIFTI/src/itkNiftiImageIO.cxx, line 1997\n",
      "NiftiImageIO (0xef86420): /home/ids/ihamdaoui-21/ACDC/database/testing/patient144/patient144_frame09_gt.nii.gz has unexpected scales in sform\n",
      "\n",
      "WARNING: In /tmp/SimpleITK-build/ITK/Modules/IO/NIFTI/src/itkNiftiImageIO.cxx, line 1997\n",
      "NiftiImageIO (0xef86420): /home/ids/ihamdaoui-21/ACDC/database/testing/patient144/patient144_frame09_gt.nii.gz has unexpected scales in sform\n",
      "\n",
      "WARNING: In /tmp/SimpleITK-build/ITK/Modules/IO/NIFTI/src/itkNiftiImageIO.cxx, line 1997\n",
      "NiftiImageIO (0x8d70090): /home/ids/ihamdaoui-21/ACDC/database/testing/patient139/patient139_frame01_gt.nii.gz has unexpected scales in sform\n",
      "\n",
      "WARNING: In /tmp/SimpleITK-build/ITK/Modules/IO/NIFTI/src/itkNiftiImageIO.cxx, line 1997\n",
      "NiftiImageIO (0x8d70090): /home/ids/ihamdaoui-21/ACDC/database/testing/patient139/patient139_frame01_gt.nii.gz has unexpected scales in sform\n",
      "\n",
      "WARNING: In /tmp/SimpleITK-build/ITK/Modules/IO/NIFTI/src/itkNiftiImageIO.cxx, line 1997\n",
      "NiftiImageIO (0xef86420): /home/ids/ihamdaoui-21/ACDC/database/testing/patient139/patient139_frame08_gt.nii.gz has unexpected scales in sform\n",
      "\n",
      "WARNING: In /tmp/SimpleITK-build/ITK/Modules/IO/NIFTI/src/itkNiftiImageIO.cxx, line 1997\n",
      "NiftiImageIO (0xef86420): /home/ids/ihamdaoui-21/ACDC/database/testing/patient139/patient139_frame08_gt.nii.gz has unexpected scales in sform\n",
      "\n"
     ]
    }
   ],
   "source": [
    "train_dataset = load_dataset(train_set_path)\n",
    "test_dataset  = load_dataset(test_set_path)\n",
    "\n",
    "\n",
    "input_transforms = Compose([\n",
    "    transforms.Resize(size=(L,L), interpolation=transforms.InterpolationMode.NEAREST),\n",
    "    One_hot_Transform(num_classes=4)\n",
    "    ])\n",
    "\n",
    "\n",
    "TrainDataset = ACDC_Dataset(data = train_dataset, transforms= input_transforms) \n",
    "TestDataset  = ACDC_Dataset(data = test_dataset, transforms= input_transforms)\n",
    "\n",
    "TrainLoader  = DataLoader(TrainDataset, batch_size = BATCH_SIZE, shuffle = True)\n",
    "TestLoader   = DataLoader(TestDataset , batch_size = BATCH_SIZE, shuffle = True)"
   ]
  },
  {
   "cell_type": "markdown",
   "metadata": {},
   "source": [
    "## Prepairing the model"
   ]
  },
  {
   "cell_type": "code",
   "execution_count": 6,
   "metadata": {},
   "outputs": [],
   "source": [
    "K =  512 # num_embeddings\n",
    "D =  64 # embedding_dim\n",
    "in_channels = 4 "
   ]
  },
  {
   "cell_type": "code",
   "execution_count": 7,
   "metadata": {},
   "outputs": [],
   "source": [
    "ACDC_VQVAE = VQVAE(in_channels, D, K)\n",
    "\n",
    "input = torch.rand(16, 4, 128, 128)"
   ]
  },
  {
   "cell_type": "code",
   "execution_count": 8,
   "metadata": {},
   "outputs": [],
   "source": [
    "y = ACDC_VQVAE(input)\n",
    "z_e = ACDC_VQVAE.encode(input)[0]\n",
    "z_q, _ , _= ACDC_VQVAE.vq_layer(z_e)\n",
    "codeBook = ACDC_VQVAE.vq_layer.embedding"
   ]
  },
  {
   "cell_type": "markdown",
   "metadata": {},
   "source": [
    "## Training the Model"
   ]
  },
  {
   "cell_type": "code",
   "execution_count": 9,
   "metadata": {},
   "outputs": [
    {
     "name": "stdout",
     "output_type": "stream",
     "text": [
      "True\n",
      "cuda:0\n"
     ]
    }
   ],
   "source": [
    "# detect gpu ?\n",
    "\n",
    "print(torch.cuda.is_available())\n",
    "\n",
    "device = torch.device(\"cuda:0\" if torch.cuda.is_available() else \"cpu\")\n",
    "print(device)"
   ]
  },
  {
   "cell_type": "code",
   "execution_count": 10,
   "metadata": {},
   "outputs": [],
   "source": [
    "### Learning parameters\n",
    "\n",
    "model = ACDC_VQVAE.to(device)\n",
    "\n",
    "lr = 1e-3\n",
    "epochs = 100\n",
    "optimizer = optim.AdamW(model.parameters(), lr=lr, weight_decay=1e-4)\n",
    "\n",
    "model_name = 'saved_models/vqvae_106_bestmodel.pth'\n"
   ]
  },
  {
   "cell_type": "code",
   "execution_count": 11,
   "metadata": {},
   "outputs": [],
   "source": [
    "# visualisation batch, to track th eperformance of the model\n",
    "vis_batch = next(iter(TestLoader)).to(device)"
   ]
  },
  {
   "cell_type": "code",
   "execution_count": 12,
   "metadata": {},
   "outputs": [
    {
     "name": "stderr",
     "output_type": "stream",
     "text": [
      "  0%|          | 0/119 [00:00<?, ?batch/s]"
     ]
    },
    {
     "name": "stderr",
     "output_type": "stream",
     "text": [
      "100%|██████████| 119/119 [00:08<00:00, 13.55batch/s, loss=0.894]\n"
     ]
    },
    {
     "name": "stdout",
     "output_type": "stream",
     "text": [
      "Epoch 0: Train Loss: 3.1852\n"
     ]
    },
    {
     "name": "stderr",
     "output_type": "stream",
     "text": [
      "100%|██████████| 119/119 [00:07<00:00, 14.98batch/s, loss=0.836]\n"
     ]
    },
    {
     "name": "stdout",
     "output_type": "stream",
     "text": [
      "Epoch 1: Train Loss: 0.8110\n"
     ]
    },
    {
     "name": "stderr",
     "output_type": "stream",
     "text": [
      "100%|██████████| 119/119 [00:07<00:00, 15.54batch/s, loss=0.743]\n"
     ]
    },
    {
     "name": "stdout",
     "output_type": "stream",
     "text": [
      "Epoch 2: Train Loss: 0.8109\n"
     ]
    },
    {
     "name": "stderr",
     "output_type": "stream",
     "text": [
      "100%|██████████| 119/119 [00:07<00:00, 15.12batch/s, loss=0.817]\n"
     ]
    },
    {
     "name": "stdout",
     "output_type": "stream",
     "text": [
      "Epoch 3: Train Loss: 0.8110\n"
     ]
    },
    {
     "name": "stderr",
     "output_type": "stream",
     "text": [
      "100%|██████████| 119/119 [00:08<00:00, 14.78batch/s, loss=0.881]\n"
     ]
    },
    {
     "name": "stdout",
     "output_type": "stream",
     "text": [
      "Epoch 4: Train Loss: 0.8110\n"
     ]
    },
    {
     "name": "stderr",
     "output_type": "stream",
     "text": [
      "100%|██████████| 119/119 [00:07<00:00, 16.00batch/s, loss=0.654]\n"
     ]
    },
    {
     "name": "stdout",
     "output_type": "stream",
     "text": [
      "Epoch 5: Train Loss: 0.8108\n"
     ]
    },
    {
     "name": "stderr",
     "output_type": "stream",
     "text": [
      "100%|██████████| 119/119 [00:07<00:00, 15.41batch/s, loss=0.82] \n"
     ]
    },
    {
     "name": "stdout",
     "output_type": "stream",
     "text": [
      "Epoch 6: Train Loss: 0.8110\n"
     ]
    },
    {
     "name": "stderr",
     "output_type": "stream",
     "text": [
      "100%|██████████| 119/119 [00:07<00:00, 15.42batch/s, loss=0.9]  \n"
     ]
    },
    {
     "name": "stdout",
     "output_type": "stream",
     "text": [
      "Epoch 7: Train Loss: 0.8111\n"
     ]
    },
    {
     "name": "stderr",
     "output_type": "stream",
     "text": [
      "100%|██████████| 119/119 [00:07<00:00, 15.38batch/s, loss=0.736]\n"
     ]
    },
    {
     "name": "stdout",
     "output_type": "stream",
     "text": [
      "Epoch 8: Train Loss: 0.8109\n"
     ]
    },
    {
     "name": "stderr",
     "output_type": "stream",
     "text": [
      "100%|██████████| 119/119 [00:07<00:00, 15.39batch/s, loss=0.688]\n"
     ]
    },
    {
     "name": "stdout",
     "output_type": "stream",
     "text": [
      "Epoch 9: Train Loss: 0.8108\n"
     ]
    },
    {
     "name": "stderr",
     "output_type": "stream",
     "text": [
      "100%|██████████| 119/119 [00:07<00:00, 15.25batch/s, loss=0.816]\n"
     ]
    },
    {
     "name": "stdout",
     "output_type": "stream",
     "text": [
      "Epoch 10: Train Loss: 0.8110\n"
     ]
    },
    {
     "name": "stderr",
     "output_type": "stream",
     "text": [
      "100%|██████████| 119/119 [00:07<00:00, 15.59batch/s, loss=0.707]\n"
     ]
    },
    {
     "name": "stdout",
     "output_type": "stream",
     "text": [
      "Epoch 11: Train Loss: 0.8108\n"
     ]
    },
    {
     "name": "stderr",
     "output_type": "stream",
     "text": [
      "100%|██████████| 119/119 [00:07<00:00, 15.43batch/s, loss=0.78] \n"
     ]
    },
    {
     "name": "stdout",
     "output_type": "stream",
     "text": [
      "Epoch 12: Train Loss: 0.8109\n"
     ]
    },
    {
     "name": "stderr",
     "output_type": "stream",
     "text": [
      "100%|██████████| 119/119 [00:07<00:00, 16.10batch/s, loss=0.891]\n"
     ]
    },
    {
     "name": "stdout",
     "output_type": "stream",
     "text": [
      "Epoch 13: Train Loss: 0.8110\n"
     ]
    },
    {
     "name": "stderr",
     "output_type": "stream",
     "text": [
      "100%|██████████| 119/119 [00:07<00:00, 15.66batch/s, loss=0.805]\n"
     ]
    },
    {
     "name": "stdout",
     "output_type": "stream",
     "text": [
      "Epoch 14: Train Loss: 0.8110\n"
     ]
    },
    {
     "name": "stderr",
     "output_type": "stream",
     "text": [
      "100%|██████████| 119/119 [00:07<00:00, 15.62batch/s, loss=0.921]\n"
     ]
    },
    {
     "name": "stdout",
     "output_type": "stream",
     "text": [
      "Epoch 15: Train Loss: 0.8111\n"
     ]
    },
    {
     "name": "stderr",
     "output_type": "stream",
     "text": [
      "100%|██████████| 119/119 [00:07<00:00, 15.64batch/s, loss=0.851]\n"
     ]
    },
    {
     "name": "stdout",
     "output_type": "stream",
     "text": [
      "Epoch 16: Train Loss: 0.8110\n"
     ]
    },
    {
     "name": "stderr",
     "output_type": "stream",
     "text": [
      "100%|██████████| 119/119 [00:07<00:00, 15.93batch/s, loss=0.758]\n"
     ]
    },
    {
     "name": "stdout",
     "output_type": "stream",
     "text": [
      "Epoch 17: Train Loss: 0.8109\n"
     ]
    },
    {
     "name": "stderr",
     "output_type": "stream",
     "text": [
      "100%|██████████| 119/119 [00:07<00:00, 15.81batch/s, loss=0.783]\n"
     ]
    },
    {
     "name": "stdout",
     "output_type": "stream",
     "text": [
      "Epoch 18: Train Loss: 0.8109\n"
     ]
    },
    {
     "name": "stderr",
     "output_type": "stream",
     "text": [
      "100%|██████████| 119/119 [00:07<00:00, 15.73batch/s, loss=0.77] \n"
     ]
    },
    {
     "name": "stdout",
     "output_type": "stream",
     "text": [
      "Epoch 19: Train Loss: 0.8109\n"
     ]
    },
    {
     "name": "stderr",
     "output_type": "stream",
     "text": [
      "100%|██████████| 119/119 [00:07<00:00, 15.57batch/s, loss=0.783]\n"
     ]
    },
    {
     "name": "stdout",
     "output_type": "stream",
     "text": [
      "Epoch 20: Train Loss: 0.8109\n"
     ]
    },
    {
     "name": "stderr",
     "output_type": "stream",
     "text": [
      "100%|██████████| 119/119 [00:07<00:00, 15.67batch/s, loss=0.691]\n"
     ]
    },
    {
     "name": "stdout",
     "output_type": "stream",
     "text": [
      "Epoch 21: Train Loss: 0.8108\n"
     ]
    },
    {
     "name": "stderr",
     "output_type": "stream",
     "text": [
      "100%|██████████| 119/119 [00:07<00:00, 15.79batch/s, loss=0.793]\n"
     ]
    },
    {
     "name": "stdout",
     "output_type": "stream",
     "text": [
      "Epoch 22: Train Loss: 0.8109\n"
     ]
    },
    {
     "name": "stderr",
     "output_type": "stream",
     "text": [
      "100%|██████████| 119/119 [00:06<00:00, 18.12batch/s, loss=0.802]\n"
     ]
    },
    {
     "name": "stdout",
     "output_type": "stream",
     "text": [
      "Epoch 23: Train Loss: 0.8109\n"
     ]
    },
    {
     "name": "stderr",
     "output_type": "stream",
     "text": [
      "100%|██████████| 119/119 [00:05<00:00, 20.50batch/s, loss=0.821]\n"
     ]
    },
    {
     "name": "stdout",
     "output_type": "stream",
     "text": [
      "Epoch 24: Train Loss: 0.8110\n"
     ]
    },
    {
     "name": "stderr",
     "output_type": "stream",
     "text": [
      "100%|██████████| 119/119 [00:05<00:00, 20.16batch/s, loss=0.679]\n"
     ]
    },
    {
     "name": "stdout",
     "output_type": "stream",
     "text": [
      "Epoch 25: Train Loss: 0.8108\n"
     ]
    },
    {
     "name": "stderr",
     "output_type": "stream",
     "text": [
      "100%|██████████| 119/119 [00:05<00:00, 20.44batch/s, loss=0.912]\n"
     ]
    },
    {
     "name": "stdout",
     "output_type": "stream",
     "text": [
      "Epoch 26: Train Loss: 0.8111\n"
     ]
    },
    {
     "name": "stderr",
     "output_type": "stream",
     "text": [
      "100%|██████████| 119/119 [00:05<00:00, 20.58batch/s, loss=0.768]\n"
     ]
    },
    {
     "name": "stdout",
     "output_type": "stream",
     "text": [
      "Epoch 27: Train Loss: 0.8109\n"
     ]
    },
    {
     "name": "stderr",
     "output_type": "stream",
     "text": [
      "100%|██████████| 119/119 [00:05<00:00, 20.02batch/s, loss=0.818]\n"
     ]
    },
    {
     "name": "stdout",
     "output_type": "stream",
     "text": [
      "Epoch 28: Train Loss: 0.8110\n"
     ]
    },
    {
     "name": "stderr",
     "output_type": "stream",
     "text": [
      "100%|██████████| 119/119 [00:05<00:00, 20.51batch/s, loss=0.861]\n"
     ]
    },
    {
     "name": "stdout",
     "output_type": "stream",
     "text": [
      "Epoch 29: Train Loss: 0.8110\n"
     ]
    },
    {
     "name": "stderr",
     "output_type": "stream",
     "text": [
      "100%|██████████| 119/119 [00:05<00:00, 20.45batch/s, loss=0.854]\n"
     ]
    },
    {
     "name": "stdout",
     "output_type": "stream",
     "text": [
      "Epoch 30: Train Loss: 0.8110\n"
     ]
    },
    {
     "name": "stderr",
     "output_type": "stream",
     "text": [
      "100%|██████████| 119/119 [00:05<00:00, 20.49batch/s, loss=0.82] \n"
     ]
    },
    {
     "name": "stdout",
     "output_type": "stream",
     "text": [
      "Epoch 31: Train Loss: 0.8110\n"
     ]
    },
    {
     "name": "stderr",
     "output_type": "stream",
     "text": [
      "100%|██████████| 119/119 [00:05<00:00, 20.29batch/s, loss=0.83] \n"
     ]
    },
    {
     "name": "stdout",
     "output_type": "stream",
     "text": [
      "Epoch 32: Train Loss: 0.8110\n"
     ]
    },
    {
     "name": "stderr",
     "output_type": "stream",
     "text": [
      "100%|██████████| 119/119 [00:05<00:00, 20.01batch/s, loss=0.757]\n"
     ]
    },
    {
     "name": "stdout",
     "output_type": "stream",
     "text": [
      "Epoch 33: Train Loss: 0.8109\n"
     ]
    },
    {
     "name": "stderr",
     "output_type": "stream",
     "text": [
      "100%|██████████| 119/119 [00:05<00:00, 20.19batch/s, loss=0.924]\n"
     ]
    },
    {
     "name": "stdout",
     "output_type": "stream",
     "text": [
      "Epoch 34: Train Loss: 0.8111\n"
     ]
    },
    {
     "name": "stderr",
     "output_type": "stream",
     "text": [
      "100%|██████████| 119/119 [00:05<00:00, 20.48batch/s, loss=0.849]\n"
     ]
    },
    {
     "name": "stdout",
     "output_type": "stream",
     "text": [
      "Epoch 35: Train Loss: 0.8110\n"
     ]
    },
    {
     "name": "stderr",
     "output_type": "stream",
     "text": [
      "100%|██████████| 119/119 [00:05<00:00, 20.20batch/s, loss=0.851]\n"
     ]
    },
    {
     "name": "stdout",
     "output_type": "stream",
     "text": [
      "Epoch 36: Train Loss: 0.8110\n"
     ]
    },
    {
     "name": "stderr",
     "output_type": "stream",
     "text": [
      "100%|██████████| 119/119 [00:05<00:00, 20.20batch/s, loss=0.791]\n"
     ]
    },
    {
     "name": "stdout",
     "output_type": "stream",
     "text": [
      "Epoch 37: Train Loss: 0.8109\n"
     ]
    },
    {
     "name": "stderr",
     "output_type": "stream",
     "text": [
      "100%|██████████| 119/119 [00:05<00:00, 20.46batch/s, loss=0.824]\n"
     ]
    },
    {
     "name": "stdout",
     "output_type": "stream",
     "text": [
      "Epoch 38: Train Loss: 0.8110\n"
     ]
    },
    {
     "name": "stderr",
     "output_type": "stream",
     "text": [
      "100%|██████████| 119/119 [00:05<00:00, 20.45batch/s, loss=0.781]\n"
     ]
    },
    {
     "name": "stdout",
     "output_type": "stream",
     "text": [
      "Epoch 39: Train Loss: 0.8109\n"
     ]
    },
    {
     "name": "stderr",
     "output_type": "stream",
     "text": [
      "100%|██████████| 119/119 [00:05<00:00, 19.88batch/s, loss=0.665]\n"
     ]
    },
    {
     "name": "stdout",
     "output_type": "stream",
     "text": [
      "Epoch 40: Train Loss: 0.8108\n"
     ]
    },
    {
     "name": "stderr",
     "output_type": "stream",
     "text": [
      "100%|██████████| 119/119 [00:05<00:00, 20.43batch/s, loss=0.803]\n"
     ]
    },
    {
     "name": "stdout",
     "output_type": "stream",
     "text": [
      "Epoch 41: Train Loss: 0.8109\n"
     ]
    },
    {
     "name": "stderr",
     "output_type": "stream",
     "text": [
      "100%|██████████| 119/119 [00:05<00:00, 20.13batch/s, loss=0.812]\n"
     ]
    },
    {
     "name": "stdout",
     "output_type": "stream",
     "text": [
      "Epoch 42: Train Loss: 0.8110\n"
     ]
    },
    {
     "name": "stderr",
     "output_type": "stream",
     "text": [
      "100%|██████████| 119/119 [00:05<00:00, 19.85batch/s, loss=0.788]\n"
     ]
    },
    {
     "name": "stdout",
     "output_type": "stream",
     "text": [
      "Epoch 43: Train Loss: 0.8109\n"
     ]
    },
    {
     "name": "stderr",
     "output_type": "stream",
     "text": [
      "100%|██████████| 119/119 [00:05<00:00, 20.14batch/s, loss=0.844]\n"
     ]
    },
    {
     "name": "stdout",
     "output_type": "stream",
     "text": [
      "Epoch 44: Train Loss: 0.8110\n"
     ]
    },
    {
     "name": "stderr",
     "output_type": "stream",
     "text": [
      "100%|██████████| 119/119 [00:05<00:00, 20.19batch/s, loss=0.838]\n"
     ]
    },
    {
     "name": "stdout",
     "output_type": "stream",
     "text": [
      "Epoch 45: Train Loss: 0.8110\n"
     ]
    },
    {
     "name": "stderr",
     "output_type": "stream",
     "text": [
      "100%|██████████| 119/119 [00:05<00:00, 19.97batch/s, loss=0.813]\n"
     ]
    },
    {
     "name": "stdout",
     "output_type": "stream",
     "text": [
      "Epoch 46: Train Loss: 0.8110\n"
     ]
    },
    {
     "name": "stderr",
     "output_type": "stream",
     "text": [
      "100%|██████████| 119/119 [00:05<00:00, 20.04batch/s, loss=0.79] \n"
     ]
    },
    {
     "name": "stdout",
     "output_type": "stream",
     "text": [
      "Epoch 47: Train Loss: 0.8109\n"
     ]
    },
    {
     "name": "stderr",
     "output_type": "stream",
     "text": [
      "100%|██████████| 119/119 [00:05<00:00, 19.99batch/s, loss=0.867]\n"
     ]
    },
    {
     "name": "stdout",
     "output_type": "stream",
     "text": [
      "Epoch 48: Train Loss: 0.8110\n"
     ]
    },
    {
     "name": "stderr",
     "output_type": "stream",
     "text": [
      "100%|██████████| 119/119 [00:05<00:00, 20.43batch/s, loss=0.859]\n"
     ]
    },
    {
     "name": "stdout",
     "output_type": "stream",
     "text": [
      "Epoch 49: Train Loss: 0.8110\n"
     ]
    },
    {
     "name": "stderr",
     "output_type": "stream",
     "text": [
      "100%|██████████| 119/119 [00:05<00:00, 20.40batch/s, loss=0.824]\n"
     ]
    },
    {
     "name": "stdout",
     "output_type": "stream",
     "text": [
      "Epoch 50: Train Loss: 0.8110\n"
     ]
    },
    {
     "name": "stderr",
     "output_type": "stream",
     "text": [
      "100%|██████████| 119/119 [00:05<00:00, 20.13batch/s, loss=0.707]\n"
     ]
    },
    {
     "name": "stdout",
     "output_type": "stream",
     "text": [
      "Epoch 51: Train Loss: 0.8108\n"
     ]
    },
    {
     "name": "stderr",
     "output_type": "stream",
     "text": [
      "100%|██████████| 119/119 [00:05<00:00, 20.47batch/s, loss=0.869]\n"
     ]
    },
    {
     "name": "stdout",
     "output_type": "stream",
     "text": [
      "Epoch 52: Train Loss: 0.8110\n"
     ]
    },
    {
     "name": "stderr",
     "output_type": "stream",
     "text": [
      "100%|██████████| 119/119 [00:06<00:00, 19.69batch/s, loss=0.796]\n"
     ]
    },
    {
     "name": "stdout",
     "output_type": "stream",
     "text": [
      "Epoch 53: Train Loss: 0.8109\n"
     ]
    },
    {
     "name": "stderr",
     "output_type": "stream",
     "text": [
      "100%|██████████| 119/119 [00:05<00:00, 20.40batch/s, loss=0.761]\n"
     ]
    },
    {
     "name": "stdout",
     "output_type": "stream",
     "text": [
      "Epoch 54: Train Loss: 0.8109\n"
     ]
    },
    {
     "name": "stderr",
     "output_type": "stream",
     "text": [
      "100%|██████████| 119/119 [00:05<00:00, 20.77batch/s, loss=0.832]\n"
     ]
    },
    {
     "name": "stdout",
     "output_type": "stream",
     "text": [
      "Epoch 55: Train Loss: 0.8110\n"
     ]
    },
    {
     "name": "stderr",
     "output_type": "stream",
     "text": [
      "100%|██████████| 119/119 [00:05<00:00, 20.32batch/s, loss=0.779]\n"
     ]
    },
    {
     "name": "stdout",
     "output_type": "stream",
     "text": [
      "Epoch 56: Train Loss: 0.8109\n"
     ]
    },
    {
     "name": "stderr",
     "output_type": "stream",
     "text": [
      "100%|██████████| 119/119 [00:05<00:00, 20.30batch/s, loss=0.799]\n"
     ]
    },
    {
     "name": "stdout",
     "output_type": "stream",
     "text": [
      "Epoch 57: Train Loss: 0.8109\n"
     ]
    },
    {
     "name": "stderr",
     "output_type": "stream",
     "text": [
      "100%|██████████| 119/119 [00:05<00:00, 20.35batch/s, loss=0.808]\n"
     ]
    },
    {
     "name": "stdout",
     "output_type": "stream",
     "text": [
      "Epoch 58: Train Loss: 0.8110\n"
     ]
    },
    {
     "name": "stderr",
     "output_type": "stream",
     "text": [
      "100%|██████████| 119/119 [00:05<00:00, 20.60batch/s, loss=0.704]\n"
     ]
    },
    {
     "name": "stdout",
     "output_type": "stream",
     "text": [
      "Epoch 59: Train Loss: 0.8108\n"
     ]
    },
    {
     "name": "stderr",
     "output_type": "stream",
     "text": [
      "100%|██████████| 119/119 [00:05<00:00, 20.54batch/s, loss=0.822]\n"
     ]
    },
    {
     "name": "stdout",
     "output_type": "stream",
     "text": [
      "Epoch 60: Train Loss: 0.8110\n"
     ]
    },
    {
     "name": "stderr",
     "output_type": "stream",
     "text": [
      "100%|██████████| 119/119 [00:05<00:00, 19.96batch/s, loss=0.704]\n"
     ]
    },
    {
     "name": "stdout",
     "output_type": "stream",
     "text": [
      "Epoch 61: Train Loss: 0.8108\n"
     ]
    },
    {
     "name": "stderr",
     "output_type": "stream",
     "text": [
      "100%|██████████| 119/119 [00:05<00:00, 20.41batch/s, loss=0.769]\n"
     ]
    },
    {
     "name": "stdout",
     "output_type": "stream",
     "text": [
      "Epoch 62: Train Loss: 0.8109\n"
     ]
    },
    {
     "name": "stderr",
     "output_type": "stream",
     "text": [
      "100%|██████████| 119/119 [00:05<00:00, 20.50batch/s, loss=0.917]\n"
     ]
    },
    {
     "name": "stdout",
     "output_type": "stream",
     "text": [
      "Epoch 63: Train Loss: 0.8111\n"
     ]
    },
    {
     "name": "stderr",
     "output_type": "stream",
     "text": [
      "100%|██████████| 119/119 [00:05<00:00, 20.59batch/s, loss=0.807]\n"
     ]
    },
    {
     "name": "stdout",
     "output_type": "stream",
     "text": [
      "Epoch 64: Train Loss: 0.8110\n"
     ]
    },
    {
     "name": "stderr",
     "output_type": "stream",
     "text": [
      "100%|██████████| 119/119 [00:05<00:00, 20.58batch/s, loss=0.792]\n"
     ]
    },
    {
     "name": "stdout",
     "output_type": "stream",
     "text": [
      "Epoch 65: Train Loss: 0.8109\n"
     ]
    },
    {
     "name": "stderr",
     "output_type": "stream",
     "text": [
      "100%|██████████| 119/119 [00:05<00:00, 20.67batch/s, loss=0.927]\n"
     ]
    },
    {
     "name": "stdout",
     "output_type": "stream",
     "text": [
      "Epoch 66: Train Loss: 0.8111\n"
     ]
    },
    {
     "name": "stderr",
     "output_type": "stream",
     "text": [
      "100%|██████████| 119/119 [00:05<00:00, 20.47batch/s, loss=0.854]\n"
     ]
    },
    {
     "name": "stdout",
     "output_type": "stream",
     "text": [
      "Epoch 67: Train Loss: 0.8110\n"
     ]
    },
    {
     "name": "stderr",
     "output_type": "stream",
     "text": [
      "100%|██████████| 119/119 [00:05<00:00, 19.94batch/s, loss=0.833]\n"
     ]
    },
    {
     "name": "stdout",
     "output_type": "stream",
     "text": [
      "Epoch 68: Train Loss: 0.8110\n"
     ]
    },
    {
     "name": "stderr",
     "output_type": "stream",
     "text": [
      "100%|██████████| 119/119 [00:05<00:00, 20.16batch/s, loss=0.814]\n"
     ]
    },
    {
     "name": "stdout",
     "output_type": "stream",
     "text": [
      "Epoch 69: Train Loss: 0.8110\n"
     ]
    },
    {
     "name": "stderr",
     "output_type": "stream",
     "text": [
      "100%|██████████| 119/119 [00:05<00:00, 20.21batch/s, loss=0.844]\n"
     ]
    },
    {
     "name": "stdout",
     "output_type": "stream",
     "text": [
      "Epoch 70: Train Loss: 0.8110\n"
     ]
    },
    {
     "name": "stderr",
     "output_type": "stream",
     "text": [
      "100%|██████████| 119/119 [00:05<00:00, 20.65batch/s, loss=0.815]\n"
     ]
    },
    {
     "name": "stdout",
     "output_type": "stream",
     "text": [
      "Epoch 71: Train Loss: 0.8110\n"
     ]
    },
    {
     "name": "stderr",
     "output_type": "stream",
     "text": [
      "100%|██████████| 119/119 [00:05<00:00, 20.74batch/s, loss=0.833]\n"
     ]
    },
    {
     "name": "stdout",
     "output_type": "stream",
     "text": [
      "Epoch 72: Train Loss: 0.8110\n"
     ]
    },
    {
     "name": "stderr",
     "output_type": "stream",
     "text": [
      "100%|██████████| 119/119 [00:05<00:00, 20.15batch/s, loss=0.821]\n"
     ]
    },
    {
     "name": "stdout",
     "output_type": "stream",
     "text": [
      "Epoch 73: Train Loss: 0.8110\n"
     ]
    },
    {
     "name": "stderr",
     "output_type": "stream",
     "text": [
      "100%|██████████| 119/119 [00:05<00:00, 20.66batch/s, loss=0.762]\n"
     ]
    },
    {
     "name": "stdout",
     "output_type": "stream",
     "text": [
      "Epoch 74: Train Loss: 0.8109\n"
     ]
    },
    {
     "name": "stderr",
     "output_type": "stream",
     "text": [
      "100%|██████████| 119/119 [00:05<00:00, 20.72batch/s, loss=0.833]\n"
     ]
    },
    {
     "name": "stdout",
     "output_type": "stream",
     "text": [
      "Epoch 75: Train Loss: 0.8123\n"
     ]
    },
    {
     "name": "stderr",
     "output_type": "stream",
     "text": [
      "100%|██████████| 119/119 [00:05<00:00, 20.17batch/s, loss=0.831]\n"
     ]
    },
    {
     "name": "stdout",
     "output_type": "stream",
     "text": [
      "Epoch 76: Train Loss: 0.8110\n"
     ]
    },
    {
     "name": "stderr",
     "output_type": "stream",
     "text": [
      "100%|██████████| 119/119 [00:05<00:00, 20.42batch/s, loss=0.913]\n"
     ]
    },
    {
     "name": "stdout",
     "output_type": "stream",
     "text": [
      "Epoch 77: Train Loss: 0.8111\n"
     ]
    },
    {
     "name": "stderr",
     "output_type": "stream",
     "text": [
      "100%|██████████| 119/119 [00:05<00:00, 20.47batch/s, loss=0.82] \n"
     ]
    },
    {
     "name": "stdout",
     "output_type": "stream",
     "text": [
      "Epoch 78: Train Loss: 0.8110\n"
     ]
    },
    {
     "name": "stderr",
     "output_type": "stream",
     "text": [
      "100%|██████████| 119/119 [00:05<00:00, 20.46batch/s, loss=0.758]\n"
     ]
    },
    {
     "name": "stdout",
     "output_type": "stream",
     "text": [
      "Epoch 79: Train Loss: 0.8109\n"
     ]
    },
    {
     "name": "stderr",
     "output_type": "stream",
     "text": [
      "100%|██████████| 119/119 [00:05<00:00, 20.51batch/s, loss=0.82] \n"
     ]
    },
    {
     "name": "stdout",
     "output_type": "stream",
     "text": [
      "Epoch 80: Train Loss: 0.8110\n"
     ]
    },
    {
     "name": "stderr",
     "output_type": "stream",
     "text": [
      "100%|██████████| 119/119 [00:05<00:00, 20.02batch/s, loss=0.807]\n"
     ]
    },
    {
     "name": "stdout",
     "output_type": "stream",
     "text": [
      "Epoch 81: Train Loss: 0.8110\n"
     ]
    },
    {
     "name": "stderr",
     "output_type": "stream",
     "text": [
      "100%|██████████| 119/119 [00:05<00:00, 20.64batch/s, loss=0.822]\n"
     ]
    },
    {
     "name": "stdout",
     "output_type": "stream",
     "text": [
      "Epoch 82: Train Loss: 0.8110\n"
     ]
    },
    {
     "name": "stderr",
     "output_type": "stream",
     "text": [
      "100%|██████████| 119/119 [00:05<00:00, 20.42batch/s, loss=0.773]\n"
     ]
    },
    {
     "name": "stdout",
     "output_type": "stream",
     "text": [
      "Epoch 83: Train Loss: 0.8109\n"
     ]
    },
    {
     "name": "stderr",
     "output_type": "stream",
     "text": [
      "100%|██████████| 119/119 [00:05<00:00, 20.34batch/s, loss=0.814]\n"
     ]
    },
    {
     "name": "stdout",
     "output_type": "stream",
     "text": [
      "Epoch 84: Train Loss: 0.8110\n"
     ]
    },
    {
     "name": "stderr",
     "output_type": "stream",
     "text": [
      "100%|██████████| 119/119 [00:05<00:00, 20.58batch/s, loss=0.806]\n"
     ]
    },
    {
     "name": "stdout",
     "output_type": "stream",
     "text": [
      "Epoch 85: Train Loss: 0.8110\n"
     ]
    },
    {
     "name": "stderr",
     "output_type": "stream",
     "text": [
      "100%|██████████| 119/119 [00:05<00:00, 20.27batch/s, loss=0.85] \n"
     ]
    },
    {
     "name": "stdout",
     "output_type": "stream",
     "text": [
      "Epoch 86: Train Loss: 0.8110\n"
     ]
    },
    {
     "name": "stderr",
     "output_type": "stream",
     "text": [
      "100%|██████████| 119/119 [00:05<00:00, 20.43batch/s, loss=0.716]\n"
     ]
    },
    {
     "name": "stdout",
     "output_type": "stream",
     "text": [
      "Epoch 87: Train Loss: 0.8109\n"
     ]
    },
    {
     "name": "stderr",
     "output_type": "stream",
     "text": [
      "100%|██████████| 119/119 [00:06<00:00, 19.67batch/s, loss=0.873]\n"
     ]
    },
    {
     "name": "stdout",
     "output_type": "stream",
     "text": [
      "Epoch 88: Train Loss: 0.8110\n"
     ]
    },
    {
     "name": "stderr",
     "output_type": "stream",
     "text": [
      "100%|██████████| 119/119 [00:05<00:00, 20.07batch/s, loss=0.772]\n"
     ]
    },
    {
     "name": "stdout",
     "output_type": "stream",
     "text": [
      "Epoch 89: Train Loss: 0.8109\n"
     ]
    },
    {
     "name": "stderr",
     "output_type": "stream",
     "text": [
      "100%|██████████| 119/119 [00:05<00:00, 20.23batch/s, loss=0.741]\n"
     ]
    },
    {
     "name": "stdout",
     "output_type": "stream",
     "text": [
      "Epoch 90: Train Loss: 0.8109\n"
     ]
    },
    {
     "name": "stderr",
     "output_type": "stream",
     "text": [
      "100%|██████████| 119/119 [00:05<00:00, 20.31batch/s, loss=0.878]\n"
     ]
    },
    {
     "name": "stdout",
     "output_type": "stream",
     "text": [
      "Epoch 91: Train Loss: 0.8110\n"
     ]
    },
    {
     "name": "stderr",
     "output_type": "stream",
     "text": [
      "100%|██████████| 119/119 [00:05<00:00, 20.41batch/s, loss=0.861]\n"
     ]
    },
    {
     "name": "stdout",
     "output_type": "stream",
     "text": [
      "Epoch 92: Train Loss: 0.8110\n"
     ]
    },
    {
     "name": "stderr",
     "output_type": "stream",
     "text": [
      "100%|██████████| 119/119 [00:05<00:00, 20.02batch/s, loss=0.8]  \n"
     ]
    },
    {
     "name": "stdout",
     "output_type": "stream",
     "text": [
      "Epoch 93: Train Loss: 0.8109\n"
     ]
    },
    {
     "name": "stderr",
     "output_type": "stream",
     "text": [
      "100%|██████████| 119/119 [00:05<00:00, 20.65batch/s, loss=0.844]\n"
     ]
    },
    {
     "name": "stdout",
     "output_type": "stream",
     "text": [
      "Epoch 94: Train Loss: 0.8110\n"
     ]
    },
    {
     "name": "stderr",
     "output_type": "stream",
     "text": [
      "100%|██████████| 119/119 [00:05<00:00, 20.25batch/s, loss=0.836]\n"
     ]
    },
    {
     "name": "stdout",
     "output_type": "stream",
     "text": [
      "Epoch 95: Train Loss: 0.8110\n"
     ]
    },
    {
     "name": "stderr",
     "output_type": "stream",
     "text": [
      "100%|██████████| 119/119 [00:05<00:00, 20.15batch/s, loss=0.76] \n"
     ]
    },
    {
     "name": "stdout",
     "output_type": "stream",
     "text": [
      "Epoch 96: Train Loss: 0.8109\n"
     ]
    },
    {
     "name": "stderr",
     "output_type": "stream",
     "text": [
      "100%|██████████| 119/119 [00:05<00:00, 20.03batch/s, loss=0.687]\n"
     ]
    },
    {
     "name": "stdout",
     "output_type": "stream",
     "text": [
      "Epoch 97: Train Loss: 0.8108\n"
     ]
    },
    {
     "name": "stderr",
     "output_type": "stream",
     "text": [
      "100%|██████████| 119/119 [00:05<00:00, 20.41batch/s, loss=0.782]\n"
     ]
    },
    {
     "name": "stdout",
     "output_type": "stream",
     "text": [
      "Epoch 98: Train Loss: 0.8109\n"
     ]
    },
    {
     "name": "stderr",
     "output_type": "stream",
     "text": [
      "100%|██████████| 119/119 [00:05<00:00, 20.27batch/s, loss=0.765]\n"
     ]
    },
    {
     "name": "stdout",
     "output_type": "stream",
     "text": [
      "Epoch 99: Train Loss: 0.8109\n",
      "Training complete.\n"
     ]
    }
   ],
   "source": [
    "###########################        Training ....      #################################\n",
    "def dice_loss(preds, targets, smooth=1e-6):\n",
    "    \"\"\"\n",
    "    Calculate Dice Loss across the 4 segmentation channels.\n",
    "    :param preds: Predicted output tensor of shape [batch_size, 4, height, width]\n",
    "    :param targets: Ground truth one-hot tensor of shape [batch_size, 4, height, width]\n",
    "    :param smooth: A small value to avoid division by zero\n",
    "    :return: Dice Loss (scalar)\n",
    "    \"\"\"\n",
    "    # Ensure that the prediction is in probability space (use softmax if logits are provided)\n",
    "    # Uncomment the following line if your model does not already output probabilities\n",
    "    preds = F.softmax(preds, dim=1)  # Apply softmax over channel dimension (4 channels)\n",
    "\n",
    "    # Flatten predictions and targets to calculate Dice coefficient for each channel\n",
    "    preds_flat = preds.contiguous().view(preds.shape[0], preds.shape[1], -1)  # [batch_size, 4, height*width]\n",
    "    targets_flat = targets.contiguous().view(targets.shape[0], targets.shape[1], -1)  # [batch_size, 4, height*width]\n",
    "\n",
    "    intersection = (preds_flat * targets_flat).sum(dim=2)  # Summing over height and width dimensions\n",
    "    union = preds_flat.sum(dim=2) + targets_flat.sum(dim=2)  # Sum of both sets\n",
    "\n",
    "    dice_coeff = (2.0 * intersection + smooth) / (union + smooth)  # Dice coefficient per channel\n",
    "    dice_loss = 1 - dice_coeff.mean()  # Average over the batch and channels\n",
    "\n",
    "    return dice_loss\n",
    "\n",
    "\n",
    "def evaluate_model(model, val_loader):\n",
    "    model.eval()\n",
    "    val_loss = 0.0\n",
    "    with torch.no_grad():\n",
    "        for batch in val_loader:\n",
    "            inputs = batch.float().to(device)\n",
    "           \n",
    "            outputs, _, _, _ = model(inputs)\n",
    "            outputs_binary = F.softmax(outputs, dim=1)\n",
    "            \n",
    "            # Loss and backward\n",
    "            loss = dice_loss(inputs, outputs)\n",
    "            \n",
    "            val_loss += loss.item()\n",
    "    \n",
    "    avg_val_loss = val_loss / len(val_loader.dataset)\n",
    "    return avg_val_loss\n",
    "\n",
    "\n",
    "model.train()\n",
    "train_loss_values = []\n",
    "codebook_loss_values = []\n",
    "commit_loss_values = []\n",
    "\n",
    "#track the evolution of reconstruction\n",
    "recons_evolution = []\n",
    "\n",
    "val_loss_values = []\n",
    "best_val_loss = float('inf')\n",
    "\n",
    "for epoch in range(epochs):\n",
    "\n",
    "    train_loss = 0.0\n",
    "    codebook_loss_epoch = 0.0\n",
    "    commit_loss_epoch = 0.0\n",
    "\n",
    "    with tqdm(enumerate(TrainLoader), unit=\"batch\", total=len(TrainLoader)) as tepoch:\n",
    "        for batch_idx, (inputs) in tepoch:\n",
    "            inputs = inputs.float().to(device)  # Move data to the appropriate device (GPU/CPU)\n",
    "            \n",
    "            # Zero gradients\n",
    "            optimizer.zero_grad()\n",
    "            \n",
    "            # Forward pass // args is a list containing : [output, input, vq_loss]\n",
    "            output, inputs, codebook_loss, commit_loss = model(inputs)\n",
    "            \n",
    "            # Loss and backward\n",
    "            loss = model.loss_function(output, inputs, codebook_loss, commit_loss)['loss']  # Use the loss function defined in the model\n",
    "            loss.backward()\n",
    "            optimizer.step()\n",
    "            \n",
    "            \n",
    "            # Track running loss\n",
    "            train_loss += loss.item()\n",
    "            codebook_loss_epoch += codebook_loss.item()\n",
    "            commit_loss_epoch += commit_loss.item()\n",
    "\n",
    "\n",
    "            # tqdm bar displays the loss\n",
    "            tepoch.set_postfix(loss=loss.item())\n",
    "\n",
    "    epoch_loss = train_loss / len(TrainLoader.dataset)\n",
    "    codebook_loss_epoch/= len(TrainLoader.dataset)\n",
    "    commit_loss_epoch/= len(TrainLoader.dataset)\n",
    "\n",
    "    train_loss_values.append(epoch_loss)\n",
    "    codebook_loss_values.append(codebook_loss_epoch)\n",
    "    commit_loss_values.append(commit_loss_epoch)\n",
    "\n",
    "    # Validation after each epoch\n",
    "    val_loss = evaluate_model(model, TestLoader)\n",
    "    val_loss_values.append(val_loss)\n",
    "\n",
    "    #track output precision progression every 10 epoch:\n",
    "    if (epoch%5 == 0 and epoch<50):\n",
    "        output, _, _, _ = model( vis_batch.float() )\n",
    "        recons_evolution.append(output)\n",
    "\n",
    "\n",
    "    #saving model if Loss values decreases\n",
    "    if val_loss < best_val_loss :\n",
    "        save_model(model, epoch)\n",
    "\n",
    "    print('Epoch {}: Train Loss: {:.4f}'.format(epoch, train_loss/len(TrainLoader)))\n",
    "\n",
    "print(\"Training complete.\")"
   ]
  },
  {
   "cell_type": "code",
   "execution_count": 18,
   "metadata": {},
   "outputs": [
    {
     "data": {
      "image/png": "[encoded data removed]",
      "text/plain": [
       "<Figure size 1000x500 with 1 Axes>"
      ]
     },
     "metadata": {},
     "output_type": "display_data"
    }
   ],
   "source": [
    "# Plot the training and validation losses\n",
    "plt.figure(figsize=(10, 5))\n",
    "plt.plot(train_loss_values, label='Train Loss')\n",
    "plt.plot(val_loss_values, label='Validation Loss')\n",
    "plt.xlabel('Iterations')\n",
    "plt.ylabel('Loss')\n",
    "plt.yscale('log')\n",
    "plt.title('Evolution of Loss')\n",
    "plt.legend()\n",
    "plt.grid()\n",
    "plt.show()"
   ]
  },
  {
   "cell_type": "code",
   "execution_count": 19,
   "metadata": {},
   "outputs": [
    {
     "data": {
      "image/png": "[encoded data removed]",
      "text/plain": [
       "<Figure size 1000x500 with 1 Axes>"
      ]
     },
     "metadata": {},
     "output_type": "display_data"
    }
   ],
   "source": [
    "recons_loss_values = np.array(train_loss_values) - (np.array(commit_loss_values) + np.array(codebook_loss_values))\n",
    "# Plot the training and validation losses\n",
    "plt.figure(figsize=(10, 5))\n",
    "# plt.plot(train_loss_values, label='Train Loss')\n",
    "# plt.plot(val_loss_values, label='Validation Loss')\n",
    "plt.plot(codebook_loss_values, label = \"CodeBook Loss\")\n",
    "plt.plot(commit_loss_values, label = \"Committement Loss\")\n",
    "plt.plot(recons_loss_values, label = \"recons Loss\")\n",
    "plt.xlabel('Iterations')\n",
    "plt.ylabel('Loss')\n",
    "plt.yscale('log')\n",
    "plt.title('Evolution of ELoss')\n",
    "plt.legend()\n",
    "plt.grid()\n",
    "plt.show()"
   ]
  },
  {
   "cell_type": "markdown",
   "metadata": {},
   "source": [
    "# Test ..."
   ]
  },
  {
   "cell_type": "code",
   "execution_count": 20,
   "metadata": {},
   "outputs": [
    {
     "data": {
      "image/png": "[encoded data removed]",
      "text/plain": [
       "<Figure size 1000x2000 with 32 Axes>"
      ]
     },
     "metadata": {},
     "output_type": "display_data"
    }
   ],
   "source": [
    "visualize_batch(vis_batch.detach().cpu(), title = \"ground truth\")"
   ]
  },
  {
   "cell_type": "code",
   "execution_count": 21,
   "metadata": {},
   "outputs": [
    {
     "data": {
      "image/png": "[encoded data removed]",
      "text/plain": [
       "<Figure size 1000x2000 with 32 Axes>"
      ]
     },
     "metadata": {},
     "output_type": "display_data"
    }
   ],
   "source": [
    "batch_hat = reconstruct(vis_batch, model)\n",
    "\n",
    "visualize_batch( batch_hat.detach().cpu(), title = \"model predicitons\")"
   ]
  },
  {
   "cell_type": "code",
   "execution_count": 22,
   "metadata": {},
   "outputs": [
    {
     "data": {
      "image/png": "[encoded data removed]",
      "text/plain": [
       "<Figure size 1000x2000 with 32 Axes>"
      ]
     },
     "metadata": {},
     "output_type": "display_data"
    }
   ],
   "source": [
    "visualize_batch(recons_evolution[-1].detach().cpu(), title = \"\")"
   ]
  },
  {
   "cell_type": "code",
   "execution_count": null,
   "metadata": {},
   "outputs": [],
   "source": []
  },
  {
   "cell_type": "code",
   "execution_count": null,
   "metadata": {},
   "outputs": [],
   "source": []
  }
 ],
 "metadata": {
  "kernelspec": {
   "display_name": "Python torch",
   "language": "python",
   "name": "torch"
  },
  "language_info": {
   "codemirror_mode": {
    "name": "ipython",
    "version": 3
   },
   "file_extension": ".py",
   "mimetype": "text/x-python",
   "name": "python",
   "nbconvert_exporter": "python",
   "pygments_lexer": "ipython3",
   "version": "3.9.20"
  }
 },
 "nbformat": 4,
 "nbformat_minor": 2
}
